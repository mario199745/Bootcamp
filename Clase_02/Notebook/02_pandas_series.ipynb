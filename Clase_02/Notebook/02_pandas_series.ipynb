{
  "cells": [
    {
      "cell_type": "markdown",
      "id": "4aa5f917-fcc2-4727-ad5e-0caa6ed6b01c",
      "metadata": {
        "id": "4aa5f917-fcc2-4727-ad5e-0caa6ed6b01c"
      },
      "source": [
        "## LIBRERÍA"
      ]
    },
    {
      "cell_type": "code",
      "execution_count": null,
      "id": "e127981b-f0df-47bc-bbbc-79b373f3853d",
      "metadata": {
        "id": "e127981b-f0df-47bc-bbbc-79b373f3853d"
      },
      "outputs": [],
      "source": [
        "import pandas as pd"
      ]
    },
    {
      "cell_type": "markdown",
      "id": "4c0140ea-5cbd-44a8-a0ac-1dd901ede3bd",
      "metadata": {
        "id": "4c0140ea-5cbd-44a8-a0ac-1dd901ede3bd"
      },
      "source": [
        "## CREANDO SERIES"
      ]
    },
    {
      "cell_type": "code",
      "execution_count": null,
      "id": "38dc7de1-f836-4229-9f5a-16b98496606e",
      "metadata": {
        "id": "38dc7de1-f836-4229-9f5a-16b98496606e",
        "outputId": "a6afc3dd-6ce6-4927-bc3c-9344b03697a9"
      },
      "outputs": [
        {
          "data": {
            "text/plain": [
              "0     Keith\n",
              "1      Juan\n",
              "2    Victor\n",
              "3     Jorge\n",
              "dtype: object"
            ]
          },
          "execution_count": 3,
          "metadata": {},
          "output_type": "execute_result"
        }
      ],
      "source": [
        "## Se pueden crear series a partir de arreglos, como las listas\n",
        "## Cuando se crea una serie, pandas inmediatamente crea índices empezando desde cero\n",
        "## También configura el nombre como None, veamos:\n",
        "\n",
        "## Hagamos una lista de profesores\n",
        "profes = [\"Keith\", \"Juan\", \"Victor\", \"Jorge\"]\n",
        "\n",
        "## Ahora vamos a crear una serie mediante la función pd.Series()\n",
        "serie_profes = pd.Series(profes)\n",
        "serie_profes"
      ]
    },
    {
      "cell_type": "code",
      "execution_count": null,
      "id": "b53f7827-5a46-4fdc-b824-76f7f726bd6f",
      "metadata": {
        "id": "b53f7827-5a46-4fdc-b824-76f7f726bd6f",
        "outputId": "77b217d8-28b6-4f20-a02f-14473de89d3f"
      },
      "outputs": [
        {
          "data": {
            "text/plain": [
              "'los_profes'"
            ]
          },
          "execution_count": 4,
          "metadata": {},
          "output_type": "execute_result"
        }
      ],
      "source": [
        "## Ahora, asignemos un nombre a la serie ;)\n",
        "serie_profes.name = \"los_profes\"\n",
        "serie_profes.name"
      ]
    },
    {
      "cell_type": "code",
      "execution_count": null,
      "id": "45992a0b-1208-4759-b854-49dc92770dfc",
      "metadata": {
        "id": "45992a0b-1208-4759-b854-49dc92770dfc",
        "outputId": "bd08f5d4-bcf7-4093-dc43-74f1aa6e0779"
      },
      "outputs": [
        {
          "data": {
            "text/plain": [
              "0     Keith\n",
              "1      Juan\n",
              "2    Victor\n",
              "3     Jorge\n",
              "Name: los_profes, dtype: object"
            ]
          },
          "execution_count": 5,
          "metadata": {},
          "output_type": "execute_result"
        }
      ],
      "source": [
        "serie_profes"
      ]
    },
    {
      "cell_type": "code",
      "execution_count": null,
      "id": "c6042092-213c-4538-ae1f-6e609e5ef1e5",
      "metadata": {
        "id": "c6042092-213c-4538-ae1f-6e609e5ef1e5",
        "outputId": "70fd2457-738f-426e-89af-037386275eca"
      },
      "outputs": [
        {
          "data": {
            "text/plain": [
              "0     1\n",
              "1     2\n",
              "2     3\n",
              "3     4\n",
              "4     5\n",
              "5     6\n",
              "6     7\n",
              "7     8\n",
              "8     9\n",
              "9    10\n",
              "dtype: int64"
            ]
          },
          "execution_count": 6,
          "metadata": {},
          "output_type": "execute_result"
        }
      ],
      "source": [
        "## Intentemos con números\n",
        "numeritos = [1, 2, 3, 4, 5, 6, 7, 8, 9, 10]\n",
        "\n",
        "serie_numeritos = pd.Series(numeritos)\n",
        "serie_numeritos"
      ]
    },
    {
      "cell_type": "code",
      "execution_count": null,
      "id": "c1bf4e41-7a29-4379-9ffc-599dd9261793",
      "metadata": {
        "id": "c1bf4e41-7a29-4379-9ffc-599dd9261793",
        "outputId": "2dd64b36-8305-415c-a04e-f51bb4f1def4"
      },
      "outputs": [
        {
          "data": {
            "text/plain": [
              "0    Sandy\n",
              "1    Julio\n",
              "2    Erick\n",
              "3     None\n",
              "dtype: object"
            ]
          },
          "execution_count": 7,
          "metadata": {},
          "output_type": "execute_result"
        }
      ],
      "source": [
        "## Cuando insertamos un valor None dentro de un arreglo de caracteres\n",
        "## pandas automáticamente utilizará el tipo de dato del que está conformado\n",
        "## el resto de elementos del arreglo\n",
        "\n",
        "estudiantes = [\"Sandy\", \"Julio\", \"Erick\", None]\n",
        "\n",
        "pd.Series(estudiantes)"
      ]
    },
    {
      "cell_type": "code",
      "execution_count": null,
      "id": "aa1c7793-37c2-4598-ba66-ceacee4e2750",
      "metadata": {
        "id": "aa1c7793-37c2-4598-ba66-ceacee4e2750",
        "outputId": "e48518de-b4c5-4f19-d58d-a5b35a83ce3c"
      },
      "outputs": [
        {
          "data": {
            "text/plain": [
              "0    1.0\n",
              "1    2.0\n",
              "2    3.0\n",
              "3    4.0\n",
              "4    NaN\n",
              "dtype: float64"
            ]
          },
          "execution_count": 8,
          "metadata": {},
          "output_type": "execute_result"
        }
      ],
      "source": [
        "## Cuando insertamos un valor None dentro de un arreglo de números\n",
        "## pandas automáticamente utilizará el tipo de dato del que está conformado\n",
        "## el resto de elementos del arreglo, en este caso lo volverá en un valor\n",
        "## especial de punto flotante, en este caso NaN\n",
        "\n",
        "numeritos_con_none = [1, 2, 3, 4, None]\n",
        "\n",
        "pd.Series(numeritos_con_none)"
      ]
    },
    {
      "cell_type": "code",
      "execution_count": null,
      "id": "7d24c538-5390-4a3a-9def-0b7dcd828d4a",
      "metadata": {
        "id": "7d24c538-5390-4a3a-9def-0b7dcd828d4a",
        "outputId": "0d313600-dc18-4e46-c0fb-117572beb6cc"
      },
      "outputs": [
        {
          "data": {
            "text/plain": [
              "False"
            ]
          },
          "execution_count": 9,
          "metadata": {},
          "output_type": "execute_result"
        }
      ],
      "source": [
        "## Importamos la librería numpy para generar un valor NaN (Not a Number)\n",
        "import numpy as np\n",
        "\n",
        "## Comparamos NaN vs None\n",
        "np.nan == None"
      ]
    },
    {
      "cell_type": "code",
      "execution_count": null,
      "id": "4bc28549-af81-4ebd-b19c-41e9ec73d406",
      "metadata": {
        "id": "4bc28549-af81-4ebd-b19c-41e9ec73d406",
        "outputId": "9209e004-4820-4e89-ec5a-e5e1687796f6"
      },
      "outputs": [
        {
          "data": {
            "text/plain": [
              "False"
            ]
          },
          "execution_count": 10,
          "metadata": {},
          "output_type": "execute_result"
        }
      ],
      "source": [
        "## Comparemos NaN vs NaN\n",
        "np.nan == np.nan"
      ]
    },
    {
      "cell_type": "code",
      "execution_count": null,
      "id": "49b1b7b9-2639-4850-8c6a-4f7161f1bb0c",
      "metadata": {
        "id": "49b1b7b9-2639-4850-8c6a-4f7161f1bb0c",
        "outputId": "f27150a2-a814-4ff1-ef4e-115dbdda32dc"
      },
      "outputs": [
        {
          "data": {
            "text/plain": [
              "True"
            ]
          },
          "execution_count": 11,
          "metadata": {},
          "output_type": "execute_result"
        }
      ],
      "source": [
        "## Verifiquemos si un datos es NaN con numpy\n",
        "np.isnan(np.nan)"
      ]
    },
    {
      "cell_type": "code",
      "execution_count": null,
      "id": "361d3240-eb98-44bf-bb22-f14dafff2606",
      "metadata": {
        "id": "361d3240-eb98-44bf-bb22-f14dafff2606",
        "outputId": "6da849b4-b8c8-4f1c-e6f6-53d6fe06e0f0"
      },
      "outputs": [
        {
          "data": {
            "text/plain": [
              "True"
            ]
          },
          "execution_count": 12,
          "metadata": {},
          "output_type": "execute_result"
        }
      ],
      "source": [
        "## Verifiquemos si un datos es NaN con pandas\n",
        "pd.isna(np.nan)"
      ]
    },
    {
      "cell_type": "code",
      "execution_count": null,
      "id": "6a9cacfe-750b-41f2-b7d2-10860ea5110c",
      "metadata": {
        "id": "6a9cacfe-750b-41f2-b7d2-10860ea5110c",
        "outputId": "b7c2113e-3ed1-4aad-fba1-b225fc791eb7"
      },
      "outputs": [
        {
          "data": {
            "text/plain": [
              "Ropa                      Polo\n",
              "Gadget              Smartphone\n",
              "Electrodoméstico    Microondas\n",
              "dtype: object"
            ]
          },
          "execution_count": 13,
          "metadata": {},
          "output_type": "execute_result"
        }
      ],
      "source": [
        "## Las series también pueden ser creadas a partir de diccionarios\n",
        "## En este caso la llave del diccionario será el índice de la serie\n",
        "## y el valor (value) del diccionario será el dato real\n",
        "\n",
        "diccionario_articulos = {\"Ropa\" : \"Polo\",\n",
        "                         \"Gadget\" : \"Smartphone\",\n",
        "                         \"Electrodoméstico\" : \"Microondas\"}\n",
        "\n",
        "serie_articulos = pd.Series(diccionario_articulos)\n",
        "serie_articulos"
      ]
    },
    {
      "cell_type": "code",
      "execution_count": null,
      "id": "80f9d8f5-769e-4025-900e-3542fd8ee41a",
      "metadata": {
        "id": "80f9d8f5-769e-4025-900e-3542fd8ee41a",
        "outputId": "cd13751b-18c8-48a7-ac4b-1fa07d5d2f87"
      },
      "outputs": [
        {
          "data": {
            "text/plain": [
              "Index(['Ropa', 'Gadget', 'Electrodoméstico'], dtype='object')"
            ]
          },
          "execution_count": 14,
          "metadata": {},
          "output_type": "execute_result"
        }
      ],
      "source": [
        "serie_articulos.index"
      ]
    },
    {
      "cell_type": "code",
      "execution_count": null,
      "id": "d6aaebab-c7ca-4fd8-afa6-d789ecd62116",
      "metadata": {
        "id": "d6aaebab-c7ca-4fd8-afa6-d789ecd62116",
        "outputId": "e540e539-8e8b-43bf-8319-94fb11f033a1"
      },
      "outputs": [
        {
          "data": {
            "text/plain": [
              "0      (Diana, Verde)\n",
              "1    (Carlos, Marrón)\n",
              "2         (Ana, Rojo)\n",
              "dtype: object"
            ]
          },
          "execution_count": 15,
          "metadata": {},
          "output_type": "execute_result"
        }
      ],
      "source": [
        "## Object no es el único tipo de dato para caracteres, sino también para otro tipo de objetos arbitrarios\n",
        "## Veamos con una lista de tuplas\n",
        "estudiantes = [(\"Diana\", \"Verde\"), (\"Carlos\", \"Marrón\"), (\"Ana\", \"Rojo\")]\n",
        "pd.Series(estudiantes)"
      ]
    },
    {
      "cell_type": "code",
      "execution_count": null,
      "id": "ff38e92f-b65e-4ee5-b8bd-c3588fdb4627",
      "metadata": {
        "id": "ff38e92f-b65e-4ee5-b8bd-c3588fdb4627",
        "outputId": "18e88976-f82d-4cb8-f93c-f0beb844cbfd"
      },
      "outputs": [
        {
          "data": {
            "text/plain": [
              "Peter Parker        PlayStation\n",
              "Shakira         Pelota de Voley\n",
              "Batman                   Laptop\n",
              "dtype: object"
            ]
          },
          "execution_count": 16,
          "metadata": {},
          "output_type": "execute_result"
        }
      ],
      "source": [
        "## También puedes pasar índices por separado dentro de la función pd.Series()\n",
        "## Intentemos en el siguiente ejemplo\n",
        "cosas = pd.Series([\"PlayStation\", \"Pelota de Voley\", \"Laptop\"],\n",
        "                  index = [\"Peter Parker\", \"Shakira\", \"Batman\"])\n",
        "\n",
        "cosas"
      ]
    },
    {
      "cell_type": "code",
      "execution_count": null,
      "id": "ca773815-9ca5-4a10-80ea-e418767f35fa",
      "metadata": {
        "id": "ca773815-9ca5-4a10-80ea-e418767f35fa",
        "outputId": "d48949c2-f824-4173-e03d-ac4615518989"
      },
      "outputs": [
        {
          "data": {
            "text/plain": [
              "Obi-Wan        Ciencia de Datos\n",
              "Pepe Grillo         Estadística\n",
              "Steven                      NaN\n",
              "dtype: object"
            ]
          },
          "execution_count": 17,
          "metadata": {},
          "output_type": "execute_result"
        }
      ],
      "source": [
        "## Cuando creas una serie a partir de un diccionario\n",
        "## y colocas índices diferentes a las llaves del diccionario\n",
        "## pandas va a priorizar los índices de la función pd.Series()\n",
        "## y aquellos valores cuyos índices no coincidan con las llaves del diccionario\n",
        "## se volverán NaN\n",
        "\n",
        "cursos_estudiantes = {\"Pepe Grillo\" : \"Estadística\",\n",
        "                      \"Blancanieves\" : \"Física Cuántica\",\n",
        "                      \"Obi-Wan\" : \"Ciencia de Datos\"}\n",
        "serie = pd.Series(cursos_estudiantes, index = [\"Obi-Wan\", \"Pepe Grillo\", \"Steven\"])\n",
        "serie"
      ]
    },
    {
      "cell_type": "markdown",
      "id": "e7f3d0ba-79ca-4bb0-aeed-e43ebbed2564",
      "metadata": {
        "id": "e7f3d0ba-79ca-4bb0-aeed-e43ebbed2564"
      },
      "source": [
        "## CONSULTA DE SERIES"
      ]
    },
    {
      "cell_type": "code",
      "execution_count": null,
      "id": "6ed25ce1-11ba-4d39-8a97-7de8da4ef968",
      "metadata": {
        "id": "6ed25ce1-11ba-4d39-8a97-7de8da4ef968",
        "outputId": "a949ec30-2498-48ac-ac4d-9302d42eff37"
      },
      "outputs": [
        {
          "data": {
            "text/plain": [
              "Optimus               Mecánica\n",
              "Shakira                 Música\n",
              "Bill Gates        Programación\n",
              "Flash         Educación Física\n",
              "dtype: object"
            ]
          },
          "execution_count": 18,
          "metadata": {},
          "output_type": "execute_result"
        }
      ],
      "source": [
        "## Una serie de pandas se puede consultar mediante la posición del índice o la etiqueta del índice.\n",
        "cursos_estudiantes_2 = {\"Optimus\" : \"Mecánica\",\n",
        "                        \"Shakira\" : \"Música\",\n",
        "                        \"Bill Gates\" : \"Programación\",\n",
        "                        \"Flash\" : \"Educación Física\"}\n",
        "serie_cursos_estudiantes_2 = pd.Series(cursos_estudiantes_2)\n",
        "serie_cursos_estudiantes_2"
      ]
    },
    {
      "cell_type": "code",
      "execution_count": null,
      "id": "e1519f79-12a3-4ea6-af2e-c973fd04e97e",
      "metadata": {
        "id": "e1519f79-12a3-4ea6-af2e-c973fd04e97e",
        "outputId": "e98cc4d0-bbf2-4c52-cbbe-da4a0d8b9162"
      },
      "outputs": [
        {
          "data": {
            "text/plain": [
              "'Educación Física'"
            ]
          },
          "execution_count": 19,
          "metadata": {},
          "output_type": "execute_result"
        }
      ],
      "source": [
        "## iloc es un atributo que nos permite ubicar con un número\n",
        "## la posición del índice del registro que queramos encontrar\n",
        "## En este caso buscaremos el cuarto registro,\n",
        "## para esto ingresamos el parámetro 3\n",
        "serie_cursos_estudiantes_2.iloc[3]"
      ]
    },
    {
      "cell_type": "code",
      "execution_count": null,
      "id": "3c5c27bb-f71b-43ac-9a5b-2f54b413b4ab",
      "metadata": {
        "id": "3c5c27bb-f71b-43ac-9a5b-2f54b413b4ab",
        "outputId": "eefdf711-f7f5-464d-b434-0f741f751d3e"
      },
      "outputs": [
        {
          "data": {
            "text/plain": [
              "'Educación Física'"
            ]
          },
          "execution_count": 20,
          "metadata": {},
          "output_type": "execute_result"
        }
      ],
      "source": [
        "## pandas te lo deja fácil, también es posible realizar sin iloc\n",
        "serie_cursos_estudiantes_2[3]"
      ]
    },
    {
      "cell_type": "code",
      "execution_count": null,
      "id": "bf2c8988-9266-402e-9693-c5181dc2de47",
      "metadata": {
        "id": "bf2c8988-9266-402e-9693-c5181dc2de47",
        "outputId": "c057e86e-6e31-4dca-85b5-2bce820fc63f"
      },
      "outputs": [
        {
          "data": {
            "text/plain": [
              "'Música'"
            ]
          },
          "execution_count": 21,
          "metadata": {},
          "output_type": "execute_result"
        }
      ],
      "source": [
        "## loc es un atributo que nos permite ubicar con la etiqueta del índice\n",
        "## el registro al que le pertenece\n",
        "## Supongamos que queremos saber a qué curso tiene asignado Shakira\n",
        "serie_cursos_estudiantes_2.loc[\"Shakira\"]"
      ]
    },
    {
      "cell_type": "code",
      "execution_count": null,
      "id": "c263842f-90f4-4c5a-91d1-8420865bdd31",
      "metadata": {
        "id": "c263842f-90f4-4c5a-91d1-8420865bdd31",
        "outputId": "13fec618-7b9b-42b3-dc13-0a024acc5f54"
      },
      "outputs": [
        {
          "data": {
            "text/plain": [
              "'Música'"
            ]
          },
          "execution_count": 22,
          "metadata": {},
          "output_type": "execute_result"
        }
      ],
      "source": [
        "## pandas te lo deja fácil, también es posible realizar sin loc\n",
        "serie_cursos_estudiantes_2[\"Shakira\"]"
      ]
    },
    {
      "cell_type": "code",
      "execution_count": null,
      "id": "ee37e915-ba7b-4718-bd74-11911256e1ce",
      "metadata": {
        "id": "ee37e915-ba7b-4718-bd74-11911256e1ce",
        "outputId": "6f3c9033-216f-41f4-dc59-b7bc8854529d"
      },
      "outputs": [
        {
          "data": {
            "text/plain": [
              "99       Física\n",
              "100     Química\n",
              "101      Inglés\n",
              "102    Historia\n",
              "dtype: object"
            ]
          },
          "execution_count": 23,
          "metadata": {},
          "output_type": "execute_result"
        }
      ],
      "source": [
        "## Hay que ser cuidadosos en el caso de que los índices provengan de una\n",
        "## lista de valores enteros debido a que pandas no puede determinar\n",
        "## automáticamente si quieres hacer consulta por posición o etiqueta de índice\n",
        "## La opción más segura es usando loc e iloc\n",
        "codigo_clase = {99 : \"Física\",\n",
        "                100 : \"Química\",\n",
        "                101 : \"Inglés\",\n",
        "                102 : \"Historia\"}\n",
        "\n",
        "series_codigo_clase = pd.Series(codigo_clase)\n",
        "series_codigo_clase"
      ]
    },
    {
      "cell_type": "code",
      "execution_count": null,
      "id": "30a134ad-b9b3-428c-a117-1a6872189bf1",
      "metadata": {
        "scrolled": true,
        "id": "30a134ad-b9b3-428c-a117-1a6872189bf1",
        "outputId": "4b9bae05-7fa0-4da6-a9e7-b47d49faf6d4"
      },
      "outputs": [
        {
          "ename": "KeyError",
          "evalue": "0",
          "output_type": "error",
          "traceback": [
            "\u001b[1;31m---------------------------------------------------------------------------\u001b[0m",
            "\u001b[1;31mKeyError\u001b[0m                                  Traceback (most recent call last)",
            "File \u001b[1;32m~\\AppData\\Local\\Programs\\Python\\Python311\\Lib\\site-packages\\pandas\\core\\indexes\\base.py:3653\u001b[0m, in \u001b[0;36mIndex.get_loc\u001b[1;34m(self, key)\u001b[0m\n\u001b[0;32m   3652\u001b[0m \u001b[38;5;28;01mtry\u001b[39;00m:\n\u001b[1;32m-> 3653\u001b[0m     \u001b[38;5;28;01mreturn\u001b[39;00m \u001b[38;5;28;43mself\u001b[39;49m\u001b[38;5;241;43m.\u001b[39;49m\u001b[43m_engine\u001b[49m\u001b[38;5;241;43m.\u001b[39;49m\u001b[43mget_loc\u001b[49m\u001b[43m(\u001b[49m\u001b[43mcasted_key\u001b[49m\u001b[43m)\u001b[49m\n\u001b[0;32m   3654\u001b[0m \u001b[38;5;28;01mexcept\u001b[39;00m \u001b[38;5;167;01mKeyError\u001b[39;00m \u001b[38;5;28;01mas\u001b[39;00m err:\n",
            "File \u001b[1;32m~\\AppData\\Local\\Programs\\Python\\Python311\\Lib\\site-packages\\pandas\\_libs\\index.pyx:147\u001b[0m, in \u001b[0;36mpandas._libs.index.IndexEngine.get_loc\u001b[1;34m()\u001b[0m\n",
            "File \u001b[1;32m~\\AppData\\Local\\Programs\\Python\\Python311\\Lib\\site-packages\\pandas\\_libs\\index.pyx:176\u001b[0m, in \u001b[0;36mpandas._libs.index.IndexEngine.get_loc\u001b[1;34m()\u001b[0m\n",
            "File \u001b[1;32mpandas\\_libs\\hashtable_class_helper.pxi:2606\u001b[0m, in \u001b[0;36mpandas._libs.hashtable.Int64HashTable.get_item\u001b[1;34m()\u001b[0m\n",
            "File \u001b[1;32mpandas\\_libs\\hashtable_class_helper.pxi:2630\u001b[0m, in \u001b[0;36mpandas._libs.hashtable.Int64HashTable.get_item\u001b[1;34m()\u001b[0m\n",
            "\u001b[1;31mKeyError\u001b[0m: 0",
            "\nThe above exception was the direct cause of the following exception:\n",
            "\u001b[1;31mKeyError\u001b[0m                                  Traceback (most recent call last)",
            "Cell \u001b[1;32mIn[24], line 1\u001b[0m\n\u001b[1;32m----> 1\u001b[0m \u001b[43mseries_codigo_clase\u001b[49m\u001b[43m[\u001b[49m\u001b[38;5;241;43m0\u001b[39;49m\u001b[43m]\u001b[49m\n",
            "File \u001b[1;32m~\\AppData\\Local\\Programs\\Python\\Python311\\Lib\\site-packages\\pandas\\core\\series.py:1007\u001b[0m, in \u001b[0;36mSeries.__getitem__\u001b[1;34m(self, key)\u001b[0m\n\u001b[0;32m   1004\u001b[0m     \u001b[38;5;28;01mreturn\u001b[39;00m \u001b[38;5;28mself\u001b[39m\u001b[38;5;241m.\u001b[39m_values[key]\n\u001b[0;32m   1006\u001b[0m \u001b[38;5;28;01melif\u001b[39;00m key_is_scalar:\n\u001b[1;32m-> 1007\u001b[0m     \u001b[38;5;28;01mreturn\u001b[39;00m \u001b[38;5;28;43mself\u001b[39;49m\u001b[38;5;241;43m.\u001b[39;49m\u001b[43m_get_value\u001b[49m\u001b[43m(\u001b[49m\u001b[43mkey\u001b[49m\u001b[43m)\u001b[49m\n\u001b[0;32m   1009\u001b[0m \u001b[38;5;28;01mif\u001b[39;00m is_hashable(key):\n\u001b[0;32m   1010\u001b[0m     \u001b[38;5;66;03m# Otherwise index.get_value will raise InvalidIndexError\u001b[39;00m\n\u001b[0;32m   1011\u001b[0m     \u001b[38;5;28;01mtry\u001b[39;00m:\n\u001b[0;32m   1012\u001b[0m         \u001b[38;5;66;03m# For labels that don't resolve as scalars like tuples and frozensets\u001b[39;00m\n",
            "File \u001b[1;32m~\\AppData\\Local\\Programs\\Python\\Python311\\Lib\\site-packages\\pandas\\core\\series.py:1116\u001b[0m, in \u001b[0;36mSeries._get_value\u001b[1;34m(self, label, takeable)\u001b[0m\n\u001b[0;32m   1113\u001b[0m     \u001b[38;5;28;01mreturn\u001b[39;00m \u001b[38;5;28mself\u001b[39m\u001b[38;5;241m.\u001b[39m_values[label]\n\u001b[0;32m   1115\u001b[0m \u001b[38;5;66;03m# Similar to Index.get_value, but we do not fall back to positional\u001b[39;00m\n\u001b[1;32m-> 1116\u001b[0m loc \u001b[38;5;241m=\u001b[39m \u001b[38;5;28;43mself\u001b[39;49m\u001b[38;5;241;43m.\u001b[39;49m\u001b[43mindex\u001b[49m\u001b[38;5;241;43m.\u001b[39;49m\u001b[43mget_loc\u001b[49m\u001b[43m(\u001b[49m\u001b[43mlabel\u001b[49m\u001b[43m)\u001b[49m\n\u001b[0;32m   1118\u001b[0m \u001b[38;5;28;01mif\u001b[39;00m is_integer(loc):\n\u001b[0;32m   1119\u001b[0m     \u001b[38;5;28;01mreturn\u001b[39;00m \u001b[38;5;28mself\u001b[39m\u001b[38;5;241m.\u001b[39m_values[loc]\n",
            "File \u001b[1;32m~\\AppData\\Local\\Programs\\Python\\Python311\\Lib\\site-packages\\pandas\\core\\indexes\\base.py:3655\u001b[0m, in \u001b[0;36mIndex.get_loc\u001b[1;34m(self, key)\u001b[0m\n\u001b[0;32m   3653\u001b[0m     \u001b[38;5;28;01mreturn\u001b[39;00m \u001b[38;5;28mself\u001b[39m\u001b[38;5;241m.\u001b[39m_engine\u001b[38;5;241m.\u001b[39mget_loc(casted_key)\n\u001b[0;32m   3654\u001b[0m \u001b[38;5;28;01mexcept\u001b[39;00m \u001b[38;5;167;01mKeyError\u001b[39;00m \u001b[38;5;28;01mas\u001b[39;00m err:\n\u001b[1;32m-> 3655\u001b[0m     \u001b[38;5;28;01mraise\u001b[39;00m \u001b[38;5;167;01mKeyError\u001b[39;00m(key) \u001b[38;5;28;01mfrom\u001b[39;00m \u001b[38;5;21;01merr\u001b[39;00m\n\u001b[0;32m   3656\u001b[0m \u001b[38;5;28;01mexcept\u001b[39;00m \u001b[38;5;167;01mTypeError\u001b[39;00m:\n\u001b[0;32m   3657\u001b[0m     \u001b[38;5;66;03m# If we have a listlike key, _check_indexing_error will raise\u001b[39;00m\n\u001b[0;32m   3658\u001b[0m     \u001b[38;5;66;03m#  InvalidIndexError. Otherwise we fall through and re-raise\u001b[39;00m\n\u001b[0;32m   3659\u001b[0m     \u001b[38;5;66;03m#  the TypeError.\u001b[39;00m\n\u001b[0;32m   3660\u001b[0m     \u001b[38;5;28mself\u001b[39m\u001b[38;5;241m.\u001b[39m_check_indexing_error(key)\n",
            "\u001b[1;31mKeyError\u001b[0m: 0"
          ]
        }
      ],
      "source": [
        "series_codigo_clase[0]"
      ]
    },
    {
      "cell_type": "code",
      "execution_count": null,
      "id": "e69c465c-5f4f-4436-8c43-086a76a9b798",
      "metadata": {
        "id": "e69c465c-5f4f-4436-8c43-086a76a9b798",
        "outputId": "eb7ed0bd-31ac-44be-b91d-dcad2706c8d7"
      },
      "outputs": [
        {
          "data": {
            "text/plain": [
              "'Física'"
            ]
          },
          "execution_count": 25,
          "metadata": {},
          "output_type": "execute_result"
        }
      ],
      "source": [
        "series_codigo_clase.iloc[0]"
      ]
    },
    {
      "cell_type": "code",
      "execution_count": null,
      "id": "bf89fe9a-936b-4404-a0da-55090b165482",
      "metadata": {
        "id": "bf89fe9a-936b-4404-a0da-55090b165482"
      },
      "outputs": [],
      "source": [
        "## Ahora veamos cómo podemos trabajar con los datos para\n",
        "## poder encontrar un número, esto pude conllevar\n",
        "## o bien un paso o varios pasos (transformaciones)"
      ]
    },
    {
      "cell_type": "code",
      "execution_count": null,
      "id": "c2f702b4-c6be-4ce0-a040-8c1781200a17",
      "metadata": {
        "id": "c2f702b4-c6be-4ce0-a040-8c1781200a17",
        "outputId": "c2dea8b0-8edc-4269-dadb-60524235b8b6"
      },
      "outputs": [
        {
          "name": "stdout",
          "output_type": "stream",
          "text": [
            "75.0\n"
          ]
        }
      ],
      "source": [
        "## Obteniendo promedio con series y python puro\n",
        "serie_num_clientes = pd.Series([90, 80, 70, 60])\n",
        "\n",
        "total = 0\n",
        "for numero in serie_num_clientes:\n",
        "    total += numero\n",
        "\n",
        "print(total/len(serie_num_clientes))"
      ]
    },
    {
      "cell_type": "code",
      "execution_count": null,
      "id": "c979b622-d207-474d-b7e0-c043dad108d8",
      "metadata": {
        "id": "c979b622-d207-474d-b7e0-c043dad108d8"
      },
      "outputs": [],
      "source": [
        "## Nos podemos apoyar con otras funciones, como sum de numpy\n",
        "## porque mediante la vectorización permite hacer cálculos en simultáneo\n",
        "## y obtener resultados en menor tiempo"
      ]
    },
    {
      "cell_type": "code",
      "execution_count": null,
      "id": "27e12eba-5ac6-45a5-b095-03514d27bba9",
      "metadata": {
        "id": "27e12eba-5ac6-45a5-b095-03514d27bba9",
        "outputId": "afecce18-7854-47b9-877c-23f43bad4635"
      },
      "outputs": [
        {
          "name": "stdout",
          "output_type": "stream",
          "text": [
            "75.0\n"
          ]
        }
      ],
      "source": [
        "total = np.sum(serie_num_clientes)\n",
        "print(total/len(serie_num_clientes))"
      ]
    },
    {
      "cell_type": "code",
      "execution_count": null,
      "id": "707e1ca0-6053-4f19-b5df-3fc6f38eefe4",
      "metadata": {
        "id": "707e1ca0-6053-4f19-b5df-3fc6f38eefe4"
      },
      "outputs": [],
      "source": [
        "## ¿Cómo podemos saber cuál forma de cálculo es la más rápida?\n",
        "## Nos apoyaremos en una función de Jupyter\n",
        "## Parte de Jupyter son las llamadas \"magic functions\"\n",
        "## que se invocan mediante %% y para saber cuáles están disponibles\n",
        "## bastará con escribir %% y seguido presionar Tab\n",
        "## Para esto vamos a crear un arreglo muy grande de números"
      ]
    },
    {
      "cell_type": "code",
      "execution_count": null,
      "id": "db8e62f7-35f5-45c3-85c2-98c65ff6e7d7",
      "metadata": {
        "id": "db8e62f7-35f5-45c3-85c2-98c65ff6e7d7",
        "outputId": "16131237-3fc8-42af-be57-ae84fa8514b7"
      },
      "outputs": [
        {
          "data": {
            "text/plain": [
              "0    944\n",
              "1    773\n",
              "2    121\n",
              "3    955\n",
              "4    736\n",
              "dtype: int32"
            ]
          },
          "execution_count": 31,
          "metadata": {},
          "output_type": "execute_result"
        }
      ],
      "source": [
        "numeros = pd.Series(np.random.randint(0, 1000, 10000))\n",
        "\n",
        "numeros.head()"
      ]
    },
    {
      "cell_type": "code",
      "execution_count": null,
      "id": "de0ca8a2-c5d7-4c93-8b86-f8379fa498b7",
      "metadata": {
        "id": "de0ca8a2-c5d7-4c93-8b86-f8379fa498b7",
        "outputId": "79138c6a-cd4a-4f3b-9881-d62d2db0f863"
      },
      "outputs": [
        {
          "data": {
            "text/plain": [
              "10000"
            ]
          },
          "execution_count": 32,
          "metadata": {},
          "output_type": "execute_result"
        }
      ],
      "source": [
        "len(numeros)"
      ]
    },
    {
      "cell_type": "code",
      "execution_count": null,
      "id": "f573e8af-9559-456a-89b5-d8ffaa40ad87",
      "metadata": {
        "id": "f573e8af-9559-456a-89b5-d8ffaa40ad87"
      },
      "outputs": [],
      "source": [
        "## Ahora utilicemos %%timeit -n 100 para realizar 100 repeticiones del mismo código\n",
        "## y obtener estadísticas sobre el tiempo de ejecución"
      ]
    },
    {
      "cell_type": "code",
      "execution_count": null,
      "id": "d1ecbd4b-f6c7-4f74-bc02-90cedc6d1a7a",
      "metadata": {
        "id": "d1ecbd4b-f6c7-4f74-bc02-90cedc6d1a7a",
        "outputId": "f76e1411-8a81-4e68-aea2-9aedd67b78d6"
      },
      "outputs": [
        {
          "name": "stdout",
          "output_type": "stream",
          "text": [
            "623 µs ± 18.7 µs per loop (mean ± std. dev. of 7 runs, 100 loops each)\n"
          ]
        }
      ],
      "source": [
        "%%timeit -n 100\n",
        "total = 0\n",
        "for numero in numeros:\n",
        "    total += numero\n",
        "total / len(numeros)"
      ]
    },
    {
      "cell_type": "code",
      "execution_count": null,
      "id": "d443e542-a986-4ebc-8836-222e67c47b24",
      "metadata": {
        "id": "d443e542-a986-4ebc-8836-222e67c47b24",
        "outputId": "cd0682fa-8f4e-45a3-f68c-aecdc10d14bc"
      },
      "outputs": [
        {
          "name": "stdout",
          "output_type": "stream",
          "text": [
            "43.9 µs ± 10.4 µs per loop (mean ± std. dev. of 7 runs, 100 loops each)\n"
          ]
        }
      ],
      "source": [
        "%%timeit -n 100\n",
        "total = np.sum(numeros)\n",
        "total / len(numeros)"
      ]
    },
    {
      "cell_type": "code",
      "execution_count": null,
      "id": "56ed65e3-e499-4bf5-9479-c57f33a1265c",
      "metadata": {
        "id": "56ed65e3-e499-4bf5-9479-c57f33a1265c"
      },
      "outputs": [],
      "source": [
        "## Observamos que mediante vectorización (uso de funciones como sum)\n",
        "## permite un cálculo más rápido"
      ]
    },
    {
      "cell_type": "code",
      "execution_count": null,
      "id": "7f4d2150-d8dc-4587-a669-9a7ad09ddb07",
      "metadata": {
        "id": "7f4d2150-d8dc-4587-a669-9a7ad09ddb07"
      },
      "outputs": [],
      "source": [
        "## El broadcast es una característica que tienen pandas y numpy\n",
        "## con esta característica se puede aplicar un operación sobre todos\n",
        "## los valores de la serie, cambiando así la serie"
      ]
    },
    {
      "cell_type": "code",
      "execution_count": null,
      "id": "8f6a01eb-d31c-4084-8d09-c81e0924d58d",
      "metadata": {
        "id": "8f6a01eb-d31c-4084-8d09-c81e0924d58d",
        "outputId": "d28e8aaa-7458-4d76-a0aa-8267476d097e"
      },
      "outputs": [
        {
          "data": {
            "text/plain": [
              "0    944\n",
              "1    773\n",
              "2    121\n",
              "3    955\n",
              "4    736\n",
              "dtype: int32"
            ]
          },
          "execution_count": 36,
          "metadata": {},
          "output_type": "execute_result"
        }
      ],
      "source": [
        "## Por ejemplo, cambiemos la serie mediante una operación de suma de 2\n",
        "numeros.head()"
      ]
    },
    {
      "cell_type": "code",
      "execution_count": null,
      "id": "6d9f5d80-caa1-47ac-900b-1cb19619fe66",
      "metadata": {
        "id": "6d9f5d80-caa1-47ac-900b-1cb19619fe66",
        "outputId": "5c29672a-b649-4025-b783-16fd56932380"
      },
      "outputs": [
        {
          "data": {
            "text/plain": [
              "0    946\n",
              "1    775\n",
              "2    123\n",
              "3    957\n",
              "4    738\n",
              "dtype: int32"
            ]
          },
          "execution_count": 37,
          "metadata": {},
          "output_type": "execute_result"
        }
      ],
      "source": [
        "numeros += 2\n",
        "numeros.head()"
      ]
    },
    {
      "cell_type": "code",
      "execution_count": null,
      "id": "bc1474ce-1598-46e9-bb3d-f8cf7b76f411",
      "metadata": {
        "id": "bc1474ce-1598-46e9-bb3d-f8cf7b76f411",
        "outputId": "19820d68-2c3f-4736-c493-1d6c46dff2a7"
      },
      "outputs": [
        {
          "data": {
            "text/plain": [
              "0    950\n",
              "1    779\n",
              "2    127\n",
              "3    961\n",
              "4    742\n",
              "dtype: int32"
            ]
          },
          "execution_count": 46,
          "metadata": {},
          "output_type": "execute_result"
        }
      ],
      "source": [
        "## La forma procedimental de hacer esto es iterar todos los elementos\n",
        "## de la serie e incrementar el valor directamente\n",
        "## Pandas también soporta iteraciones en series tales como el diccionario\n",
        "## permitiendo desempaquetar los valores fácilmente\n",
        "\n",
        "for indice, valor in numeros.items():\n",
        "    numeros.iat[indice] = valor + 2\n",
        "\n",
        "numeros.head()"
      ]
    },
    {
      "cell_type": "code",
      "execution_count": null,
      "id": "2a06121d-446c-4d01-a1a6-7979dcc817e6",
      "metadata": {
        "id": "2a06121d-446c-4d01-a1a6-7979dcc817e6",
        "outputId": "1138a3ae-ce36-4d53-9f74-8c45b56a4937"
      },
      "outputs": [
        {
          "name": "stdout",
          "output_type": "stream",
          "text": [
            "190 ms ± 7.55 ms per loop (mean ± std. dev. of 7 runs, 10 loops each)\n"
          ]
        }
      ],
      "source": [
        "%%timeit -n 10\n",
        "serie = pd.Series(np.random.randint(0, 1000, 10000))\n",
        "\n",
        "for indice, valor in serie.items():\n",
        "    serie.loc[indice] = valor + 2"
      ]
    },
    {
      "cell_type": "code",
      "execution_count": null,
      "id": "7a7eb0ae-df3f-4f2c-972a-64981524ebbf",
      "metadata": {
        "id": "7a7eb0ae-df3f-4f2c-972a-64981524ebbf",
        "outputId": "f89cd94b-ba19-415a-b01e-3a86f5106e51"
      },
      "outputs": [
        {
          "name": "stdout",
          "output_type": "stream",
          "text": [
            "202 µs ± 50.3 µs per loop (mean ± std. dev. of 7 runs, 10 loops each)\n"
          ]
        }
      ],
      "source": [
        "%%timeit -n 10\n",
        "serie = pd.Series(np.random.randint(0, 1000, 10000))\n",
        "serie += 2"
      ]
    },
    {
      "cell_type": "code",
      "execution_count": null,
      "id": "adda9812-8535-4c68-a0d0-8787769ab0dd",
      "metadata": {
        "id": "adda9812-8535-4c68-a0d0-8787769ab0dd"
      },
      "outputs": [],
      "source": [
        "## Se puede ver que mediante += es sumamente más rápido"
      ]
    },
    {
      "cell_type": "code",
      "execution_count": null,
      "id": "4ae0e237-bb45-4a09-b940-af101706bdd3",
      "metadata": {
        "id": "4ae0e237-bb45-4a09-b940-af101706bdd3"
      },
      "outputs": [],
      "source": [
        "## El atributo .loc no solo permite localizar un dato sino\n",
        "## también permite añadir un dato a la serie"
      ]
    },
    {
      "cell_type": "code",
      "execution_count": null,
      "id": "da183e1a-6b3a-4cac-aeaf-252f2fa45e30",
      "metadata": {
        "id": "da183e1a-6b3a-4cac-aeaf-252f2fa45e30",
        "outputId": "a4951cf4-97d7-4a45-e9dd-6dfb6d5f1472"
      },
      "outputs": [
        {
          "data": {
            "text/plain": [
              "0            1\n",
              "1            2\n",
              "2            3\n",
              "History    102\n",
              "dtype: int64"
            ]
          },
          "execution_count": 57,
          "metadata": {},
          "output_type": "execute_result"
        }
      ],
      "source": [
        "numeros = pd.Series([1, 2, 3])\n",
        "numeros.loc[\"History\"] = 102\n",
        "numeros"
      ]
    },
    {
      "cell_type": "code",
      "execution_count": null,
      "id": "9bf8a4be-44cc-4cf3-95fb-ca278bbb0e55",
      "metadata": {
        "id": "9bf8a4be-44cc-4cf3-95fb-ca278bbb0e55",
        "outputId": "9686b56f-8a21-4316-e570-8b7ab7d7577d"
      },
      "outputs": [
        {
          "data": {
            "text/plain": [
              "Shrek     Matemáticas\n",
              "Burro         Química\n",
              "Fiona          Karate\n",
              "Dragón      Filosofía\n",
              "dtype: object"
            ]
          },
          "execution_count": 58,
          "metadata": {},
          "output_type": "execute_result"
        }
      ],
      "source": [
        "clases_estudiantes = pd.Series({\"Shrek\" : \"Matemáticas\",\n",
        "                                \"Burro\" : \"Química\",\n",
        "                                \"Fiona\" : \"Karate\",\n",
        "                                \"Dragón\" : \"Filosofía\"})\n",
        "clases_estudiantes"
      ]
    },
    {
      "cell_type": "code",
      "execution_count": null,
      "id": "8f94820c-fcc8-4a86-a487-42d3af5234fd",
      "metadata": {
        "id": "8f94820c-fcc8-4a86-a487-42d3af5234fd",
        "outputId": "8ba5a829-0b08-4ea3-d97e-0bd3516ca558"
      },
      "outputs": [
        {
          "data": {
            "text/plain": [
              "Gato con Botas       Arte\n",
              "Gato con Botas    Kung-Fu\n",
              "Gato con Botas     Música\n",
              "dtype: object"
            ]
          },
          "execution_count": 59,
          "metadata": {},
          "output_type": "execute_result"
        }
      ],
      "source": [
        "clases_gato = pd.Series([\"Arte\", \"Kung-Fu\", \"Música\"],\n",
        "                        index = [\"Gato con Botas\", \"Gato con Botas\", \"Gato con Botas\"])\n",
        "clases_gato"
      ]
    },
    {
      "cell_type": "code",
      "execution_count": null,
      "id": "2b0fddb5-4b16-42a4-bd34-abb11ce7b5a4",
      "metadata": {
        "id": "2b0fddb5-4b16-42a4-bd34-abb11ce7b5a4",
        "outputId": "bfe64f54-8cbe-4157-a882-b25ddd265b28"
      },
      "outputs": [
        {
          "data": {
            "text/plain": [
              "Shrek             Matemáticas\n",
              "Burro                 Química\n",
              "Fiona                  Karate\n",
              "Dragón              Filosofía\n",
              "Gato con Botas           Arte\n",
              "Gato con Botas        Kung-Fu\n",
              "Gato con Botas         Música\n",
              "dtype: object"
            ]
          },
          "execution_count": 68,
          "metadata": {},
          "output_type": "execute_result"
        }
      ],
      "source": [
        "pd.concat([clases_estudiantes, clases_gato])"
      ]
    },
    {
      "cell_type": "markdown",
      "id": "7719335c-2ab7-4bf5-8f8c-f98e027f575d",
      "metadata": {
        "id": "7719335c-2ab7-4bf5-8f8c-f98e027f575d"
      },
      "source": [
        "## DATAFRAMES"
      ]
    },
    {
      "cell_type": "code",
      "execution_count": null,
      "id": "c89942f2-02fa-417a-8d02-d1360c9d2125",
      "metadata": {
        "id": "c89942f2-02fa-417a-8d02-d1360c9d2125"
      },
      "outputs": [],
      "source": [
        "import pandas as pd"
      ]
    },
    {
      "cell_type": "code",
      "execution_count": null,
      "id": "56487177-ecfa-4751-ad90-d81dbb47dc4e",
      "metadata": {
        "id": "56487177-ecfa-4751-ad90-d81dbb47dc4e"
      },
      "outputs": [],
      "source": [
        "registro_1 = pd.Series({\"Nombre\" : \"André C.\",\n",
        "                        \"Curso\" : \"Matemática\",\n",
        "                        \"Nota\" : 40})\n",
        "registro_2 = pd.Series({\"Nombre\" : \"José C.\",\n",
        "                        \"Curso\" : \"Alg. Lineal\",\n",
        "                        \"Nota\" : 40})\n",
        "registro_3 = pd.Series({\"Nombre\" : \"Juan Q.\",\n",
        "                        \"Curso\" : \"Programación 5\",\n",
        "                        \"Nota\" : 100})"
      ]
    },
    {
      "cell_type": "code",
      "execution_count": null,
      "id": "95fc6da2-7e88-4153-ab0a-74b3894c11ba",
      "metadata": {
        "id": "95fc6da2-7e88-4153-ab0a-74b3894c11ba",
        "outputId": "d9bd9998-3b24-405b-d6dc-f9898de638d0"
      },
      "outputs": [
        {
          "data": {
            "text/html": [
              "<div>\n",
              "<style scoped>\n",
              "    .dataframe tbody tr th:only-of-type {\n",
              "        vertical-align: middle;\n",
              "    }\n",
              "\n",
              "    .dataframe tbody tr th {\n",
              "        vertical-align: top;\n",
              "    }\n",
              "\n",
              "    .dataframe thead th {\n",
              "        text-align: right;\n",
              "    }\n",
              "</style>\n",
              "<table border=\"1\" class=\"dataframe\">\n",
              "  <thead>\n",
              "    <tr style=\"text-align: right;\">\n",
              "      <th></th>\n",
              "      <th>Nombre</th>\n",
              "      <th>Curso</th>\n",
              "      <th>Nota</th>\n",
              "    </tr>\n",
              "  </thead>\n",
              "  <tbody>\n",
              "    <tr>\n",
              "      <th>universidad1</th>\n",
              "      <td>André C.</td>\n",
              "      <td>Matemática</td>\n",
              "      <td>40</td>\n",
              "    </tr>\n",
              "    <tr>\n",
              "      <th>universidad2</th>\n",
              "      <td>José C.</td>\n",
              "      <td>Alg. Lineal</td>\n",
              "      <td>40</td>\n",
              "    </tr>\n",
              "    <tr>\n",
              "      <th>universidad3</th>\n",
              "      <td>Juan Q.</td>\n",
              "      <td>Programación 5</td>\n",
              "      <td>100</td>\n",
              "    </tr>\n",
              "  </tbody>\n",
              "</table>\n",
              "</div>"
            ],
            "text/plain": [
              "                Nombre           Curso  Nota\n",
              "universidad1  André C.      Matemática    40\n",
              "universidad2   José C.     Alg. Lineal    40\n",
              "universidad3   Juan Q.  Programación 5   100"
            ]
          },
          "execution_count": 3,
          "metadata": {},
          "output_type": "execute_result"
        }
      ],
      "source": [
        "df = pd.DataFrame([registro_1, registro_2, registro_3],\n",
        "                  index = [\"universidad1\", \"universidad2\", \"universidad3\"])\n",
        "df.head()"
      ]
    },
    {
      "cell_type": "code",
      "execution_count": null,
      "id": "e55d36d5-79cb-4346-b388-8305d790e40d",
      "metadata": {
        "id": "e55d36d5-79cb-4346-b388-8305d790e40d"
      },
      "outputs": [],
      "source": [
        "## Hay otra forma de crear dataframes, utilizando lista de diccionarios\n",
        "## donde cada diccionario representa una fila\n",
        "estudiantes = [{\"Nombre\" : \"André C.\",\n",
        "                \"Curso\" : \"Matemática\",\n",
        "                \"Nota\" : 40},\n",
        "               {\"Nombre\" : \"José C.\",\n",
        "                \"Curso\" : \"Alg. Lineal\",\n",
        "                \"Nota\" : 40},\n",
        "               {\"Nombre\" : \"Juan Q.\",\n",
        "                \"Curso\" : \"Programación 5\",\n",
        "                \"Nota\" : 100}]"
      ]
    },
    {
      "cell_type": "code",
      "execution_count": null,
      "id": "3f3f2808-6506-40ab-9f8b-36c3473e1057",
      "metadata": {
        "id": "3f3f2808-6506-40ab-9f8b-36c3473e1057",
        "outputId": "750d06ab-9d5e-4edf-84ed-7a3c44b98a99"
      },
      "outputs": [
        {
          "data": {
            "text/html": [
              "<div>\n",
              "<style scoped>\n",
              "    .dataframe tbody tr th:only-of-type {\n",
              "        vertical-align: middle;\n",
              "    }\n",
              "\n",
              "    .dataframe tbody tr th {\n",
              "        vertical-align: top;\n",
              "    }\n",
              "\n",
              "    .dataframe thead th {\n",
              "        text-align: right;\n",
              "    }\n",
              "</style>\n",
              "<table border=\"1\" class=\"dataframe\">\n",
              "  <thead>\n",
              "    <tr style=\"text-align: right;\">\n",
              "      <th></th>\n",
              "      <th>Nombre</th>\n",
              "      <th>Curso</th>\n",
              "      <th>Nota</th>\n",
              "    </tr>\n",
              "  </thead>\n",
              "  <tbody>\n",
              "    <tr>\n",
              "      <th>universidad1</th>\n",
              "      <td>André C.</td>\n",
              "      <td>Matemática</td>\n",
              "      <td>40</td>\n",
              "    </tr>\n",
              "    <tr>\n",
              "      <th>universidad2</th>\n",
              "      <td>José C.</td>\n",
              "      <td>Alg. Lineal</td>\n",
              "      <td>40</td>\n",
              "    </tr>\n",
              "    <tr>\n",
              "      <th>universidad3</th>\n",
              "      <td>Juan Q.</td>\n",
              "      <td>Programación 5</td>\n",
              "      <td>100</td>\n",
              "    </tr>\n",
              "  </tbody>\n",
              "</table>\n",
              "</div>"
            ],
            "text/plain": [
              "                Nombre           Curso  Nota\n",
              "universidad1  André C.      Matemática    40\n",
              "universidad2   José C.     Alg. Lineal    40\n",
              "universidad3   Juan Q.  Programación 5   100"
            ]
          },
          "execution_count": 5,
          "metadata": {},
          "output_type": "execute_result"
        }
      ],
      "source": [
        "## Pasamos la lista de diccionarios en la función pd.DataFrame()\n",
        "df = pd.DataFrame(estudiantes, index = [\"universidad1\", \"universidad2\", \"universidad3\"])\n",
        "df.head()"
      ]
    },
    {
      "cell_type": "code",
      "execution_count": null,
      "id": "9cd99422-f5f2-4184-aa8d-475e702cd42a",
      "metadata": {
        "id": "9cd99422-f5f2-4184-aa8d-475e702cd42a",
        "outputId": "aadae05b-184a-48bc-abee-e7d42a7b5cd7"
      },
      "outputs": [
        {
          "data": {
            "text/plain": [
              "Nombre        José C.\n",
              "Curso     Alg. Lineal\n",
              "Nota               40\n",
              "Name: universidad2, dtype: object"
            ]
          },
          "execution_count": 6,
          "metadata": {},
          "output_type": "execute_result"
        }
      ],
      "source": [
        "## Similar a las series, podemos extraer datos con .iloc y .loc\n",
        "## Un DataFrame es bidimensional y con loc o iloc puedes\n",
        "## retornar una fila en forma de serie colocando\n",
        "df.loc[\"universidad2\"]"
      ]
    },
    {
      "cell_type": "code",
      "execution_count": null,
      "id": "1c699a66-6324-4caa-9348-ec5ae75fbd9e",
      "metadata": {
        "id": "1c699a66-6324-4caa-9348-ec5ae75fbd9e",
        "outputId": "9c5be1ae-e105-4b72-8a12-f9c87f37bf89"
      },
      "outputs": [
        {
          "data": {
            "text/plain": [
              "pandas.core.series.Series"
            ]
          },
          "execution_count": 7,
          "metadata": {},
          "output_type": "execute_result"
        }
      ],
      "source": [
        "type(df.loc[\"universidad2\"])"
      ]
    },
    {
      "cell_type": "code",
      "execution_count": null,
      "id": "d0596a0d-a75d-4d65-842e-d8378050d278",
      "metadata": {
        "id": "d0596a0d-a75d-4d65-842e-d8378050d278",
        "outputId": "3334d54a-02cc-4666-cb29-022b4edfbf54"
      },
      "outputs": [
        {
          "data": {
            "text/plain": [
              "'André C.'"
            ]
          },
          "execution_count": 8,
          "metadata": {},
          "output_type": "execute_result"
        }
      ],
      "source": [
        "df.loc[\"universidad1\", \"Nombre\"]"
      ]
    },
    {
      "cell_type": "code",
      "execution_count": null,
      "id": "a0f913d8-1cfc-4b43-9562-efe10c4001c7",
      "metadata": {
        "id": "a0f913d8-1cfc-4b43-9562-efe10c4001c7",
        "outputId": "081c08b0-7db6-41fe-eadb-6ca8683ad305"
      },
      "outputs": [
        {
          "data": {
            "text/html": [
              "<div>\n",
              "<style scoped>\n",
              "    .dataframe tbody tr th:only-of-type {\n",
              "        vertical-align: middle;\n",
              "    }\n",
              "\n",
              "    .dataframe tbody tr th {\n",
              "        vertical-align: top;\n",
              "    }\n",
              "\n",
              "    .dataframe thead th {\n",
              "        text-align: right;\n",
              "    }\n",
              "</style>\n",
              "<table border=\"1\" class=\"dataframe\">\n",
              "  <thead>\n",
              "    <tr style=\"text-align: right;\">\n",
              "      <th></th>\n",
              "      <th>universidad1</th>\n",
              "      <th>universidad2</th>\n",
              "      <th>universidad3</th>\n",
              "    </tr>\n",
              "  </thead>\n",
              "  <tbody>\n",
              "    <tr>\n",
              "      <th>Nombre</th>\n",
              "      <td>André C.</td>\n",
              "      <td>José C.</td>\n",
              "      <td>Juan Q.</td>\n",
              "    </tr>\n",
              "    <tr>\n",
              "      <th>Curso</th>\n",
              "      <td>Matemática</td>\n",
              "      <td>Alg. Lineal</td>\n",
              "      <td>Programación 5</td>\n",
              "    </tr>\n",
              "    <tr>\n",
              "      <th>Nota</th>\n",
              "      <td>40</td>\n",
              "      <td>40</td>\n",
              "      <td>100</td>\n",
              "    </tr>\n",
              "  </tbody>\n",
              "</table>\n",
              "</div>"
            ],
            "text/plain": [
              "       universidad1 universidad2    universidad3\n",
              "Nombre     André C.      José C.         Juan Q.\n",
              "Curso    Matemática  Alg. Lineal  Programación 5\n",
              "Nota             40           40             100"
            ]
          },
          "execution_count": 9,
          "metadata": {},
          "output_type": "execute_result"
        }
      ],
      "source": [
        "df.T"
      ]
    },
    {
      "cell_type": "code",
      "execution_count": null,
      "id": "e57ca1b6-2267-489c-8838-633229b5b146",
      "metadata": {
        "id": "e57ca1b6-2267-489c-8838-633229b5b146",
        "outputId": "cdf861f7-07a9-487c-f604-f52735fa332b"
      },
      "outputs": [
        {
          "data": {
            "text/plain": [
              "universidad1    André C.\n",
              "universidad2     José C.\n",
              "universidad3     Juan Q.\n",
              "Name: Nombre, dtype: object"
            ]
          },
          "execution_count": 10,
          "metadata": {},
          "output_type": "execute_result"
        }
      ],
      "source": [
        "df.T.loc[\"Nombre\"]"
      ]
    },
    {
      "cell_type": "code",
      "execution_count": null,
      "id": "49436793-4351-4f61-8a21-e06dd8042910",
      "metadata": {
        "id": "49436793-4351-4f61-8a21-e06dd8042910",
        "outputId": "3355ee92-fc26-43f5-9e19-1994eb1a03a1"
      },
      "outputs": [
        {
          "data": {
            "text/plain": [
              "universidad1    André C.\n",
              "universidad2     José C.\n",
              "universidad3     Juan Q.\n",
              "Name: Nombre, dtype: object"
            ]
          },
          "execution_count": 11,
          "metadata": {},
          "output_type": "execute_result"
        }
      ],
      "source": [
        "df[\"Nombre\"]"
      ]
    },
    {
      "cell_type": "code",
      "execution_count": null,
      "id": "dc12b661-8c62-4eab-a177-19012c3c4c23",
      "metadata": {
        "scrolled": true,
        "id": "dc12b661-8c62-4eab-a177-19012c3c4c23",
        "outputId": "190c6bea-900b-4a5f-c55b-076934a644a2"
      },
      "outputs": [
        {
          "ename": "KeyError",
          "evalue": "'Nombre'",
          "output_type": "error",
          "traceback": [
            "\u001b[1;31m---------------------------------------------------------------------------\u001b[0m",
            "\u001b[1;31mKeyError\u001b[0m                                  Traceback (most recent call last)",
            "File \u001b[1;32m~\\AppData\\Local\\Programs\\Python\\Python311\\Lib\\site-packages\\pandas\\core\\indexes\\base.py:3653\u001b[0m, in \u001b[0;36mIndex.get_loc\u001b[1;34m(self, key)\u001b[0m\n\u001b[0;32m   3652\u001b[0m \u001b[38;5;28;01mtry\u001b[39;00m:\n\u001b[1;32m-> 3653\u001b[0m     \u001b[38;5;28;01mreturn\u001b[39;00m \u001b[38;5;28;43mself\u001b[39;49m\u001b[38;5;241;43m.\u001b[39;49m\u001b[43m_engine\u001b[49m\u001b[38;5;241;43m.\u001b[39;49m\u001b[43mget_loc\u001b[49m\u001b[43m(\u001b[49m\u001b[43mcasted_key\u001b[49m\u001b[43m)\u001b[49m\n\u001b[0;32m   3654\u001b[0m \u001b[38;5;28;01mexcept\u001b[39;00m \u001b[38;5;167;01mKeyError\u001b[39;00m \u001b[38;5;28;01mas\u001b[39;00m err:\n",
            "File \u001b[1;32m~\\AppData\\Local\\Programs\\Python\\Python311\\Lib\\site-packages\\pandas\\_libs\\index.pyx:147\u001b[0m, in \u001b[0;36mpandas._libs.index.IndexEngine.get_loc\u001b[1;34m()\u001b[0m\n",
            "File \u001b[1;32m~\\AppData\\Local\\Programs\\Python\\Python311\\Lib\\site-packages\\pandas\\_libs\\index.pyx:176\u001b[0m, in \u001b[0;36mpandas._libs.index.IndexEngine.get_loc\u001b[1;34m()\u001b[0m\n",
            "File \u001b[1;32mpandas\\_libs\\hashtable_class_helper.pxi:7080\u001b[0m, in \u001b[0;36mpandas._libs.hashtable.PyObjectHashTable.get_item\u001b[1;34m()\u001b[0m\n",
            "File \u001b[1;32mpandas\\_libs\\hashtable_class_helper.pxi:7088\u001b[0m, in \u001b[0;36mpandas._libs.hashtable.PyObjectHashTable.get_item\u001b[1;34m()\u001b[0m\n",
            "\u001b[1;31mKeyError\u001b[0m: 'Nombre'",
            "\nThe above exception was the direct cause of the following exception:\n",
            "\u001b[1;31mKeyError\u001b[0m                                  Traceback (most recent call last)",
            "Cell \u001b[1;32mIn[12], line 1\u001b[0m\n\u001b[1;32m----> 1\u001b[0m \u001b[43mdf\u001b[49m\u001b[38;5;241;43m.\u001b[39;49m\u001b[43mloc\u001b[49m\u001b[43m[\u001b[49m\u001b[38;5;124;43m\"\u001b[39;49m\u001b[38;5;124;43mNombre\u001b[39;49m\u001b[38;5;124;43m\"\u001b[39;49m\u001b[43m]\u001b[49m\n",
            "File \u001b[1;32m~\\AppData\\Local\\Programs\\Python\\Python311\\Lib\\site-packages\\pandas\\core\\indexing.py:1103\u001b[0m, in \u001b[0;36m_LocationIndexer.__getitem__\u001b[1;34m(self, key)\u001b[0m\n\u001b[0;32m   1100\u001b[0m axis \u001b[38;5;241m=\u001b[39m \u001b[38;5;28mself\u001b[39m\u001b[38;5;241m.\u001b[39maxis \u001b[38;5;129;01mor\u001b[39;00m \u001b[38;5;241m0\u001b[39m\n\u001b[0;32m   1102\u001b[0m maybe_callable \u001b[38;5;241m=\u001b[39m com\u001b[38;5;241m.\u001b[39mapply_if_callable(key, \u001b[38;5;28mself\u001b[39m\u001b[38;5;241m.\u001b[39mobj)\n\u001b[1;32m-> 1103\u001b[0m \u001b[38;5;28;01mreturn\u001b[39;00m \u001b[38;5;28;43mself\u001b[39;49m\u001b[38;5;241;43m.\u001b[39;49m\u001b[43m_getitem_axis\u001b[49m\u001b[43m(\u001b[49m\u001b[43mmaybe_callable\u001b[49m\u001b[43m,\u001b[49m\u001b[43m \u001b[49m\u001b[43maxis\u001b[49m\u001b[38;5;241;43m=\u001b[39;49m\u001b[43maxis\u001b[49m\u001b[43m)\u001b[49m\n",
            "File \u001b[1;32m~\\AppData\\Local\\Programs\\Python\\Python311\\Lib\\site-packages\\pandas\\core\\indexing.py:1343\u001b[0m, in \u001b[0;36m_LocIndexer._getitem_axis\u001b[1;34m(self, key, axis)\u001b[0m\n\u001b[0;32m   1341\u001b[0m \u001b[38;5;66;03m# fall thru to straight lookup\u001b[39;00m\n\u001b[0;32m   1342\u001b[0m \u001b[38;5;28mself\u001b[39m\u001b[38;5;241m.\u001b[39m_validate_key(key, axis)\n\u001b[1;32m-> 1343\u001b[0m \u001b[38;5;28;01mreturn\u001b[39;00m \u001b[38;5;28;43mself\u001b[39;49m\u001b[38;5;241;43m.\u001b[39;49m\u001b[43m_get_label\u001b[49m\u001b[43m(\u001b[49m\u001b[43mkey\u001b[49m\u001b[43m,\u001b[49m\u001b[43m \u001b[49m\u001b[43maxis\u001b[49m\u001b[38;5;241;43m=\u001b[39;49m\u001b[43maxis\u001b[49m\u001b[43m)\u001b[49m\n",
            "File \u001b[1;32m~\\AppData\\Local\\Programs\\Python\\Python311\\Lib\\site-packages\\pandas\\core\\indexing.py:1293\u001b[0m, in \u001b[0;36m_LocIndexer._get_label\u001b[1;34m(self, label, axis)\u001b[0m\n\u001b[0;32m   1291\u001b[0m \u001b[38;5;28;01mdef\u001b[39;00m \u001b[38;5;21m_get_label\u001b[39m(\u001b[38;5;28mself\u001b[39m, label, axis: AxisInt):\n\u001b[0;32m   1292\u001b[0m     \u001b[38;5;66;03m# GH#5567 this will fail if the label is not present in the axis.\u001b[39;00m\n\u001b[1;32m-> 1293\u001b[0m     \u001b[38;5;28;01mreturn\u001b[39;00m \u001b[38;5;28;43mself\u001b[39;49m\u001b[38;5;241;43m.\u001b[39;49m\u001b[43mobj\u001b[49m\u001b[38;5;241;43m.\u001b[39;49m\u001b[43mxs\u001b[49m\u001b[43m(\u001b[49m\u001b[43mlabel\u001b[49m\u001b[43m,\u001b[49m\u001b[43m \u001b[49m\u001b[43maxis\u001b[49m\u001b[38;5;241;43m=\u001b[39;49m\u001b[43maxis\u001b[49m\u001b[43m)\u001b[49m\n",
            "File \u001b[1;32m~\\AppData\\Local\\Programs\\Python\\Python311\\Lib\\site-packages\\pandas\\core\\generic.py:4095\u001b[0m, in \u001b[0;36mNDFrame.xs\u001b[1;34m(self, key, axis, level, drop_level)\u001b[0m\n\u001b[0;32m   4093\u001b[0m             new_index \u001b[38;5;241m=\u001b[39m index[loc]\n\u001b[0;32m   4094\u001b[0m \u001b[38;5;28;01melse\u001b[39;00m:\n\u001b[1;32m-> 4095\u001b[0m     loc \u001b[38;5;241m=\u001b[39m \u001b[43mindex\u001b[49m\u001b[38;5;241;43m.\u001b[39;49m\u001b[43mget_loc\u001b[49m\u001b[43m(\u001b[49m\u001b[43mkey\u001b[49m\u001b[43m)\u001b[49m\n\u001b[0;32m   4097\u001b[0m     \u001b[38;5;28;01mif\u001b[39;00m \u001b[38;5;28misinstance\u001b[39m(loc, np\u001b[38;5;241m.\u001b[39mndarray):\n\u001b[0;32m   4098\u001b[0m         \u001b[38;5;28;01mif\u001b[39;00m loc\u001b[38;5;241m.\u001b[39mdtype \u001b[38;5;241m==\u001b[39m np\u001b[38;5;241m.\u001b[39mbool_:\n",
            "File \u001b[1;32m~\\AppData\\Local\\Programs\\Python\\Python311\\Lib\\site-packages\\pandas\\core\\indexes\\base.py:3655\u001b[0m, in \u001b[0;36mIndex.get_loc\u001b[1;34m(self, key)\u001b[0m\n\u001b[0;32m   3653\u001b[0m     \u001b[38;5;28;01mreturn\u001b[39;00m \u001b[38;5;28mself\u001b[39m\u001b[38;5;241m.\u001b[39m_engine\u001b[38;5;241m.\u001b[39mget_loc(casted_key)\n\u001b[0;32m   3654\u001b[0m \u001b[38;5;28;01mexcept\u001b[39;00m \u001b[38;5;167;01mKeyError\u001b[39;00m \u001b[38;5;28;01mas\u001b[39;00m err:\n\u001b[1;32m-> 3655\u001b[0m     \u001b[38;5;28;01mraise\u001b[39;00m \u001b[38;5;167;01mKeyError\u001b[39;00m(key) \u001b[38;5;28;01mfrom\u001b[39;00m \u001b[38;5;21;01merr\u001b[39;00m\n\u001b[0;32m   3656\u001b[0m \u001b[38;5;28;01mexcept\u001b[39;00m \u001b[38;5;167;01mTypeError\u001b[39;00m:\n\u001b[0;32m   3657\u001b[0m     \u001b[38;5;66;03m# If we have a listlike key, _check_indexing_error will raise\u001b[39;00m\n\u001b[0;32m   3658\u001b[0m     \u001b[38;5;66;03m#  InvalidIndexError. Otherwise we fall through and re-raise\u001b[39;00m\n\u001b[0;32m   3659\u001b[0m     \u001b[38;5;66;03m#  the TypeError.\u001b[39;00m\n\u001b[0;32m   3660\u001b[0m     \u001b[38;5;28mself\u001b[39m\u001b[38;5;241m.\u001b[39m_check_indexing_error(key)\n",
            "\u001b[1;31mKeyError\u001b[0m: 'Nombre'"
          ]
        }
      ],
      "source": [
        "df.loc[\"Nombre\"]"
      ]
    },
    {
      "cell_type": "code",
      "execution_count": null,
      "id": "271d58f4-a5bb-47b6-bb4f-a1aaeaaed6f2",
      "metadata": {
        "id": "271d58f4-a5bb-47b6-bb4f-a1aaeaaed6f2",
        "outputId": "b4b6b09e-f801-4f51-f28b-1aaaf9a4a0ff"
      },
      "outputs": [
        {
          "data": {
            "text/plain": [
              "pandas.core.series.Series"
            ]
          },
          "execution_count": 14,
          "metadata": {},
          "output_type": "execute_result"
        }
      ],
      "source": [
        "type(df[\"Nombre\"])"
      ]
    },
    {
      "cell_type": "code",
      "execution_count": null,
      "id": "0d6a4eba-bc28-42cb-8a37-d18d1fae8943",
      "metadata": {
        "id": "0d6a4eba-bc28-42cb-8a37-d18d1fae8943",
        "outputId": "255c00a9-2177-4763-c33f-9697bc12351c"
      },
      "outputs": [
        {
          "data": {
            "text/plain": [
              "'André C.'"
            ]
          },
          "execution_count": 15,
          "metadata": {},
          "output_type": "execute_result"
        }
      ],
      "source": [
        "df.loc[\"universidad1\"][\"Nombre\"]"
      ]
    },
    {
      "cell_type": "code",
      "execution_count": null,
      "id": "c6bc7a49-c6cc-4908-a2d2-7027d6fa5d71",
      "metadata": {
        "id": "c6bc7a49-c6cc-4908-a2d2-7027d6fa5d71",
        "outputId": "937a8ee3-1e1c-460f-e82d-ebd866a2a2c4"
      },
      "outputs": [
        {
          "name": "stdout",
          "output_type": "stream",
          "text": [
            "<class 'pandas.core.series.Series'>\n",
            "<class 'str'>\n"
          ]
        }
      ],
      "source": [
        "print(type(df.loc[\"universidad1\"]))\n",
        "print(type(df.loc[\"universidad1\"][\"Nombre\"]))"
      ]
    },
    {
      "cell_type": "code",
      "execution_count": null,
      "id": "7b220a30-2112-4b46-8cb3-4c981c4ecc11",
      "metadata": {
        "id": "7b220a30-2112-4b46-8cb3-4c981c4ecc11",
        "outputId": "f3bff532-e64d-40a8-cbbf-672bf2edcb61"
      },
      "outputs": [
        {
          "data": {
            "text/html": [
              "<div>\n",
              "<style scoped>\n",
              "    .dataframe tbody tr th:only-of-type {\n",
              "        vertical-align: middle;\n",
              "    }\n",
              "\n",
              "    .dataframe tbody tr th {\n",
              "        vertical-align: top;\n",
              "    }\n",
              "\n",
              "    .dataframe thead th {\n",
              "        text-align: right;\n",
              "    }\n",
              "</style>\n",
              "<table border=\"1\" class=\"dataframe\">\n",
              "  <thead>\n",
              "    <tr style=\"text-align: right;\">\n",
              "      <th></th>\n",
              "      <th>Nombre</th>\n",
              "      <th>Nota</th>\n",
              "    </tr>\n",
              "  </thead>\n",
              "  <tbody>\n",
              "    <tr>\n",
              "      <th>universidad1</th>\n",
              "      <td>André C.</td>\n",
              "      <td>40</td>\n",
              "    </tr>\n",
              "    <tr>\n",
              "      <th>universidad2</th>\n",
              "      <td>José C.</td>\n",
              "      <td>40</td>\n",
              "    </tr>\n",
              "    <tr>\n",
              "      <th>universidad3</th>\n",
              "      <td>Juan Q.</td>\n",
              "      <td>100</td>\n",
              "    </tr>\n",
              "  </tbody>\n",
              "</table>\n",
              "</div>"
            ],
            "text/plain": [
              "                Nombre  Nota\n",
              "universidad1  André C.    40\n",
              "universidad2   José C.    40\n",
              "universidad3   Juan Q.   100"
            ]
          },
          "execution_count": 17,
          "metadata": {},
          "output_type": "execute_result"
        }
      ],
      "source": [
        "df.loc[:, [\"Nombre\", \"Nota\"]]"
      ]
    },
    {
      "cell_type": "code",
      "execution_count": null,
      "id": "dc003fed-f66c-4437-b0d6-55779c195dff",
      "metadata": {
        "id": "dc003fed-f66c-4437-b0d6-55779c195dff",
        "outputId": "a8495676-62d5-4b59-be71-48d4787dec3e"
      },
      "outputs": [
        {
          "data": {
            "text/html": [
              "<div>\n",
              "<style scoped>\n",
              "    .dataframe tbody tr th:only-of-type {\n",
              "        vertical-align: middle;\n",
              "    }\n",
              "\n",
              "    .dataframe tbody tr th {\n",
              "        vertical-align: top;\n",
              "    }\n",
              "\n",
              "    .dataframe thead th {\n",
              "        text-align: right;\n",
              "    }\n",
              "</style>\n",
              "<table border=\"1\" class=\"dataframe\">\n",
              "  <thead>\n",
              "    <tr style=\"text-align: right;\">\n",
              "      <th></th>\n",
              "      <th>Nombre</th>\n",
              "      <th>Curso</th>\n",
              "      <th>Nota</th>\n",
              "    </tr>\n",
              "  </thead>\n",
              "  <tbody>\n",
              "    <tr>\n",
              "      <th>universidad2</th>\n",
              "      <td>José C.</td>\n",
              "      <td>Alg. Lineal</td>\n",
              "      <td>40</td>\n",
              "    </tr>\n",
              "    <tr>\n",
              "      <th>universidad3</th>\n",
              "      <td>Juan Q.</td>\n",
              "      <td>Programación 5</td>\n",
              "      <td>100</td>\n",
              "    </tr>\n",
              "  </tbody>\n",
              "</table>\n",
              "</div>"
            ],
            "text/plain": [
              "               Nombre           Curso  Nota\n",
              "universidad2  José C.     Alg. Lineal    40\n",
              "universidad3  Juan Q.  Programación 5   100"
            ]
          },
          "execution_count": 18,
          "metadata": {},
          "output_type": "execute_result"
        }
      ],
      "source": [
        "df.drop(\"universidad1\")"
      ]
    },
    {
      "cell_type": "code",
      "execution_count": null,
      "id": "11d0f6fc-5c71-4808-bcef-47032c7b088e",
      "metadata": {
        "id": "11d0f6fc-5c71-4808-bcef-47032c7b088e",
        "outputId": "4da1122d-f665-4b6e-fe2f-65b4e5be063e"
      },
      "outputs": [
        {
          "data": {
            "text/html": [
              "<div>\n",
              "<style scoped>\n",
              "    .dataframe tbody tr th:only-of-type {\n",
              "        vertical-align: middle;\n",
              "    }\n",
              "\n",
              "    .dataframe tbody tr th {\n",
              "        vertical-align: top;\n",
              "    }\n",
              "\n",
              "    .dataframe thead th {\n",
              "        text-align: right;\n",
              "    }\n",
              "</style>\n",
              "<table border=\"1\" class=\"dataframe\">\n",
              "  <thead>\n",
              "    <tr style=\"text-align: right;\">\n",
              "      <th></th>\n",
              "      <th>Nombre</th>\n",
              "      <th>Curso</th>\n",
              "      <th>Nota</th>\n",
              "    </tr>\n",
              "  </thead>\n",
              "  <tbody>\n",
              "    <tr>\n",
              "      <th>universidad1</th>\n",
              "      <td>André C.</td>\n",
              "      <td>Matemática</td>\n",
              "      <td>40</td>\n",
              "    </tr>\n",
              "    <tr>\n",
              "      <th>universidad2</th>\n",
              "      <td>José C.</td>\n",
              "      <td>Alg. Lineal</td>\n",
              "      <td>40</td>\n",
              "    </tr>\n",
              "    <tr>\n",
              "      <th>universidad3</th>\n",
              "      <td>Juan Q.</td>\n",
              "      <td>Programación 5</td>\n",
              "      <td>100</td>\n",
              "    </tr>\n",
              "  </tbody>\n",
              "</table>\n",
              "</div>"
            ],
            "text/plain": [
              "                Nombre           Curso  Nota\n",
              "universidad1  André C.      Matemática    40\n",
              "universidad2   José C.     Alg. Lineal    40\n",
              "universidad3   Juan Q.  Programación 5   100"
            ]
          },
          "execution_count": 19,
          "metadata": {},
          "output_type": "execute_result"
        }
      ],
      "source": [
        "df"
      ]
    },
    {
      "cell_type": "code",
      "execution_count": null,
      "id": "f44e9d18-50f0-42e6-b10b-10334f42e9cb",
      "metadata": {
        "id": "f44e9d18-50f0-42e6-b10b-10334f42e9cb",
        "outputId": "93701430-d2ff-4a5f-bcaf-f489d29697c4"
      },
      "outputs": [
        {
          "data": {
            "text/html": [
              "<div>\n",
              "<style scoped>\n",
              "    .dataframe tbody tr th:only-of-type {\n",
              "        vertical-align: middle;\n",
              "    }\n",
              "\n",
              "    .dataframe tbody tr th {\n",
              "        vertical-align: top;\n",
              "    }\n",
              "\n",
              "    .dataframe thead th {\n",
              "        text-align: right;\n",
              "    }\n",
              "</style>\n",
              "<table border=\"1\" class=\"dataframe\">\n",
              "  <thead>\n",
              "    <tr style=\"text-align: right;\">\n",
              "      <th></th>\n",
              "      <th>Curso</th>\n",
              "      <th>Nota</th>\n",
              "    </tr>\n",
              "  </thead>\n",
              "  <tbody>\n",
              "    <tr>\n",
              "      <th>universidad1</th>\n",
              "      <td>Matemática</td>\n",
              "      <td>40</td>\n",
              "    </tr>\n",
              "    <tr>\n",
              "      <th>universidad2</th>\n",
              "      <td>Alg. Lineal</td>\n",
              "      <td>40</td>\n",
              "    </tr>\n",
              "    <tr>\n",
              "      <th>universidad3</th>\n",
              "      <td>Programación 5</td>\n",
              "      <td>100</td>\n",
              "    </tr>\n",
              "  </tbody>\n",
              "</table>\n",
              "</div>"
            ],
            "text/plain": [
              "                       Curso  Nota\n",
              "universidad1      Matemática    40\n",
              "universidad2     Alg. Lineal    40\n",
              "universidad3  Programación 5   100"
            ]
          },
          "execution_count": 20,
          "metadata": {},
          "output_type": "execute_result"
        }
      ],
      "source": [
        "copy_df = df.copy()\n",
        "\n",
        "copy_df.drop(\"Nombre\", inplace = True, axis = 1)\n",
        "copy_df"
      ]
    },
    {
      "cell_type": "code",
      "execution_count": null,
      "id": "92d64ba5-de3f-4c7c-afc5-adece8a8b929",
      "metadata": {
        "id": "92d64ba5-de3f-4c7c-afc5-adece8a8b929",
        "outputId": "f01fd640-18d6-4f18-f837-0608cb65ae52"
      },
      "outputs": [
        {
          "data": {
            "text/html": [
              "<div>\n",
              "<style scoped>\n",
              "    .dataframe tbody tr th:only-of-type {\n",
              "        vertical-align: middle;\n",
              "    }\n",
              "\n",
              "    .dataframe tbody tr th {\n",
              "        vertical-align: top;\n",
              "    }\n",
              "\n",
              "    .dataframe thead th {\n",
              "        text-align: right;\n",
              "    }\n",
              "</style>\n",
              "<table border=\"1\" class=\"dataframe\">\n",
              "  <thead>\n",
              "    <tr style=\"text-align: right;\">\n",
              "      <th></th>\n",
              "      <th>Nota</th>\n",
              "    </tr>\n",
              "  </thead>\n",
              "  <tbody>\n",
              "    <tr>\n",
              "      <th>universidad1</th>\n",
              "      <td>40</td>\n",
              "    </tr>\n",
              "    <tr>\n",
              "      <th>universidad2</th>\n",
              "      <td>40</td>\n",
              "    </tr>\n",
              "    <tr>\n",
              "      <th>universidad3</th>\n",
              "      <td>100</td>\n",
              "    </tr>\n",
              "  </tbody>\n",
              "</table>\n",
              "</div>"
            ],
            "text/plain": [
              "              Nota\n",
              "universidad1    40\n",
              "universidad2    40\n",
              "universidad3   100"
            ]
          },
          "execution_count": 21,
          "metadata": {},
          "output_type": "execute_result"
        }
      ],
      "source": [
        "del copy_df[\"Curso\"]\n",
        "copy_df"
      ]
    },
    {
      "cell_type": "code",
      "execution_count": null,
      "id": "ccdc26d0-fff9-45a5-aa08-7830cae4a34d",
      "metadata": {
        "id": "ccdc26d0-fff9-45a5-aa08-7830cae4a34d",
        "outputId": "1e5ce93a-0bde-494a-e206-722f9e0a6518"
      },
      "outputs": [
        {
          "data": {
            "text/html": [
              "<div>\n",
              "<style scoped>\n",
              "    .dataframe tbody tr th:only-of-type {\n",
              "        vertical-align: middle;\n",
              "    }\n",
              "\n",
              "    .dataframe tbody tr th {\n",
              "        vertical-align: top;\n",
              "    }\n",
              "\n",
              "    .dataframe thead th {\n",
              "        text-align: right;\n",
              "    }\n",
              "</style>\n",
              "<table border=\"1\" class=\"dataframe\">\n",
              "  <thead>\n",
              "    <tr style=\"text-align: right;\">\n",
              "      <th></th>\n",
              "      <th>Nombre</th>\n",
              "      <th>Curso</th>\n",
              "      <th>Nota</th>\n",
              "      <th>Posicion</th>\n",
              "    </tr>\n",
              "  </thead>\n",
              "  <tbody>\n",
              "    <tr>\n",
              "      <th>universidad1</th>\n",
              "      <td>André C.</td>\n",
              "      <td>Matemática</td>\n",
              "      <td>40</td>\n",
              "      <td>None</td>\n",
              "    </tr>\n",
              "    <tr>\n",
              "      <th>universidad2</th>\n",
              "      <td>José C.</td>\n",
              "      <td>Alg. Lineal</td>\n",
              "      <td>40</td>\n",
              "      <td>None</td>\n",
              "    </tr>\n",
              "    <tr>\n",
              "      <th>universidad3</th>\n",
              "      <td>Juan Q.</td>\n",
              "      <td>Programación 5</td>\n",
              "      <td>100</td>\n",
              "      <td>None</td>\n",
              "    </tr>\n",
              "  </tbody>\n",
              "</table>\n",
              "</div>"
            ],
            "text/plain": [
              "                Nombre           Curso  Nota Posicion\n",
              "universidad1  André C.      Matemática    40     None\n",
              "universidad2   José C.     Alg. Lineal    40     None\n",
              "universidad3   Juan Q.  Programación 5   100     None"
            ]
          },
          "execution_count": 22,
          "metadata": {},
          "output_type": "execute_result"
        }
      ],
      "source": [
        "df[\"Posicion\"] = None\n",
        "df"
      ]
    },
    {
      "cell_type": "markdown",
      "id": "62f67ec4-68d4-418a-ab79-24b17ceef232",
      "metadata": {
        "id": "62f67ec4-68d4-418a-ab79-24b17ceef232"
      },
      "source": [
        "## CONSULTA EN PANDAS"
      ]
    },
    {
      "cell_type": "code",
      "execution_count": null,
      "id": "992f0213-a587-4a74-8507-9afafa75ade4",
      "metadata": {
        "id": "992f0213-a587-4a74-8507-9afafa75ade4"
      },
      "outputs": [],
      "source": [
        "import pandas as pd"
      ]
    },
    {
      "cell_type": "code",
      "execution_count": null,
      "id": "d1d44133-7649-4dd1-ac30-1e536597abe7",
      "metadata": {
        "colab": {
          "base_uri": "https://localhost:8080/",
          "height": 423
        },
        "id": "d1d44133-7649-4dd1-ac30-1e536597abe7",
        "outputId": "5497da58-bc6d-47e5-e31f-b8578d681e67"
      },
      "outputs": [
        {
          "output_type": "execute_result",
          "data": {
            "text/plain": [
              "       species     island  bill_length_mm  bill_depth_mm  flipper_length_mm  \\\n",
              "0       Adelie  Torgersen            39.1           18.7              181.0   \n",
              "1       Adelie  Torgersen            39.5           17.4              186.0   \n",
              "2       Adelie  Torgersen            40.3           18.0              195.0   \n",
              "3       Adelie  Torgersen             NaN            NaN                NaN   \n",
              "4       Adelie  Torgersen            36.7           19.3              193.0   \n",
              "..         ...        ...             ...            ...                ...   \n",
              "339  Chinstrap      Dream            55.8           19.8              207.0   \n",
              "340  Chinstrap      Dream            43.5           18.1              202.0   \n",
              "341  Chinstrap      Dream            49.6           18.2              193.0   \n",
              "342  Chinstrap      Dream            50.8           19.0              210.0   \n",
              "343  Chinstrap      Dream            50.2           18.7              198.0   \n",
              "\n",
              "     body_mass_g     sex  year  \n",
              "0         3750.0    male  2007  \n",
              "1         3800.0  female  2007  \n",
              "2         3250.0  female  2007  \n",
              "3            NaN     NaN  2007  \n",
              "4         3450.0  female  2007  \n",
              "..           ...     ...   ...  \n",
              "339       4000.0    male  2009  \n",
              "340       3400.0  female  2009  \n",
              "341       3775.0    male  2009  \n",
              "342       4100.0    male  2009  \n",
              "343       3775.0  female  2009  \n",
              "\n",
              "[344 rows x 8 columns]"
            ],
            "text/html": [
              "\n",
              "  <div id=\"df-10a23316-0cf2-4e62-acbb-517d32fdfdda\" class=\"colab-df-container\">\n",
              "    <div>\n",
              "<style scoped>\n",
              "    .dataframe tbody tr th:only-of-type {\n",
              "        vertical-align: middle;\n",
              "    }\n",
              "\n",
              "    .dataframe tbody tr th {\n",
              "        vertical-align: top;\n",
              "    }\n",
              "\n",
              "    .dataframe thead th {\n",
              "        text-align: right;\n",
              "    }\n",
              "</style>\n",
              "<table border=\"1\" class=\"dataframe\">\n",
              "  <thead>\n",
              "    <tr style=\"text-align: right;\">\n",
              "      <th></th>\n",
              "      <th>species</th>\n",
              "      <th>island</th>\n",
              "      <th>bill_length_mm</th>\n",
              "      <th>bill_depth_mm</th>\n",
              "      <th>flipper_length_mm</th>\n",
              "      <th>body_mass_g</th>\n",
              "      <th>sex</th>\n",
              "      <th>year</th>\n",
              "    </tr>\n",
              "  </thead>\n",
              "  <tbody>\n",
              "    <tr>\n",
              "      <th>0</th>\n",
              "      <td>Adelie</td>\n",
              "      <td>Torgersen</td>\n",
              "      <td>39.1</td>\n",
              "      <td>18.7</td>\n",
              "      <td>181.0</td>\n",
              "      <td>3750.0</td>\n",
              "      <td>male</td>\n",
              "      <td>2007</td>\n",
              "    </tr>\n",
              "    <tr>\n",
              "      <th>1</th>\n",
              "      <td>Adelie</td>\n",
              "      <td>Torgersen</td>\n",
              "      <td>39.5</td>\n",
              "      <td>17.4</td>\n",
              "      <td>186.0</td>\n",
              "      <td>3800.0</td>\n",
              "      <td>female</td>\n",
              "      <td>2007</td>\n",
              "    </tr>\n",
              "    <tr>\n",
              "      <th>2</th>\n",
              "      <td>Adelie</td>\n",
              "      <td>Torgersen</td>\n",
              "      <td>40.3</td>\n",
              "      <td>18.0</td>\n",
              "      <td>195.0</td>\n",
              "      <td>3250.0</td>\n",
              "      <td>female</td>\n",
              "      <td>2007</td>\n",
              "    </tr>\n",
              "    <tr>\n",
              "      <th>3</th>\n",
              "      <td>Adelie</td>\n",
              "      <td>Torgersen</td>\n",
              "      <td>NaN</td>\n",
              "      <td>NaN</td>\n",
              "      <td>NaN</td>\n",
              "      <td>NaN</td>\n",
              "      <td>NaN</td>\n",
              "      <td>2007</td>\n",
              "    </tr>\n",
              "    <tr>\n",
              "      <th>4</th>\n",
              "      <td>Adelie</td>\n",
              "      <td>Torgersen</td>\n",
              "      <td>36.7</td>\n",
              "      <td>19.3</td>\n",
              "      <td>193.0</td>\n",
              "      <td>3450.0</td>\n",
              "      <td>female</td>\n",
              "      <td>2007</td>\n",
              "    </tr>\n",
              "    <tr>\n",
              "      <th>...</th>\n",
              "      <td>...</td>\n",
              "      <td>...</td>\n",
              "      <td>...</td>\n",
              "      <td>...</td>\n",
              "      <td>...</td>\n",
              "      <td>...</td>\n",
              "      <td>...</td>\n",
              "      <td>...</td>\n",
              "    </tr>\n",
              "    <tr>\n",
              "      <th>339</th>\n",
              "      <td>Chinstrap</td>\n",
              "      <td>Dream</td>\n",
              "      <td>55.8</td>\n",
              "      <td>19.8</td>\n",
              "      <td>207.0</td>\n",
              "      <td>4000.0</td>\n",
              "      <td>male</td>\n",
              "      <td>2009</td>\n",
              "    </tr>\n",
              "    <tr>\n",
              "      <th>340</th>\n",
              "      <td>Chinstrap</td>\n",
              "      <td>Dream</td>\n",
              "      <td>43.5</td>\n",
              "      <td>18.1</td>\n",
              "      <td>202.0</td>\n",
              "      <td>3400.0</td>\n",
              "      <td>female</td>\n",
              "      <td>2009</td>\n",
              "    </tr>\n",
              "    <tr>\n",
              "      <th>341</th>\n",
              "      <td>Chinstrap</td>\n",
              "      <td>Dream</td>\n",
              "      <td>49.6</td>\n",
              "      <td>18.2</td>\n",
              "      <td>193.0</td>\n",
              "      <td>3775.0</td>\n",
              "      <td>male</td>\n",
              "      <td>2009</td>\n",
              "    </tr>\n",
              "    <tr>\n",
              "      <th>342</th>\n",
              "      <td>Chinstrap</td>\n",
              "      <td>Dream</td>\n",
              "      <td>50.8</td>\n",
              "      <td>19.0</td>\n",
              "      <td>210.0</td>\n",
              "      <td>4100.0</td>\n",
              "      <td>male</td>\n",
              "      <td>2009</td>\n",
              "    </tr>\n",
              "    <tr>\n",
              "      <th>343</th>\n",
              "      <td>Chinstrap</td>\n",
              "      <td>Dream</td>\n",
              "      <td>50.2</td>\n",
              "      <td>18.7</td>\n",
              "      <td>198.0</td>\n",
              "      <td>3775.0</td>\n",
              "      <td>female</td>\n",
              "      <td>2009</td>\n",
              "    </tr>\n",
              "  </tbody>\n",
              "</table>\n",
              "<p>344 rows × 8 columns</p>\n",
              "</div>\n",
              "    <div class=\"colab-df-buttons\">\n",
              "\n",
              "  <div class=\"colab-df-container\">\n",
              "    <button class=\"colab-df-convert\" onclick=\"convertToInteractive('df-10a23316-0cf2-4e62-acbb-517d32fdfdda')\"\n",
              "            title=\"Convert this dataframe to an interactive table.\"\n",
              "            style=\"display:none;\">\n",
              "\n",
              "  <svg xmlns=\"http://www.w3.org/2000/svg\" height=\"24px\" viewBox=\"0 -960 960 960\">\n",
              "    <path d=\"M120-120v-720h720v720H120Zm60-500h600v-160H180v160Zm220 220h160v-160H400v160Zm0 220h160v-160H400v160ZM180-400h160v-160H180v160Zm440 0h160v-160H620v160ZM180-180h160v-160H180v160Zm440 0h160v-160H620v160Z\"/>\n",
              "  </svg>\n",
              "    </button>\n",
              "\n",
              "  <style>\n",
              "    .colab-df-container {\n",
              "      display:flex;\n",
              "      gap: 12px;\n",
              "    }\n",
              "\n",
              "    .colab-df-convert {\n",
              "      background-color: #E8F0FE;\n",
              "      border: none;\n",
              "      border-radius: 50%;\n",
              "      cursor: pointer;\n",
              "      display: none;\n",
              "      fill: #1967D2;\n",
              "      height: 32px;\n",
              "      padding: 0 0 0 0;\n",
              "      width: 32px;\n",
              "    }\n",
              "\n",
              "    .colab-df-convert:hover {\n",
              "      background-color: #E2EBFA;\n",
              "      box-shadow: 0px 1px 2px rgba(60, 64, 67, 0.3), 0px 1px 3px 1px rgba(60, 64, 67, 0.15);\n",
              "      fill: #174EA6;\n",
              "    }\n",
              "\n",
              "    .colab-df-buttons div {\n",
              "      margin-bottom: 4px;\n",
              "    }\n",
              "\n",
              "    [theme=dark] .colab-df-convert {\n",
              "      background-color: #3B4455;\n",
              "      fill: #D2E3FC;\n",
              "    }\n",
              "\n",
              "    [theme=dark] .colab-df-convert:hover {\n",
              "      background-color: #434B5C;\n",
              "      box-shadow: 0px 1px 3px 1px rgba(0, 0, 0, 0.15);\n",
              "      filter: drop-shadow(0px 1px 2px rgba(0, 0, 0, 0.3));\n",
              "      fill: #FFFFFF;\n",
              "    }\n",
              "  </style>\n",
              "\n",
              "    <script>\n",
              "      const buttonEl =\n",
              "        document.querySelector('#df-10a23316-0cf2-4e62-acbb-517d32fdfdda button.colab-df-convert');\n",
              "      buttonEl.style.display =\n",
              "        google.colab.kernel.accessAllowed ? 'block' : 'none';\n",
              "\n",
              "      async function convertToInteractive(key) {\n",
              "        const element = document.querySelector('#df-10a23316-0cf2-4e62-acbb-517d32fdfdda');\n",
              "        const dataTable =\n",
              "          await google.colab.kernel.invokeFunction('convertToInteractive',\n",
              "                                                    [key], {});\n",
              "        if (!dataTable) return;\n",
              "\n",
              "        const docLinkHtml = 'Like what you see? Visit the ' +\n",
              "          '<a target=\"_blank\" href=https://colab.research.google.com/notebooks/data_table.ipynb>data table notebook</a>'\n",
              "          + ' to learn more about interactive tables.';\n",
              "        element.innerHTML = '';\n",
              "        dataTable['output_type'] = 'display_data';\n",
              "        await google.colab.output.renderOutput(dataTable, element);\n",
              "        const docLink = document.createElement('div');\n",
              "        docLink.innerHTML = docLinkHtml;\n",
              "        element.appendChild(docLink);\n",
              "      }\n",
              "    </script>\n",
              "  </div>\n",
              "\n",
              "\n",
              "<div id=\"df-2c16a2fb-2a78-4f8d-9570-5fcfc9e1a68d\">\n",
              "  <button class=\"colab-df-quickchart\" onclick=\"quickchart('df-2c16a2fb-2a78-4f8d-9570-5fcfc9e1a68d')\"\n",
              "            title=\"Suggest charts.\"\n",
              "            style=\"display:none;\">\n",
              "\n",
              "<svg xmlns=\"http://www.w3.org/2000/svg\" height=\"24px\"viewBox=\"0 0 24 24\"\n",
              "     width=\"24px\">\n",
              "    <g>\n",
              "        <path d=\"M19 3H5c-1.1 0-2 .9-2 2v14c0 1.1.9 2 2 2h14c1.1 0 2-.9 2-2V5c0-1.1-.9-2-2-2zM9 17H7v-7h2v7zm4 0h-2V7h2v10zm4 0h-2v-4h2v4z\"/>\n",
              "    </g>\n",
              "</svg>\n",
              "  </button>\n",
              "\n",
              "<style>\n",
              "  .colab-df-quickchart {\n",
              "      --bg-color: #E8F0FE;\n",
              "      --fill-color: #1967D2;\n",
              "      --hover-bg-color: #E2EBFA;\n",
              "      --hover-fill-color: #174EA6;\n",
              "      --disabled-fill-color: #AAA;\n",
              "      --disabled-bg-color: #DDD;\n",
              "  }\n",
              "\n",
              "  [theme=dark] .colab-df-quickchart {\n",
              "      --bg-color: #3B4455;\n",
              "      --fill-color: #D2E3FC;\n",
              "      --hover-bg-color: #434B5C;\n",
              "      --hover-fill-color: #FFFFFF;\n",
              "      --disabled-bg-color: #3B4455;\n",
              "      --disabled-fill-color: #666;\n",
              "  }\n",
              "\n",
              "  .colab-df-quickchart {\n",
              "    background-color: var(--bg-color);\n",
              "    border: none;\n",
              "    border-radius: 50%;\n",
              "    cursor: pointer;\n",
              "    display: none;\n",
              "    fill: var(--fill-color);\n",
              "    height: 32px;\n",
              "    padding: 0;\n",
              "    width: 32px;\n",
              "  }\n",
              "\n",
              "  .colab-df-quickchart:hover {\n",
              "    background-color: var(--hover-bg-color);\n",
              "    box-shadow: 0 1px 2px rgba(60, 64, 67, 0.3), 0 1px 3px 1px rgba(60, 64, 67, 0.15);\n",
              "    fill: var(--button-hover-fill-color);\n",
              "  }\n",
              "\n",
              "  .colab-df-quickchart-complete:disabled,\n",
              "  .colab-df-quickchart-complete:disabled:hover {\n",
              "    background-color: var(--disabled-bg-color);\n",
              "    fill: var(--disabled-fill-color);\n",
              "    box-shadow: none;\n",
              "  }\n",
              "\n",
              "  .colab-df-spinner {\n",
              "    border: 2px solid var(--fill-color);\n",
              "    border-color: transparent;\n",
              "    border-bottom-color: var(--fill-color);\n",
              "    animation:\n",
              "      spin 1s steps(1) infinite;\n",
              "  }\n",
              "\n",
              "  @keyframes spin {\n",
              "    0% {\n",
              "      border-color: transparent;\n",
              "      border-bottom-color: var(--fill-color);\n",
              "      border-left-color: var(--fill-color);\n",
              "    }\n",
              "    20% {\n",
              "      border-color: transparent;\n",
              "      border-left-color: var(--fill-color);\n",
              "      border-top-color: var(--fill-color);\n",
              "    }\n",
              "    30% {\n",
              "      border-color: transparent;\n",
              "      border-left-color: var(--fill-color);\n",
              "      border-top-color: var(--fill-color);\n",
              "      border-right-color: var(--fill-color);\n",
              "    }\n",
              "    40% {\n",
              "      border-color: transparent;\n",
              "      border-right-color: var(--fill-color);\n",
              "      border-top-color: var(--fill-color);\n",
              "    }\n",
              "    60% {\n",
              "      border-color: transparent;\n",
              "      border-right-color: var(--fill-color);\n",
              "    }\n",
              "    80% {\n",
              "      border-color: transparent;\n",
              "      border-right-color: var(--fill-color);\n",
              "      border-bottom-color: var(--fill-color);\n",
              "    }\n",
              "    90% {\n",
              "      border-color: transparent;\n",
              "      border-bottom-color: var(--fill-color);\n",
              "    }\n",
              "  }\n",
              "</style>\n",
              "\n",
              "  <script>\n",
              "    async function quickchart(key) {\n",
              "      const quickchartButtonEl =\n",
              "        document.querySelector('#' + key + ' button');\n",
              "      quickchartButtonEl.disabled = true;  // To prevent multiple clicks.\n",
              "      quickchartButtonEl.classList.add('colab-df-spinner');\n",
              "      try {\n",
              "        const charts = await google.colab.kernel.invokeFunction(\n",
              "            'suggestCharts', [key], {});\n",
              "      } catch (error) {\n",
              "        console.error('Error during call to suggestCharts:', error);\n",
              "      }\n",
              "      quickchartButtonEl.classList.remove('colab-df-spinner');\n",
              "      quickchartButtonEl.classList.add('colab-df-quickchart-complete');\n",
              "    }\n",
              "    (() => {\n",
              "      let quickchartButtonEl =\n",
              "        document.querySelector('#df-2c16a2fb-2a78-4f8d-9570-5fcfc9e1a68d button');\n",
              "      quickchartButtonEl.style.display =\n",
              "        google.colab.kernel.accessAllowed ? 'block' : 'none';\n",
              "    })();\n",
              "  </script>\n",
              "</div>\n",
              "    </div>\n",
              "  </div>\n"
            ]
          },
          "metadata": {},
          "execution_count": 2
        }
      ],
      "source": [
        "data = pd.read_csv(\"DATA_PINGUINOS_CLASE.csv\")\n",
        "data"
      ]
    },
    {
      "cell_type": "markdown",
      "id": "8038f3e1-0fa3-4165-863d-c0bfe0c0a417",
      "metadata": {
        "id": "8038f3e1-0fa3-4165-863d-c0bfe0c0a417"
      },
      "source": [
        "### Mediante Condiciones"
      ]
    },
    {
      "cell_type": "code",
      "execution_count": null,
      "id": "5a3de7f8-eefb-4260-bc7d-fa8b1d3b710d",
      "metadata": {
        "id": "5a3de7f8-eefb-4260-bc7d-fa8b1d3b710d",
        "outputId": "bf0e1475-8a73-4b78-ef17-bac33cbef900"
      },
      "outputs": [
        {
          "data": {
            "text/plain": [
              "0       True\n",
              "1       True\n",
              "2       True\n",
              "3       True\n",
              "4       True\n",
              "       ...  \n",
              "339    False\n",
              "340    False\n",
              "341    False\n",
              "342    False\n",
              "343    False\n",
              "Name: species, Length: 344, dtype: bool"
            ]
          },
          "execution_count": 9,
          "metadata": {},
          "output_type": "execute_result"
        }
      ],
      "source": [
        "## Utilizando where()\n",
        "condicion_adelie = data[\"species\"] == \"Adelie\"\n",
        "condicion_adelie"
      ]
    },
    {
      "cell_type": "code",
      "execution_count": null,
      "id": "c40ae583-df85-4f2d-a369-fc59e3b30753",
      "metadata": {
        "id": "c40ae583-df85-4f2d-a369-fc59e3b30753",
        "outputId": "5f5237ff-0ca6-4c5f-e697-05160c83dac9"
      },
      "outputs": [
        {
          "data": {
            "text/html": [
              "<div>\n",
              "<style scoped>\n",
              "    .dataframe tbody tr th:only-of-type {\n",
              "        vertical-align: middle;\n",
              "    }\n",
              "\n",
              "    .dataframe tbody tr th {\n",
              "        vertical-align: top;\n",
              "    }\n",
              "\n",
              "    .dataframe thead th {\n",
              "        text-align: right;\n",
              "    }\n",
              "</style>\n",
              "<table border=\"1\" class=\"dataframe\">\n",
              "  <thead>\n",
              "    <tr style=\"text-align: right;\">\n",
              "      <th></th>\n",
              "      <th>species</th>\n",
              "      <th>island</th>\n",
              "      <th>bill_length_mm</th>\n",
              "      <th>bill_depth_mm</th>\n",
              "      <th>flipper_length_mm</th>\n",
              "      <th>body_mass_g</th>\n",
              "      <th>sex</th>\n",
              "      <th>year</th>\n",
              "    </tr>\n",
              "  </thead>\n",
              "  <tbody>\n",
              "    <tr>\n",
              "      <th>0</th>\n",
              "      <td>Adelie</td>\n",
              "      <td>Torgersen</td>\n",
              "      <td>39.1</td>\n",
              "      <td>18.7</td>\n",
              "      <td>181.0</td>\n",
              "      <td>3750.0</td>\n",
              "      <td>male</td>\n",
              "      <td>2007.0</td>\n",
              "    </tr>\n",
              "    <tr>\n",
              "      <th>1</th>\n",
              "      <td>Adelie</td>\n",
              "      <td>Torgersen</td>\n",
              "      <td>39.5</td>\n",
              "      <td>17.4</td>\n",
              "      <td>186.0</td>\n",
              "      <td>3800.0</td>\n",
              "      <td>female</td>\n",
              "      <td>2007.0</td>\n",
              "    </tr>\n",
              "    <tr>\n",
              "      <th>2</th>\n",
              "      <td>Adelie</td>\n",
              "      <td>Torgersen</td>\n",
              "      <td>40.3</td>\n",
              "      <td>18.0</td>\n",
              "      <td>195.0</td>\n",
              "      <td>3250.0</td>\n",
              "      <td>female</td>\n",
              "      <td>2007.0</td>\n",
              "    </tr>\n",
              "    <tr>\n",
              "      <th>3</th>\n",
              "      <td>Adelie</td>\n",
              "      <td>Torgersen</td>\n",
              "      <td>NaN</td>\n",
              "      <td>NaN</td>\n",
              "      <td>NaN</td>\n",
              "      <td>NaN</td>\n",
              "      <td>NaN</td>\n",
              "      <td>2007.0</td>\n",
              "    </tr>\n",
              "    <tr>\n",
              "      <th>4</th>\n",
              "      <td>Adelie</td>\n",
              "      <td>Torgersen</td>\n",
              "      <td>36.7</td>\n",
              "      <td>19.3</td>\n",
              "      <td>193.0</td>\n",
              "      <td>3450.0</td>\n",
              "      <td>female</td>\n",
              "      <td>2007.0</td>\n",
              "    </tr>\n",
              "    <tr>\n",
              "      <th>...</th>\n",
              "      <td>...</td>\n",
              "      <td>...</td>\n",
              "      <td>...</td>\n",
              "      <td>...</td>\n",
              "      <td>...</td>\n",
              "      <td>...</td>\n",
              "      <td>...</td>\n",
              "      <td>...</td>\n",
              "    </tr>\n",
              "    <tr>\n",
              "      <th>339</th>\n",
              "      <td>NaN</td>\n",
              "      <td>NaN</td>\n",
              "      <td>NaN</td>\n",
              "      <td>NaN</td>\n",
              "      <td>NaN</td>\n",
              "      <td>NaN</td>\n",
              "      <td>NaN</td>\n",
              "      <td>NaN</td>\n",
              "    </tr>\n",
              "    <tr>\n",
              "      <th>340</th>\n",
              "      <td>NaN</td>\n",
              "      <td>NaN</td>\n",
              "      <td>NaN</td>\n",
              "      <td>NaN</td>\n",
              "      <td>NaN</td>\n",
              "      <td>NaN</td>\n",
              "      <td>NaN</td>\n",
              "      <td>NaN</td>\n",
              "    </tr>\n",
              "    <tr>\n",
              "      <th>341</th>\n",
              "      <td>NaN</td>\n",
              "      <td>NaN</td>\n",
              "      <td>NaN</td>\n",
              "      <td>NaN</td>\n",
              "      <td>NaN</td>\n",
              "      <td>NaN</td>\n",
              "      <td>NaN</td>\n",
              "      <td>NaN</td>\n",
              "    </tr>\n",
              "    <tr>\n",
              "      <th>342</th>\n",
              "      <td>NaN</td>\n",
              "      <td>NaN</td>\n",
              "      <td>NaN</td>\n",
              "      <td>NaN</td>\n",
              "      <td>NaN</td>\n",
              "      <td>NaN</td>\n",
              "      <td>NaN</td>\n",
              "      <td>NaN</td>\n",
              "    </tr>\n",
              "    <tr>\n",
              "      <th>343</th>\n",
              "      <td>NaN</td>\n",
              "      <td>NaN</td>\n",
              "      <td>NaN</td>\n",
              "      <td>NaN</td>\n",
              "      <td>NaN</td>\n",
              "      <td>NaN</td>\n",
              "      <td>NaN</td>\n",
              "      <td>NaN</td>\n",
              "    </tr>\n",
              "  </tbody>\n",
              "</table>\n",
              "<p>344 rows × 8 columns</p>\n",
              "</div>"
            ],
            "text/plain": [
              "    species     island  bill_length_mm  bill_depth_mm  flipper_length_mm  \\\n",
              "0    Adelie  Torgersen            39.1           18.7              181.0   \n",
              "1    Adelie  Torgersen            39.5           17.4              186.0   \n",
              "2    Adelie  Torgersen            40.3           18.0              195.0   \n",
              "3    Adelie  Torgersen             NaN            NaN                NaN   \n",
              "4    Adelie  Torgersen            36.7           19.3              193.0   \n",
              "..      ...        ...             ...            ...                ...   \n",
              "339     NaN        NaN             NaN            NaN                NaN   \n",
              "340     NaN        NaN             NaN            NaN                NaN   \n",
              "341     NaN        NaN             NaN            NaN                NaN   \n",
              "342     NaN        NaN             NaN            NaN                NaN   \n",
              "343     NaN        NaN             NaN            NaN                NaN   \n",
              "\n",
              "     body_mass_g     sex    year  \n",
              "0         3750.0    male  2007.0  \n",
              "1         3800.0  female  2007.0  \n",
              "2         3250.0  female  2007.0  \n",
              "3            NaN     NaN  2007.0  \n",
              "4         3450.0  female  2007.0  \n",
              "..           ...     ...     ...  \n",
              "339          NaN     NaN     NaN  \n",
              "340          NaN     NaN     NaN  \n",
              "341          NaN     NaN     NaN  \n",
              "342          NaN     NaN     NaN  \n",
              "343          NaN     NaN     NaN  \n",
              "\n",
              "[344 rows x 8 columns]"
            ]
          },
          "execution_count": 10,
          "metadata": {},
          "output_type": "execute_result"
        }
      ],
      "source": [
        "data.where(condicion_adelie)"
      ]
    },
    {
      "cell_type": "code",
      "execution_count": null,
      "id": "a64509ab-f18f-4153-b571-e7b2359cb535",
      "metadata": {
        "id": "a64509ab-f18f-4153-b571-e7b2359cb535",
        "outputId": "84007967-7d05-480f-8904-25663c5f2927"
      },
      "outputs": [
        {
          "data": {
            "text/html": [
              "<div>\n",
              "<style scoped>\n",
              "    .dataframe tbody tr th:only-of-type {\n",
              "        vertical-align: middle;\n",
              "    }\n",
              "\n",
              "    .dataframe tbody tr th {\n",
              "        vertical-align: top;\n",
              "    }\n",
              "\n",
              "    .dataframe thead th {\n",
              "        text-align: right;\n",
              "    }\n",
              "</style>\n",
              "<table border=\"1\" class=\"dataframe\">\n",
              "  <thead>\n",
              "    <tr style=\"text-align: right;\">\n",
              "      <th></th>\n",
              "      <th>species</th>\n",
              "      <th>island</th>\n",
              "      <th>bill_length_mm</th>\n",
              "      <th>bill_depth_mm</th>\n",
              "      <th>flipper_length_mm</th>\n",
              "      <th>body_mass_g</th>\n",
              "      <th>sex</th>\n",
              "      <th>year</th>\n",
              "    </tr>\n",
              "  </thead>\n",
              "  <tbody>\n",
              "    <tr>\n",
              "      <th>0</th>\n",
              "      <td>Adelie</td>\n",
              "      <td>Torgersen</td>\n",
              "      <td>39.1</td>\n",
              "      <td>18.7</td>\n",
              "      <td>181.0</td>\n",
              "      <td>3750.0</td>\n",
              "      <td>male</td>\n",
              "      <td>2007.0</td>\n",
              "    </tr>\n",
              "    <tr>\n",
              "      <th>1</th>\n",
              "      <td>Adelie</td>\n",
              "      <td>Torgersen</td>\n",
              "      <td>39.5</td>\n",
              "      <td>17.4</td>\n",
              "      <td>186.0</td>\n",
              "      <td>3800.0</td>\n",
              "      <td>female</td>\n",
              "      <td>2007.0</td>\n",
              "    </tr>\n",
              "    <tr>\n",
              "      <th>2</th>\n",
              "      <td>Adelie</td>\n",
              "      <td>Torgersen</td>\n",
              "      <td>40.3</td>\n",
              "      <td>18.0</td>\n",
              "      <td>195.0</td>\n",
              "      <td>3250.0</td>\n",
              "      <td>female</td>\n",
              "      <td>2007.0</td>\n",
              "    </tr>\n",
              "    <tr>\n",
              "      <th>4</th>\n",
              "      <td>Adelie</td>\n",
              "      <td>Torgersen</td>\n",
              "      <td>36.7</td>\n",
              "      <td>19.3</td>\n",
              "      <td>193.0</td>\n",
              "      <td>3450.0</td>\n",
              "      <td>female</td>\n",
              "      <td>2007.0</td>\n",
              "    </tr>\n",
              "    <tr>\n",
              "      <th>5</th>\n",
              "      <td>Adelie</td>\n",
              "      <td>Torgersen</td>\n",
              "      <td>39.3</td>\n",
              "      <td>20.6</td>\n",
              "      <td>190.0</td>\n",
              "      <td>3650.0</td>\n",
              "      <td>male</td>\n",
              "      <td>2007.0</td>\n",
              "    </tr>\n",
              "    <tr>\n",
              "      <th>...</th>\n",
              "      <td>...</td>\n",
              "      <td>...</td>\n",
              "      <td>...</td>\n",
              "      <td>...</td>\n",
              "      <td>...</td>\n",
              "      <td>...</td>\n",
              "      <td>...</td>\n",
              "      <td>...</td>\n",
              "    </tr>\n",
              "    <tr>\n",
              "      <th>147</th>\n",
              "      <td>Adelie</td>\n",
              "      <td>Dream</td>\n",
              "      <td>36.6</td>\n",
              "      <td>18.4</td>\n",
              "      <td>184.0</td>\n",
              "      <td>3475.0</td>\n",
              "      <td>female</td>\n",
              "      <td>2009.0</td>\n",
              "    </tr>\n",
              "    <tr>\n",
              "      <th>148</th>\n",
              "      <td>Adelie</td>\n",
              "      <td>Dream</td>\n",
              "      <td>36.0</td>\n",
              "      <td>17.8</td>\n",
              "      <td>195.0</td>\n",
              "      <td>3450.0</td>\n",
              "      <td>female</td>\n",
              "      <td>2009.0</td>\n",
              "    </tr>\n",
              "    <tr>\n",
              "      <th>149</th>\n",
              "      <td>Adelie</td>\n",
              "      <td>Dream</td>\n",
              "      <td>37.8</td>\n",
              "      <td>18.1</td>\n",
              "      <td>193.0</td>\n",
              "      <td>3750.0</td>\n",
              "      <td>male</td>\n",
              "      <td>2009.0</td>\n",
              "    </tr>\n",
              "    <tr>\n",
              "      <th>150</th>\n",
              "      <td>Adelie</td>\n",
              "      <td>Dream</td>\n",
              "      <td>36.0</td>\n",
              "      <td>17.1</td>\n",
              "      <td>187.0</td>\n",
              "      <td>3700.0</td>\n",
              "      <td>female</td>\n",
              "      <td>2009.0</td>\n",
              "    </tr>\n",
              "    <tr>\n",
              "      <th>151</th>\n",
              "      <td>Adelie</td>\n",
              "      <td>Dream</td>\n",
              "      <td>41.5</td>\n",
              "      <td>18.5</td>\n",
              "      <td>201.0</td>\n",
              "      <td>4000.0</td>\n",
              "      <td>male</td>\n",
              "      <td>2009.0</td>\n",
              "    </tr>\n",
              "  </tbody>\n",
              "</table>\n",
              "<p>146 rows × 8 columns</p>\n",
              "</div>"
            ],
            "text/plain": [
              "    species     island  bill_length_mm  bill_depth_mm  flipper_length_mm  \\\n",
              "0    Adelie  Torgersen            39.1           18.7              181.0   \n",
              "1    Adelie  Torgersen            39.5           17.4              186.0   \n",
              "2    Adelie  Torgersen            40.3           18.0              195.0   \n",
              "4    Adelie  Torgersen            36.7           19.3              193.0   \n",
              "5    Adelie  Torgersen            39.3           20.6              190.0   \n",
              "..      ...        ...             ...            ...                ...   \n",
              "147  Adelie      Dream            36.6           18.4              184.0   \n",
              "148  Adelie      Dream            36.0           17.8              195.0   \n",
              "149  Adelie      Dream            37.8           18.1              193.0   \n",
              "150  Adelie      Dream            36.0           17.1              187.0   \n",
              "151  Adelie      Dream            41.5           18.5              201.0   \n",
              "\n",
              "     body_mass_g     sex    year  \n",
              "0         3750.0    male  2007.0  \n",
              "1         3800.0  female  2007.0  \n",
              "2         3250.0  female  2007.0  \n",
              "4         3450.0  female  2007.0  \n",
              "5         3650.0    male  2007.0  \n",
              "..           ...     ...     ...  \n",
              "147       3475.0  female  2009.0  \n",
              "148       3450.0  female  2009.0  \n",
              "149       3750.0    male  2009.0  \n",
              "150       3700.0  female  2009.0  \n",
              "151       4000.0    male  2009.0  \n",
              "\n",
              "[146 rows x 8 columns]"
            ]
          },
          "execution_count": 11,
          "metadata": {},
          "output_type": "execute_result"
        }
      ],
      "source": [
        "data.where(condicion_adelie).dropna()\n",
        "## esto permite obtener todos los registres con Adelie, pero ojo, hay que tener cuidado\n",
        "## si existen otros campos con valores nulos (NaN) porque dropna() por defecto elimina todas\n",
        "## las filas que tengan NaN en alguno de sus campos"
      ]
    },
    {
      "cell_type": "code",
      "execution_count": null,
      "id": "eb98f616-17a6-46f4-98e9-a4f9bc94402d",
      "metadata": {
        "id": "eb98f616-17a6-46f4-98e9-a4f9bc94402d",
        "outputId": "cb12eafc-0bfd-4f2a-9185-e33a549b70eb"
      },
      "outputs": [
        {
          "data": {
            "text/html": [
              "<div>\n",
              "<style scoped>\n",
              "    .dataframe tbody tr th:only-of-type {\n",
              "        vertical-align: middle;\n",
              "    }\n",
              "\n",
              "    .dataframe tbody tr th {\n",
              "        vertical-align: top;\n",
              "    }\n",
              "\n",
              "    .dataframe thead th {\n",
              "        text-align: right;\n",
              "    }\n",
              "</style>\n",
              "<table border=\"1\" class=\"dataframe\">\n",
              "  <thead>\n",
              "    <tr style=\"text-align: right;\">\n",
              "      <th></th>\n",
              "      <th>species</th>\n",
              "      <th>island</th>\n",
              "      <th>bill_length_mm</th>\n",
              "      <th>bill_depth_mm</th>\n",
              "      <th>flipper_length_mm</th>\n",
              "      <th>body_mass_g</th>\n",
              "      <th>sex</th>\n",
              "      <th>year</th>\n",
              "    </tr>\n",
              "  </thead>\n",
              "  <tbody>\n",
              "    <tr>\n",
              "      <th>0</th>\n",
              "      <td>Adelie</td>\n",
              "      <td>Torgersen</td>\n",
              "      <td>39.1</td>\n",
              "      <td>18.7</td>\n",
              "      <td>181.0</td>\n",
              "      <td>3750.0</td>\n",
              "      <td>male</td>\n",
              "      <td>2007</td>\n",
              "    </tr>\n",
              "    <tr>\n",
              "      <th>1</th>\n",
              "      <td>Adelie</td>\n",
              "      <td>Torgersen</td>\n",
              "      <td>39.5</td>\n",
              "      <td>17.4</td>\n",
              "      <td>186.0</td>\n",
              "      <td>3800.0</td>\n",
              "      <td>female</td>\n",
              "      <td>2007</td>\n",
              "    </tr>\n",
              "    <tr>\n",
              "      <th>2</th>\n",
              "      <td>Adelie</td>\n",
              "      <td>Torgersen</td>\n",
              "      <td>40.3</td>\n",
              "      <td>18.0</td>\n",
              "      <td>195.0</td>\n",
              "      <td>3250.0</td>\n",
              "      <td>female</td>\n",
              "      <td>2007</td>\n",
              "    </tr>\n",
              "    <tr>\n",
              "      <th>3</th>\n",
              "      <td>Adelie</td>\n",
              "      <td>Torgersen</td>\n",
              "      <td>NaN</td>\n",
              "      <td>NaN</td>\n",
              "      <td>NaN</td>\n",
              "      <td>NaN</td>\n",
              "      <td>NaN</td>\n",
              "      <td>2007</td>\n",
              "    </tr>\n",
              "    <tr>\n",
              "      <th>4</th>\n",
              "      <td>Adelie</td>\n",
              "      <td>Torgersen</td>\n",
              "      <td>36.7</td>\n",
              "      <td>19.3</td>\n",
              "      <td>193.0</td>\n",
              "      <td>3450.0</td>\n",
              "      <td>female</td>\n",
              "      <td>2007</td>\n",
              "    </tr>\n",
              "    <tr>\n",
              "      <th>...</th>\n",
              "      <td>...</td>\n",
              "      <td>...</td>\n",
              "      <td>...</td>\n",
              "      <td>...</td>\n",
              "      <td>...</td>\n",
              "      <td>...</td>\n",
              "      <td>...</td>\n",
              "      <td>...</td>\n",
              "    </tr>\n",
              "    <tr>\n",
              "      <th>147</th>\n",
              "      <td>Adelie</td>\n",
              "      <td>Dream</td>\n",
              "      <td>36.6</td>\n",
              "      <td>18.4</td>\n",
              "      <td>184.0</td>\n",
              "      <td>3475.0</td>\n",
              "      <td>female</td>\n",
              "      <td>2009</td>\n",
              "    </tr>\n",
              "    <tr>\n",
              "      <th>148</th>\n",
              "      <td>Adelie</td>\n",
              "      <td>Dream</td>\n",
              "      <td>36.0</td>\n",
              "      <td>17.8</td>\n",
              "      <td>195.0</td>\n",
              "      <td>3450.0</td>\n",
              "      <td>female</td>\n",
              "      <td>2009</td>\n",
              "    </tr>\n",
              "    <tr>\n",
              "      <th>149</th>\n",
              "      <td>Adelie</td>\n",
              "      <td>Dream</td>\n",
              "      <td>37.8</td>\n",
              "      <td>18.1</td>\n",
              "      <td>193.0</td>\n",
              "      <td>3750.0</td>\n",
              "      <td>male</td>\n",
              "      <td>2009</td>\n",
              "    </tr>\n",
              "    <tr>\n",
              "      <th>150</th>\n",
              "      <td>Adelie</td>\n",
              "      <td>Dream</td>\n",
              "      <td>36.0</td>\n",
              "      <td>17.1</td>\n",
              "      <td>187.0</td>\n",
              "      <td>3700.0</td>\n",
              "      <td>female</td>\n",
              "      <td>2009</td>\n",
              "    </tr>\n",
              "    <tr>\n",
              "      <th>151</th>\n",
              "      <td>Adelie</td>\n",
              "      <td>Dream</td>\n",
              "      <td>41.5</td>\n",
              "      <td>18.5</td>\n",
              "      <td>201.0</td>\n",
              "      <td>4000.0</td>\n",
              "      <td>male</td>\n",
              "      <td>2009</td>\n",
              "    </tr>\n",
              "  </tbody>\n",
              "</table>\n",
              "<p>152 rows × 8 columns</p>\n",
              "</div>"
            ],
            "text/plain": [
              "    species     island  bill_length_mm  bill_depth_mm  flipper_length_mm  \\\n",
              "0    Adelie  Torgersen            39.1           18.7              181.0   \n",
              "1    Adelie  Torgersen            39.5           17.4              186.0   \n",
              "2    Adelie  Torgersen            40.3           18.0              195.0   \n",
              "3    Adelie  Torgersen             NaN            NaN                NaN   \n",
              "4    Adelie  Torgersen            36.7           19.3              193.0   \n",
              "..      ...        ...             ...            ...                ...   \n",
              "147  Adelie      Dream            36.6           18.4              184.0   \n",
              "148  Adelie      Dream            36.0           17.8              195.0   \n",
              "149  Adelie      Dream            37.8           18.1              193.0   \n",
              "150  Adelie      Dream            36.0           17.1              187.0   \n",
              "151  Adelie      Dream            41.5           18.5              201.0   \n",
              "\n",
              "     body_mass_g     sex  year  \n",
              "0         3750.0    male  2007  \n",
              "1         3800.0  female  2007  \n",
              "2         3250.0  female  2007  \n",
              "3            NaN     NaN  2007  \n",
              "4         3450.0  female  2007  \n",
              "..           ...     ...   ...  \n",
              "147       3475.0  female  2009  \n",
              "148       3450.0  female  2009  \n",
              "149       3750.0    male  2009  \n",
              "150       3700.0  female  2009  \n",
              "151       4000.0    male  2009  \n",
              "\n",
              "[152 rows x 8 columns]"
            ]
          },
          "execution_count": 12,
          "metadata": {},
          "output_type": "execute_result"
        }
      ],
      "source": [
        "## Los desarrolladores de pandas han combinado la funcionalidad de where() y dropna()\n",
        "## mediante el uso de los corchetes []\n",
        "## se agrega algo de complejidad o texto al código pero la mayoría lo maneja así\n",
        "\n",
        "data[data[\"species\"] == \"Adelie\"]"
      ]
    },
    {
      "cell_type": "code",
      "execution_count": null,
      "id": "f79590f7-2eeb-4e38-8e4c-1e51d400f6b6",
      "metadata": {
        "id": "f79590f7-2eeb-4e38-8e4c-1e51d400f6b6",
        "outputId": "53299dfa-b3a6-4141-cb7a-f49345b69e62"
      },
      "outputs": [
        {
          "data": {
            "text/html": [
              "<div>\n",
              "<style scoped>\n",
              "    .dataframe tbody tr th:only-of-type {\n",
              "        vertical-align: middle;\n",
              "    }\n",
              "\n",
              "    .dataframe tbody tr th {\n",
              "        vertical-align: top;\n",
              "    }\n",
              "\n",
              "    .dataframe thead th {\n",
              "        text-align: right;\n",
              "    }\n",
              "</style>\n",
              "<table border=\"1\" class=\"dataframe\">\n",
              "  <thead>\n",
              "    <tr style=\"text-align: right;\">\n",
              "      <th></th>\n",
              "      <th>species</th>\n",
              "      <th>island</th>\n",
              "      <th>bill_length_mm</th>\n",
              "      <th>bill_depth_mm</th>\n",
              "      <th>flipper_length_mm</th>\n",
              "      <th>body_mass_g</th>\n",
              "      <th>sex</th>\n",
              "      <th>year</th>\n",
              "    </tr>\n",
              "  </thead>\n",
              "  <tbody>\n",
              "    <tr>\n",
              "      <th>153</th>\n",
              "      <td>Gentoo</td>\n",
              "      <td>Biscoe</td>\n",
              "      <td>50.0</td>\n",
              "      <td>16.3</td>\n",
              "      <td>230.0</td>\n",
              "      <td>5700.0</td>\n",
              "      <td>male</td>\n",
              "      <td>2007</td>\n",
              "    </tr>\n",
              "    <tr>\n",
              "      <th>155</th>\n",
              "      <td>Gentoo</td>\n",
              "      <td>Biscoe</td>\n",
              "      <td>50.0</td>\n",
              "      <td>15.2</td>\n",
              "      <td>218.0</td>\n",
              "      <td>5700.0</td>\n",
              "      <td>male</td>\n",
              "      <td>2007</td>\n",
              "    </tr>\n",
              "    <tr>\n",
              "      <th>172</th>\n",
              "      <td>Gentoo</td>\n",
              "      <td>Biscoe</td>\n",
              "      <td>50.2</td>\n",
              "      <td>14.3</td>\n",
              "      <td>218.0</td>\n",
              "      <td>5700.0</td>\n",
              "      <td>male</td>\n",
              "      <td>2007</td>\n",
              "    </tr>\n",
              "    <tr>\n",
              "      <th>181</th>\n",
              "      <td>Gentoo</td>\n",
              "      <td>Biscoe</td>\n",
              "      <td>50.0</td>\n",
              "      <td>15.3</td>\n",
              "      <td>220.0</td>\n",
              "      <td>5550.0</td>\n",
              "      <td>male</td>\n",
              "      <td>2007</td>\n",
              "    </tr>\n",
              "    <tr>\n",
              "      <th>185</th>\n",
              "      <td>Gentoo</td>\n",
              "      <td>Biscoe</td>\n",
              "      <td>59.6</td>\n",
              "      <td>17.0</td>\n",
              "      <td>230.0</td>\n",
              "      <td>6050.0</td>\n",
              "      <td>male</td>\n",
              "      <td>2007</td>\n",
              "    </tr>\n",
              "  </tbody>\n",
              "</table>\n",
              "</div>"
            ],
            "text/plain": [
              "    species  island  bill_length_mm  bill_depth_mm  flipper_length_mm  \\\n",
              "153  Gentoo  Biscoe            50.0           16.3              230.0   \n",
              "155  Gentoo  Biscoe            50.0           15.2              218.0   \n",
              "172  Gentoo  Biscoe            50.2           14.3              218.0   \n",
              "181  Gentoo  Biscoe            50.0           15.3              220.0   \n",
              "185  Gentoo  Biscoe            59.6           17.0              230.0   \n",
              "\n",
              "     body_mass_g   sex  year  \n",
              "153       5700.0  male  2007  \n",
              "155       5700.0  male  2007  \n",
              "172       5700.0  male  2007  \n",
              "181       5550.0  male  2007  \n",
              "185       6050.0  male  2007  "
            ]
          },
          "execution_count": 15,
          "metadata": {},
          "output_type": "execute_result"
        }
      ],
      "source": [
        "data[data[\"bill_length_mm\"] >= 50].head()"
      ]
    },
    {
      "cell_type": "code",
      "execution_count": null,
      "id": "77991a86-afde-4a1e-b774-adc4ec16688f",
      "metadata": {
        "id": "77991a86-afde-4a1e-b774-adc4ec16688f"
      },
      "outputs": [],
      "source": [
        "## Uso de múltiples condiciones"
      ]
    },
    {
      "cell_type": "code",
      "execution_count": null,
      "id": "359e0009-80d5-498c-8249-3bf503f30300",
      "metadata": {
        "id": "359e0009-80d5-498c-8249-3bf503f30300",
        "outputId": "2e73dd4f-2628-455b-b529-243718ce7252"
      },
      "outputs": [
        {
          "ename": "ValueError",
          "evalue": "The truth value of a Series is ambiguous. Use a.empty, a.bool(), a.item(), a.any() or a.all().",
          "output_type": "error",
          "traceback": [
            "\u001b[0;31m---------------------------------------------------------------------------\u001b[0m",
            "\u001b[0;31mValueError\u001b[0m                                Traceback (most recent call last)",
            "\u001b[0;32m/var/folders/hr/5xw4wmxx2gg5x5fycfwtl2h40000gn/T/ipykernel_14301/1213198614.py\u001b[0m in \u001b[0;36m?\u001b[0;34m()\u001b[0m\n\u001b[0;32m----> 1\u001b[0;31m \u001b[0;34m(\u001b[0m\u001b[0mdata\u001b[0m\u001b[0;34m[\u001b[0m\u001b[0;34m\"species\"\u001b[0m\u001b[0;34m]\u001b[0m \u001b[0;34m==\u001b[0m \u001b[0;34m\"Gentoo\"\u001b[0m\u001b[0;34m)\u001b[0m \u001b[0;32mand\u001b[0m \u001b[0;34m(\u001b[0m\u001b[0mdata\u001b[0m\u001b[0;34m[\u001b[0m\u001b[0;34m\"year\"\u001b[0m\u001b[0;34m]\u001b[0m \u001b[0;34m==\u001b[0m \u001b[0;36m2007\u001b[0m\u001b[0;34m)\u001b[0m\u001b[0;34m\u001b[0m\u001b[0;34m\u001b[0m\u001b[0m\n\u001b[0m",
            "\u001b[0;32m/Library/Frameworks/Python.framework/Versions/3.11/lib/python3.11/site-packages/pandas/core/generic.py\u001b[0m in \u001b[0;36m?\u001b[0;34m(self)\u001b[0m\n\u001b[1;32m   1464\u001b[0m     \u001b[0;34m@\u001b[0m\u001b[0mfinal\u001b[0m\u001b[0;34m\u001b[0m\u001b[0;34m\u001b[0m\u001b[0m\n\u001b[1;32m   1465\u001b[0m     \u001b[0;32mdef\u001b[0m \u001b[0m__nonzero__\u001b[0m\u001b[0;34m(\u001b[0m\u001b[0mself\u001b[0m\u001b[0;34m)\u001b[0m \u001b[0;34m->\u001b[0m \u001b[0mNoReturn\u001b[0m\u001b[0;34m:\u001b[0m\u001b[0;34m\u001b[0m\u001b[0;34m\u001b[0m\u001b[0m\n\u001b[0;32m-> 1466\u001b[0;31m         raise ValueError(\n\u001b[0m\u001b[1;32m   1467\u001b[0m             \u001b[0;34mf\"The truth value of a {type(self).__name__} is ambiguous. \"\u001b[0m\u001b[0;34m\u001b[0m\u001b[0;34m\u001b[0m\u001b[0m\n\u001b[1;32m   1468\u001b[0m             \u001b[0;34m\"Use a.empty, a.bool(), a.item(), a.any() or a.all().\"\u001b[0m\u001b[0;34m\u001b[0m\u001b[0;34m\u001b[0m\u001b[0m\n\u001b[1;32m   1469\u001b[0m         )\n",
            "\u001b[0;31mValueError\u001b[0m: The truth value of a Series is ambiguous. Use a.empty, a.bool(), a.item(), a.any() or a.all()."
          ]
        }
      ],
      "source": [
        "## Para pandas no es natural utilizar and y or en una condición\n",
        "(data[\"species\"] == \"Gentoo\") and (data[\"year\"] == 2007)"
      ]
    },
    {
      "cell_type": "code",
      "execution_count": null,
      "id": "b4029578-7f8d-43c0-895c-6339bbe64db4",
      "metadata": {
        "id": "b4029578-7f8d-43c0-895c-6339bbe64db4",
        "outputId": "caf17e69-93f5-4a3e-e2e1-19425936c9ba"
      },
      "outputs": [
        {
          "data": {
            "text/plain": [
              "0      False\n",
              "1      False\n",
              "2      False\n",
              "3      False\n",
              "4      False\n",
              "       ...  \n",
              "339    False\n",
              "340    False\n",
              "341    False\n",
              "342    False\n",
              "343    False\n",
              "Length: 344, dtype: bool"
            ]
          },
          "execution_count": 17,
          "metadata": {},
          "output_type": "execute_result"
        }
      ],
      "source": [
        "## En su lugar se utiliza &(and) o |(or)\n",
        "(data[\"species\"] == \"Gentoo\") & (data[\"year\"] == 2007)"
      ]
    },
    {
      "cell_type": "code",
      "execution_count": null,
      "id": "3487c1be-3dc9-467e-bf55-8473fc4b7176",
      "metadata": {
        "colab": {
          "base_uri": "https://localhost:8080/"
        },
        "id": "3487c1be-3dc9-467e-bf55-8473fc4b7176",
        "outputId": "c39a75f3-b920-483f-b3b7-bbf104c95ff6"
      },
      "outputs": [
        {
          "output_type": "execute_result",
          "data": {
            "text/plain": [
              "island\n",
              "Biscoe       168\n",
              "Dream        124\n",
              "Torgersen     52\n",
              "dtype: int64"
            ]
          },
          "metadata": {},
          "execution_count": 4
        }
      ],
      "source": [
        "data.value_counts('island')"
      ]
    },
    {
      "cell_type": "code",
      "source": [
        "data.query(\"island=='Dream'\")"
      ],
      "metadata": {
        "colab": {
          "base_uri": "https://localhost:8080/",
          "height": 423
        },
        "id": "06EPZvP-chwI",
        "outputId": "65cd5693-cdd1-433b-fda4-cb37a1e61da3"
      },
      "id": "06EPZvP-chwI",
      "execution_count": null,
      "outputs": [
        {
          "output_type": "execute_result",
          "data": {
            "text/plain": [
              "       species island  bill_length_mm  bill_depth_mm  flipper_length_mm  \\\n",
              "30      Adelie  Dream            39.5           16.7              178.0   \n",
              "31      Adelie  Dream            37.2           18.1              178.0   \n",
              "32      Adelie  Dream            39.5           17.8              188.0   \n",
              "33      Adelie  Dream            40.9           18.9              184.0   \n",
              "34      Adelie  Dream            36.4           17.0              195.0   \n",
              "..         ...    ...             ...            ...                ...   \n",
              "339  Chinstrap  Dream            55.8           19.8              207.0   \n",
              "340  Chinstrap  Dream            43.5           18.1              202.0   \n",
              "341  Chinstrap  Dream            49.6           18.2              193.0   \n",
              "342  Chinstrap  Dream            50.8           19.0              210.0   \n",
              "343  Chinstrap  Dream            50.2           18.7              198.0   \n",
              "\n",
              "     body_mass_g     sex  year  \n",
              "30        3250.0  female  2007  \n",
              "31        3900.0    male  2007  \n",
              "32        3300.0  female  2007  \n",
              "33        3900.0    male  2007  \n",
              "34        3325.0  female  2007  \n",
              "..           ...     ...   ...  \n",
              "339       4000.0    male  2009  \n",
              "340       3400.0  female  2009  \n",
              "341       3775.0    male  2009  \n",
              "342       4100.0    male  2009  \n",
              "343       3775.0  female  2009  \n",
              "\n",
              "[124 rows x 8 columns]"
            ],
            "text/html": [
              "\n",
              "  <div id=\"df-25cda580-51f3-496d-aff3-dd8588c848d0\" class=\"colab-df-container\">\n",
              "    <div>\n",
              "<style scoped>\n",
              "    .dataframe tbody tr th:only-of-type {\n",
              "        vertical-align: middle;\n",
              "    }\n",
              "\n",
              "    .dataframe tbody tr th {\n",
              "        vertical-align: top;\n",
              "    }\n",
              "\n",
              "    .dataframe thead th {\n",
              "        text-align: right;\n",
              "    }\n",
              "</style>\n",
              "<table border=\"1\" class=\"dataframe\">\n",
              "  <thead>\n",
              "    <tr style=\"text-align: right;\">\n",
              "      <th></th>\n",
              "      <th>species</th>\n",
              "      <th>island</th>\n",
              "      <th>bill_length_mm</th>\n",
              "      <th>bill_depth_mm</th>\n",
              "      <th>flipper_length_mm</th>\n",
              "      <th>body_mass_g</th>\n",
              "      <th>sex</th>\n",
              "      <th>year</th>\n",
              "    </tr>\n",
              "  </thead>\n",
              "  <tbody>\n",
              "    <tr>\n",
              "      <th>30</th>\n",
              "      <td>Adelie</td>\n",
              "      <td>Dream</td>\n",
              "      <td>39.5</td>\n",
              "      <td>16.7</td>\n",
              "      <td>178.0</td>\n",
              "      <td>3250.0</td>\n",
              "      <td>female</td>\n",
              "      <td>2007</td>\n",
              "    </tr>\n",
              "    <tr>\n",
              "      <th>31</th>\n",
              "      <td>Adelie</td>\n",
              "      <td>Dream</td>\n",
              "      <td>37.2</td>\n",
              "      <td>18.1</td>\n",
              "      <td>178.0</td>\n",
              "      <td>3900.0</td>\n",
              "      <td>male</td>\n",
              "      <td>2007</td>\n",
              "    </tr>\n",
              "    <tr>\n",
              "      <th>32</th>\n",
              "      <td>Adelie</td>\n",
              "      <td>Dream</td>\n",
              "      <td>39.5</td>\n",
              "      <td>17.8</td>\n",
              "      <td>188.0</td>\n",
              "      <td>3300.0</td>\n",
              "      <td>female</td>\n",
              "      <td>2007</td>\n",
              "    </tr>\n",
              "    <tr>\n",
              "      <th>33</th>\n",
              "      <td>Adelie</td>\n",
              "      <td>Dream</td>\n",
              "      <td>40.9</td>\n",
              "      <td>18.9</td>\n",
              "      <td>184.0</td>\n",
              "      <td>3900.0</td>\n",
              "      <td>male</td>\n",
              "      <td>2007</td>\n",
              "    </tr>\n",
              "    <tr>\n",
              "      <th>34</th>\n",
              "      <td>Adelie</td>\n",
              "      <td>Dream</td>\n",
              "      <td>36.4</td>\n",
              "      <td>17.0</td>\n",
              "      <td>195.0</td>\n",
              "      <td>3325.0</td>\n",
              "      <td>female</td>\n",
              "      <td>2007</td>\n",
              "    </tr>\n",
              "    <tr>\n",
              "      <th>...</th>\n",
              "      <td>...</td>\n",
              "      <td>...</td>\n",
              "      <td>...</td>\n",
              "      <td>...</td>\n",
              "      <td>...</td>\n",
              "      <td>...</td>\n",
              "      <td>...</td>\n",
              "      <td>...</td>\n",
              "    </tr>\n",
              "    <tr>\n",
              "      <th>339</th>\n",
              "      <td>Chinstrap</td>\n",
              "      <td>Dream</td>\n",
              "      <td>55.8</td>\n",
              "      <td>19.8</td>\n",
              "      <td>207.0</td>\n",
              "      <td>4000.0</td>\n",
              "      <td>male</td>\n",
              "      <td>2009</td>\n",
              "    </tr>\n",
              "    <tr>\n",
              "      <th>340</th>\n",
              "      <td>Chinstrap</td>\n",
              "      <td>Dream</td>\n",
              "      <td>43.5</td>\n",
              "      <td>18.1</td>\n",
              "      <td>202.0</td>\n",
              "      <td>3400.0</td>\n",
              "      <td>female</td>\n",
              "      <td>2009</td>\n",
              "    </tr>\n",
              "    <tr>\n",
              "      <th>341</th>\n",
              "      <td>Chinstrap</td>\n",
              "      <td>Dream</td>\n",
              "      <td>49.6</td>\n",
              "      <td>18.2</td>\n",
              "      <td>193.0</td>\n",
              "      <td>3775.0</td>\n",
              "      <td>male</td>\n",
              "      <td>2009</td>\n",
              "    </tr>\n",
              "    <tr>\n",
              "      <th>342</th>\n",
              "      <td>Chinstrap</td>\n",
              "      <td>Dream</td>\n",
              "      <td>50.8</td>\n",
              "      <td>19.0</td>\n",
              "      <td>210.0</td>\n",
              "      <td>4100.0</td>\n",
              "      <td>male</td>\n",
              "      <td>2009</td>\n",
              "    </tr>\n",
              "    <tr>\n",
              "      <th>343</th>\n",
              "      <td>Chinstrap</td>\n",
              "      <td>Dream</td>\n",
              "      <td>50.2</td>\n",
              "      <td>18.7</td>\n",
              "      <td>198.0</td>\n",
              "      <td>3775.0</td>\n",
              "      <td>female</td>\n",
              "      <td>2009</td>\n",
              "    </tr>\n",
              "  </tbody>\n",
              "</table>\n",
              "<p>124 rows × 8 columns</p>\n",
              "</div>\n",
              "    <div class=\"colab-df-buttons\">\n",
              "\n",
              "  <div class=\"colab-df-container\">\n",
              "    <button class=\"colab-df-convert\" onclick=\"convertToInteractive('df-25cda580-51f3-496d-aff3-dd8588c848d0')\"\n",
              "            title=\"Convert this dataframe to an interactive table.\"\n",
              "            style=\"display:none;\">\n",
              "\n",
              "  <svg xmlns=\"http://www.w3.org/2000/svg\" height=\"24px\" viewBox=\"0 -960 960 960\">\n",
              "    <path d=\"M120-120v-720h720v720H120Zm60-500h600v-160H180v160Zm220 220h160v-160H400v160Zm0 220h160v-160H400v160ZM180-400h160v-160H180v160Zm440 0h160v-160H620v160ZM180-180h160v-160H180v160Zm440 0h160v-160H620v160Z\"/>\n",
              "  </svg>\n",
              "    </button>\n",
              "\n",
              "  <style>\n",
              "    .colab-df-container {\n",
              "      display:flex;\n",
              "      gap: 12px;\n",
              "    }\n",
              "\n",
              "    .colab-df-convert {\n",
              "      background-color: #E8F0FE;\n",
              "      border: none;\n",
              "      border-radius: 50%;\n",
              "      cursor: pointer;\n",
              "      display: none;\n",
              "      fill: #1967D2;\n",
              "      height: 32px;\n",
              "      padding: 0 0 0 0;\n",
              "      width: 32px;\n",
              "    }\n",
              "\n",
              "    .colab-df-convert:hover {\n",
              "      background-color: #E2EBFA;\n",
              "      box-shadow: 0px 1px 2px rgba(60, 64, 67, 0.3), 0px 1px 3px 1px rgba(60, 64, 67, 0.15);\n",
              "      fill: #174EA6;\n",
              "    }\n",
              "\n",
              "    .colab-df-buttons div {\n",
              "      margin-bottom: 4px;\n",
              "    }\n",
              "\n",
              "    [theme=dark] .colab-df-convert {\n",
              "      background-color: #3B4455;\n",
              "      fill: #D2E3FC;\n",
              "    }\n",
              "\n",
              "    [theme=dark] .colab-df-convert:hover {\n",
              "      background-color: #434B5C;\n",
              "      box-shadow: 0px 1px 3px 1px rgba(0, 0, 0, 0.15);\n",
              "      filter: drop-shadow(0px 1px 2px rgba(0, 0, 0, 0.3));\n",
              "      fill: #FFFFFF;\n",
              "    }\n",
              "  </style>\n",
              "\n",
              "    <script>\n",
              "      const buttonEl =\n",
              "        document.querySelector('#df-25cda580-51f3-496d-aff3-dd8588c848d0 button.colab-df-convert');\n",
              "      buttonEl.style.display =\n",
              "        google.colab.kernel.accessAllowed ? 'block' : 'none';\n",
              "\n",
              "      async function convertToInteractive(key) {\n",
              "        const element = document.querySelector('#df-25cda580-51f3-496d-aff3-dd8588c848d0');\n",
              "        const dataTable =\n",
              "          await google.colab.kernel.invokeFunction('convertToInteractive',\n",
              "                                                    [key], {});\n",
              "        if (!dataTable) return;\n",
              "\n",
              "        const docLinkHtml = 'Like what you see? Visit the ' +\n",
              "          '<a target=\"_blank\" href=https://colab.research.google.com/notebooks/data_table.ipynb>data table notebook</a>'\n",
              "          + ' to learn more about interactive tables.';\n",
              "        element.innerHTML = '';\n",
              "        dataTable['output_type'] = 'display_data';\n",
              "        await google.colab.output.renderOutput(dataTable, element);\n",
              "        const docLink = document.createElement('div');\n",
              "        docLink.innerHTML = docLinkHtml;\n",
              "        element.appendChild(docLink);\n",
              "      }\n",
              "    </script>\n",
              "  </div>\n",
              "\n",
              "\n",
              "<div id=\"df-339884c3-120d-4d81-99e2-cc2f6e5081f8\">\n",
              "  <button class=\"colab-df-quickchart\" onclick=\"quickchart('df-339884c3-120d-4d81-99e2-cc2f6e5081f8')\"\n",
              "            title=\"Suggest charts.\"\n",
              "            style=\"display:none;\">\n",
              "\n",
              "<svg xmlns=\"http://www.w3.org/2000/svg\" height=\"24px\"viewBox=\"0 0 24 24\"\n",
              "     width=\"24px\">\n",
              "    <g>\n",
              "        <path d=\"M19 3H5c-1.1 0-2 .9-2 2v14c0 1.1.9 2 2 2h14c1.1 0 2-.9 2-2V5c0-1.1-.9-2-2-2zM9 17H7v-7h2v7zm4 0h-2V7h2v10zm4 0h-2v-4h2v4z\"/>\n",
              "    </g>\n",
              "</svg>\n",
              "  </button>\n",
              "\n",
              "<style>\n",
              "  .colab-df-quickchart {\n",
              "      --bg-color: #E8F0FE;\n",
              "      --fill-color: #1967D2;\n",
              "      --hover-bg-color: #E2EBFA;\n",
              "      --hover-fill-color: #174EA6;\n",
              "      --disabled-fill-color: #AAA;\n",
              "      --disabled-bg-color: #DDD;\n",
              "  }\n",
              "\n",
              "  [theme=dark] .colab-df-quickchart {\n",
              "      --bg-color: #3B4455;\n",
              "      --fill-color: #D2E3FC;\n",
              "      --hover-bg-color: #434B5C;\n",
              "      --hover-fill-color: #FFFFFF;\n",
              "      --disabled-bg-color: #3B4455;\n",
              "      --disabled-fill-color: #666;\n",
              "  }\n",
              "\n",
              "  .colab-df-quickchart {\n",
              "    background-color: var(--bg-color);\n",
              "    border: none;\n",
              "    border-radius: 50%;\n",
              "    cursor: pointer;\n",
              "    display: none;\n",
              "    fill: var(--fill-color);\n",
              "    height: 32px;\n",
              "    padding: 0;\n",
              "    width: 32px;\n",
              "  }\n",
              "\n",
              "  .colab-df-quickchart:hover {\n",
              "    background-color: var(--hover-bg-color);\n",
              "    box-shadow: 0 1px 2px rgba(60, 64, 67, 0.3), 0 1px 3px 1px rgba(60, 64, 67, 0.15);\n",
              "    fill: var(--button-hover-fill-color);\n",
              "  }\n",
              "\n",
              "  .colab-df-quickchart-complete:disabled,\n",
              "  .colab-df-quickchart-complete:disabled:hover {\n",
              "    background-color: var(--disabled-bg-color);\n",
              "    fill: var(--disabled-fill-color);\n",
              "    box-shadow: none;\n",
              "  }\n",
              "\n",
              "  .colab-df-spinner {\n",
              "    border: 2px solid var(--fill-color);\n",
              "    border-color: transparent;\n",
              "    border-bottom-color: var(--fill-color);\n",
              "    animation:\n",
              "      spin 1s steps(1) infinite;\n",
              "  }\n",
              "\n",
              "  @keyframes spin {\n",
              "    0% {\n",
              "      border-color: transparent;\n",
              "      border-bottom-color: var(--fill-color);\n",
              "      border-left-color: var(--fill-color);\n",
              "    }\n",
              "    20% {\n",
              "      border-color: transparent;\n",
              "      border-left-color: var(--fill-color);\n",
              "      border-top-color: var(--fill-color);\n",
              "    }\n",
              "    30% {\n",
              "      border-color: transparent;\n",
              "      border-left-color: var(--fill-color);\n",
              "      border-top-color: var(--fill-color);\n",
              "      border-right-color: var(--fill-color);\n",
              "    }\n",
              "    40% {\n",
              "      border-color: transparent;\n",
              "      border-right-color: var(--fill-color);\n",
              "      border-top-color: var(--fill-color);\n",
              "    }\n",
              "    60% {\n",
              "      border-color: transparent;\n",
              "      border-right-color: var(--fill-color);\n",
              "    }\n",
              "    80% {\n",
              "      border-color: transparent;\n",
              "      border-right-color: var(--fill-color);\n",
              "      border-bottom-color: var(--fill-color);\n",
              "    }\n",
              "    90% {\n",
              "      border-color: transparent;\n",
              "      border-bottom-color: var(--fill-color);\n",
              "    }\n",
              "  }\n",
              "</style>\n",
              "\n",
              "  <script>\n",
              "    async function quickchart(key) {\n",
              "      const quickchartButtonEl =\n",
              "        document.querySelector('#' + key + ' button');\n",
              "      quickchartButtonEl.disabled = true;  // To prevent multiple clicks.\n",
              "      quickchartButtonEl.classList.add('colab-df-spinner');\n",
              "      try {\n",
              "        const charts = await google.colab.kernel.invokeFunction(\n",
              "            'suggestCharts', [key], {});\n",
              "      } catch (error) {\n",
              "        console.error('Error during call to suggestCharts:', error);\n",
              "      }\n",
              "      quickchartButtonEl.classList.remove('colab-df-spinner');\n",
              "      quickchartButtonEl.classList.add('colab-df-quickchart-complete');\n",
              "    }\n",
              "    (() => {\n",
              "      let quickchartButtonEl =\n",
              "        document.querySelector('#df-339884c3-120d-4d81-99e2-cc2f6e5081f8 button');\n",
              "      quickchartButtonEl.style.display =\n",
              "        google.colab.kernel.accessAllowed ? 'block' : 'none';\n",
              "    })();\n",
              "  </script>\n",
              "</div>\n",
              "    </div>\n",
              "  </div>\n"
            ]
          },
          "metadata": {},
          "execution_count": 5
        }
      ]
    },
    {
      "cell_type": "code",
      "execution_count": null,
      "id": "af6fe386-b2e5-4811-a179-bd89c30f8fec",
      "metadata": {
        "colab": {
          "base_uri": "https://localhost:8080/"
        },
        "id": "af6fe386-b2e5-4811-a179-bd89c30f8fec",
        "outputId": "c21b03fa-9298-4a0e-c720-c908674c327a"
      },
      "outputs": [
        {
          "output_type": "execute_result",
          "data": {
            "text/plain": [
              "4201.754385964912"
            ]
          },
          "metadata": {},
          "execution_count": 7
        }
      ],
      "source": [
        "data.body_mass_g.agg(\"mean\")"
      ]
    },
    {
      "cell_type": "code",
      "execution_count": null,
      "id": "115fcaf7-127d-41a7-b20c-9536c69650ae",
      "metadata": {
        "colab": {
          "base_uri": "https://localhost:8080/"
        },
        "id": "115fcaf7-127d-41a7-b20c-9536c69650ae",
        "outputId": "12d5aa6c-eae5-41bc-9a3b-9f82d4e9f01b"
      },
      "outputs": [
        {
          "output_type": "execute_result",
          "data": {
            "text/plain": [
              "bill_length_mm      43.921930\n",
              "body_mass_g       4201.754386\n",
              "dtype: float64"
            ]
          },
          "metadata": {},
          "execution_count": 8
        }
      ],
      "source": [
        "data[['bill_length_mm','body_mass_g']].agg(\"mean\")"
      ]
    },
    {
      "cell_type": "code",
      "execution_count": null,
      "id": "15e46e48-861b-4416-a3a0-0bfa9e503acf",
      "metadata": {
        "colab": {
          "base_uri": "https://localhost:8080/",
          "height": 231
        },
        "id": "15e46e48-861b-4416-a3a0-0bfa9e503acf",
        "outputId": "c67edd99-1ca3-401a-a045-05ff19a4c325"
      },
      "outputs": [
        {
          "output_type": "stream",
          "name": "stderr",
          "text": [
            "<ipython-input-9-57bf410941e5>:1: FutureWarning: Indexing with multiple keys (implicitly converted to a tuple of keys) will be deprecated, use a list instead.\n",
            "  data.groupby('island')['bill_length_mm','body_mass_g'].agg(\"mean\")\n"
          ]
        },
        {
          "output_type": "execute_result",
          "data": {
            "text/plain": [
              "           bill_length_mm  body_mass_g\n",
              "island                                \n",
              "Biscoe          45.257485  4716.017964\n",
              "Dream           44.167742  3712.903226\n",
              "Torgersen       38.950980  3706.372549"
            ],
            "text/html": [
              "\n",
              "  <div id=\"df-c35b84fa-d159-4ee2-a89e-0ef8077b0158\" class=\"colab-df-container\">\n",
              "    <div>\n",
              "<style scoped>\n",
              "    .dataframe tbody tr th:only-of-type {\n",
              "        vertical-align: middle;\n",
              "    }\n",
              "\n",
              "    .dataframe tbody tr th {\n",
              "        vertical-align: top;\n",
              "    }\n",
              "\n",
              "    .dataframe thead th {\n",
              "        text-align: right;\n",
              "    }\n",
              "</style>\n",
              "<table border=\"1\" class=\"dataframe\">\n",
              "  <thead>\n",
              "    <tr style=\"text-align: right;\">\n",
              "      <th></th>\n",
              "      <th>bill_length_mm</th>\n",
              "      <th>body_mass_g</th>\n",
              "    </tr>\n",
              "    <tr>\n",
              "      <th>island</th>\n",
              "      <th></th>\n",
              "      <th></th>\n",
              "    </tr>\n",
              "  </thead>\n",
              "  <tbody>\n",
              "    <tr>\n",
              "      <th>Biscoe</th>\n",
              "      <td>45.257485</td>\n",
              "      <td>4716.017964</td>\n",
              "    </tr>\n",
              "    <tr>\n",
              "      <th>Dream</th>\n",
              "      <td>44.167742</td>\n",
              "      <td>3712.903226</td>\n",
              "    </tr>\n",
              "    <tr>\n",
              "      <th>Torgersen</th>\n",
              "      <td>38.950980</td>\n",
              "      <td>3706.372549</td>\n",
              "    </tr>\n",
              "  </tbody>\n",
              "</table>\n",
              "</div>\n",
              "    <div class=\"colab-df-buttons\">\n",
              "\n",
              "  <div class=\"colab-df-container\">\n",
              "    <button class=\"colab-df-convert\" onclick=\"convertToInteractive('df-c35b84fa-d159-4ee2-a89e-0ef8077b0158')\"\n",
              "            title=\"Convert this dataframe to an interactive table.\"\n",
              "            style=\"display:none;\">\n",
              "\n",
              "  <svg xmlns=\"http://www.w3.org/2000/svg\" height=\"24px\" viewBox=\"0 -960 960 960\">\n",
              "    <path d=\"M120-120v-720h720v720H120Zm60-500h600v-160H180v160Zm220 220h160v-160H400v160Zm0 220h160v-160H400v160ZM180-400h160v-160H180v160Zm440 0h160v-160H620v160ZM180-180h160v-160H180v160Zm440 0h160v-160H620v160Z\"/>\n",
              "  </svg>\n",
              "    </button>\n",
              "\n",
              "  <style>\n",
              "    .colab-df-container {\n",
              "      display:flex;\n",
              "      gap: 12px;\n",
              "    }\n",
              "\n",
              "    .colab-df-convert {\n",
              "      background-color: #E8F0FE;\n",
              "      border: none;\n",
              "      border-radius: 50%;\n",
              "      cursor: pointer;\n",
              "      display: none;\n",
              "      fill: #1967D2;\n",
              "      height: 32px;\n",
              "      padding: 0 0 0 0;\n",
              "      width: 32px;\n",
              "    }\n",
              "\n",
              "    .colab-df-convert:hover {\n",
              "      background-color: #E2EBFA;\n",
              "      box-shadow: 0px 1px 2px rgba(60, 64, 67, 0.3), 0px 1px 3px 1px rgba(60, 64, 67, 0.15);\n",
              "      fill: #174EA6;\n",
              "    }\n",
              "\n",
              "    .colab-df-buttons div {\n",
              "      margin-bottom: 4px;\n",
              "    }\n",
              "\n",
              "    [theme=dark] .colab-df-convert {\n",
              "      background-color: #3B4455;\n",
              "      fill: #D2E3FC;\n",
              "    }\n",
              "\n",
              "    [theme=dark] .colab-df-convert:hover {\n",
              "      background-color: #434B5C;\n",
              "      box-shadow: 0px 1px 3px 1px rgba(0, 0, 0, 0.15);\n",
              "      filter: drop-shadow(0px 1px 2px rgba(0, 0, 0, 0.3));\n",
              "      fill: #FFFFFF;\n",
              "    }\n",
              "  </style>\n",
              "\n",
              "    <script>\n",
              "      const buttonEl =\n",
              "        document.querySelector('#df-c35b84fa-d159-4ee2-a89e-0ef8077b0158 button.colab-df-convert');\n",
              "      buttonEl.style.display =\n",
              "        google.colab.kernel.accessAllowed ? 'block' : 'none';\n",
              "\n",
              "      async function convertToInteractive(key) {\n",
              "        const element = document.querySelector('#df-c35b84fa-d159-4ee2-a89e-0ef8077b0158');\n",
              "        const dataTable =\n",
              "          await google.colab.kernel.invokeFunction('convertToInteractive',\n",
              "                                                    [key], {});\n",
              "        if (!dataTable) return;\n",
              "\n",
              "        const docLinkHtml = 'Like what you see? Visit the ' +\n",
              "          '<a target=\"_blank\" href=https://colab.research.google.com/notebooks/data_table.ipynb>data table notebook</a>'\n",
              "          + ' to learn more about interactive tables.';\n",
              "        element.innerHTML = '';\n",
              "        dataTable['output_type'] = 'display_data';\n",
              "        await google.colab.output.renderOutput(dataTable, element);\n",
              "        const docLink = document.createElement('div');\n",
              "        docLink.innerHTML = docLinkHtml;\n",
              "        element.appendChild(docLink);\n",
              "      }\n",
              "    </script>\n",
              "  </div>\n",
              "\n",
              "\n",
              "<div id=\"df-8f74459a-07ef-4b2e-9656-8d45f58d1c78\">\n",
              "  <button class=\"colab-df-quickchart\" onclick=\"quickchart('df-8f74459a-07ef-4b2e-9656-8d45f58d1c78')\"\n",
              "            title=\"Suggest charts.\"\n",
              "            style=\"display:none;\">\n",
              "\n",
              "<svg xmlns=\"http://www.w3.org/2000/svg\" height=\"24px\"viewBox=\"0 0 24 24\"\n",
              "     width=\"24px\">\n",
              "    <g>\n",
              "        <path d=\"M19 3H5c-1.1 0-2 .9-2 2v14c0 1.1.9 2 2 2h14c1.1 0 2-.9 2-2V5c0-1.1-.9-2-2-2zM9 17H7v-7h2v7zm4 0h-2V7h2v10zm4 0h-2v-4h2v4z\"/>\n",
              "    </g>\n",
              "</svg>\n",
              "  </button>\n",
              "\n",
              "<style>\n",
              "  .colab-df-quickchart {\n",
              "      --bg-color: #E8F0FE;\n",
              "      --fill-color: #1967D2;\n",
              "      --hover-bg-color: #E2EBFA;\n",
              "      --hover-fill-color: #174EA6;\n",
              "      --disabled-fill-color: #AAA;\n",
              "      --disabled-bg-color: #DDD;\n",
              "  }\n",
              "\n",
              "  [theme=dark] .colab-df-quickchart {\n",
              "      --bg-color: #3B4455;\n",
              "      --fill-color: #D2E3FC;\n",
              "      --hover-bg-color: #434B5C;\n",
              "      --hover-fill-color: #FFFFFF;\n",
              "      --disabled-bg-color: #3B4455;\n",
              "      --disabled-fill-color: #666;\n",
              "  }\n",
              "\n",
              "  .colab-df-quickchart {\n",
              "    background-color: var(--bg-color);\n",
              "    border: none;\n",
              "    border-radius: 50%;\n",
              "    cursor: pointer;\n",
              "    display: none;\n",
              "    fill: var(--fill-color);\n",
              "    height: 32px;\n",
              "    padding: 0;\n",
              "    width: 32px;\n",
              "  }\n",
              "\n",
              "  .colab-df-quickchart:hover {\n",
              "    background-color: var(--hover-bg-color);\n",
              "    box-shadow: 0 1px 2px rgba(60, 64, 67, 0.3), 0 1px 3px 1px rgba(60, 64, 67, 0.15);\n",
              "    fill: var(--button-hover-fill-color);\n",
              "  }\n",
              "\n",
              "  .colab-df-quickchart-complete:disabled,\n",
              "  .colab-df-quickchart-complete:disabled:hover {\n",
              "    background-color: var(--disabled-bg-color);\n",
              "    fill: var(--disabled-fill-color);\n",
              "    box-shadow: none;\n",
              "  }\n",
              "\n",
              "  .colab-df-spinner {\n",
              "    border: 2px solid var(--fill-color);\n",
              "    border-color: transparent;\n",
              "    border-bottom-color: var(--fill-color);\n",
              "    animation:\n",
              "      spin 1s steps(1) infinite;\n",
              "  }\n",
              "\n",
              "  @keyframes spin {\n",
              "    0% {\n",
              "      border-color: transparent;\n",
              "      border-bottom-color: var(--fill-color);\n",
              "      border-left-color: var(--fill-color);\n",
              "    }\n",
              "    20% {\n",
              "      border-color: transparent;\n",
              "      border-left-color: var(--fill-color);\n",
              "      border-top-color: var(--fill-color);\n",
              "    }\n",
              "    30% {\n",
              "      border-color: transparent;\n",
              "      border-left-color: var(--fill-color);\n",
              "      border-top-color: var(--fill-color);\n",
              "      border-right-color: var(--fill-color);\n",
              "    }\n",
              "    40% {\n",
              "      border-color: transparent;\n",
              "      border-right-color: var(--fill-color);\n",
              "      border-top-color: var(--fill-color);\n",
              "    }\n",
              "    60% {\n",
              "      border-color: transparent;\n",
              "      border-right-color: var(--fill-color);\n",
              "    }\n",
              "    80% {\n",
              "      border-color: transparent;\n",
              "      border-right-color: var(--fill-color);\n",
              "      border-bottom-color: var(--fill-color);\n",
              "    }\n",
              "    90% {\n",
              "      border-color: transparent;\n",
              "      border-bottom-color: var(--fill-color);\n",
              "    }\n",
              "  }\n",
              "</style>\n",
              "\n",
              "  <script>\n",
              "    async function quickchart(key) {\n",
              "      const quickchartButtonEl =\n",
              "        document.querySelector('#' + key + ' button');\n",
              "      quickchartButtonEl.disabled = true;  // To prevent multiple clicks.\n",
              "      quickchartButtonEl.classList.add('colab-df-spinner');\n",
              "      try {\n",
              "        const charts = await google.colab.kernel.invokeFunction(\n",
              "            'suggestCharts', [key], {});\n",
              "      } catch (error) {\n",
              "        console.error('Error during call to suggestCharts:', error);\n",
              "      }\n",
              "      quickchartButtonEl.classList.remove('colab-df-spinner');\n",
              "      quickchartButtonEl.classList.add('colab-df-quickchart-complete');\n",
              "    }\n",
              "    (() => {\n",
              "      let quickchartButtonEl =\n",
              "        document.querySelector('#df-8f74459a-07ef-4b2e-9656-8d45f58d1c78 button');\n",
              "      quickchartButtonEl.style.display =\n",
              "        google.colab.kernel.accessAllowed ? 'block' : 'none';\n",
              "    })();\n",
              "  </script>\n",
              "</div>\n",
              "    </div>\n",
              "  </div>\n"
            ]
          },
          "metadata": {},
          "execution_count": 9
        }
      ],
      "source": [
        "data.groupby('island')['bill_length_mm','body_mass_g'].agg(\"mean\")"
      ]
    },
    {
      "cell_type": "code",
      "execution_count": null,
      "id": "9cac1b64-691d-4ef2-99a0-8a78adedd881",
      "metadata": {
        "colab": {
          "base_uri": "https://localhost:8080/",
          "height": 175
        },
        "id": "9cac1b64-691d-4ef2-99a0-8a78adedd881",
        "outputId": "b1dd7372-69bc-41d2-ac83-f01605f98c49"
      },
      "outputs": [
        {
          "output_type": "execute_result",
          "data": {
            "text/plain": [
              "           long_bill_media  masa_corportal_media\n",
              "island                                          \n",
              "Biscoe           45.257485           4716.017964\n",
              "Dream            44.167742           3712.903226\n",
              "Torgersen        38.950980           3706.372549"
            ],
            "text/html": [
              "\n",
              "  <div id=\"df-041c275c-af73-4c85-8bdc-a68c0dcc35d7\" class=\"colab-df-container\">\n",
              "    <div>\n",
              "<style scoped>\n",
              "    .dataframe tbody tr th:only-of-type {\n",
              "        vertical-align: middle;\n",
              "    }\n",
              "\n",
              "    .dataframe tbody tr th {\n",
              "        vertical-align: top;\n",
              "    }\n",
              "\n",
              "    .dataframe thead th {\n",
              "        text-align: right;\n",
              "    }\n",
              "</style>\n",
              "<table border=\"1\" class=\"dataframe\">\n",
              "  <thead>\n",
              "    <tr style=\"text-align: right;\">\n",
              "      <th></th>\n",
              "      <th>long_bill_media</th>\n",
              "      <th>masa_corportal_media</th>\n",
              "    </tr>\n",
              "    <tr>\n",
              "      <th>island</th>\n",
              "      <th></th>\n",
              "      <th></th>\n",
              "    </tr>\n",
              "  </thead>\n",
              "  <tbody>\n",
              "    <tr>\n",
              "      <th>Biscoe</th>\n",
              "      <td>45.257485</td>\n",
              "      <td>4716.017964</td>\n",
              "    </tr>\n",
              "    <tr>\n",
              "      <th>Dream</th>\n",
              "      <td>44.167742</td>\n",
              "      <td>3712.903226</td>\n",
              "    </tr>\n",
              "    <tr>\n",
              "      <th>Torgersen</th>\n",
              "      <td>38.950980</td>\n",
              "      <td>3706.372549</td>\n",
              "    </tr>\n",
              "  </tbody>\n",
              "</table>\n",
              "</div>\n",
              "    <div class=\"colab-df-buttons\">\n",
              "\n",
              "  <div class=\"colab-df-container\">\n",
              "    <button class=\"colab-df-convert\" onclick=\"convertToInteractive('df-041c275c-af73-4c85-8bdc-a68c0dcc35d7')\"\n",
              "            title=\"Convert this dataframe to an interactive table.\"\n",
              "            style=\"display:none;\">\n",
              "\n",
              "  <svg xmlns=\"http://www.w3.org/2000/svg\" height=\"24px\" viewBox=\"0 -960 960 960\">\n",
              "    <path d=\"M120-120v-720h720v720H120Zm60-500h600v-160H180v160Zm220 220h160v-160H400v160Zm0 220h160v-160H400v160ZM180-400h160v-160H180v160Zm440 0h160v-160H620v160ZM180-180h160v-160H180v160Zm440 0h160v-160H620v160Z\"/>\n",
              "  </svg>\n",
              "    </button>\n",
              "\n",
              "  <style>\n",
              "    .colab-df-container {\n",
              "      display:flex;\n",
              "      gap: 12px;\n",
              "    }\n",
              "\n",
              "    .colab-df-convert {\n",
              "      background-color: #E8F0FE;\n",
              "      border: none;\n",
              "      border-radius: 50%;\n",
              "      cursor: pointer;\n",
              "      display: none;\n",
              "      fill: #1967D2;\n",
              "      height: 32px;\n",
              "      padding: 0 0 0 0;\n",
              "      width: 32px;\n",
              "    }\n",
              "\n",
              "    .colab-df-convert:hover {\n",
              "      background-color: #E2EBFA;\n",
              "      box-shadow: 0px 1px 2px rgba(60, 64, 67, 0.3), 0px 1px 3px 1px rgba(60, 64, 67, 0.15);\n",
              "      fill: #174EA6;\n",
              "    }\n",
              "\n",
              "    .colab-df-buttons div {\n",
              "      margin-bottom: 4px;\n",
              "    }\n",
              "\n",
              "    [theme=dark] .colab-df-convert {\n",
              "      background-color: #3B4455;\n",
              "      fill: #D2E3FC;\n",
              "    }\n",
              "\n",
              "    [theme=dark] .colab-df-convert:hover {\n",
              "      background-color: #434B5C;\n",
              "      box-shadow: 0px 1px 3px 1px rgba(0, 0, 0, 0.15);\n",
              "      filter: drop-shadow(0px 1px 2px rgba(0, 0, 0, 0.3));\n",
              "      fill: #FFFFFF;\n",
              "    }\n",
              "  </style>\n",
              "\n",
              "    <script>\n",
              "      const buttonEl =\n",
              "        document.querySelector('#df-041c275c-af73-4c85-8bdc-a68c0dcc35d7 button.colab-df-convert');\n",
              "      buttonEl.style.display =\n",
              "        google.colab.kernel.accessAllowed ? 'block' : 'none';\n",
              "\n",
              "      async function convertToInteractive(key) {\n",
              "        const element = document.querySelector('#df-041c275c-af73-4c85-8bdc-a68c0dcc35d7');\n",
              "        const dataTable =\n",
              "          await google.colab.kernel.invokeFunction('convertToInteractive',\n",
              "                                                    [key], {});\n",
              "        if (!dataTable) return;\n",
              "\n",
              "        const docLinkHtml = 'Like what you see? Visit the ' +\n",
              "          '<a target=\"_blank\" href=https://colab.research.google.com/notebooks/data_table.ipynb>data table notebook</a>'\n",
              "          + ' to learn more about interactive tables.';\n",
              "        element.innerHTML = '';\n",
              "        dataTable['output_type'] = 'display_data';\n",
              "        await google.colab.output.renderOutput(dataTable, element);\n",
              "        const docLink = document.createElement('div');\n",
              "        docLink.innerHTML = docLinkHtml;\n",
              "        element.appendChild(docLink);\n",
              "      }\n",
              "    </script>\n",
              "  </div>\n",
              "\n",
              "\n",
              "<div id=\"df-f7ef1f05-d9c9-4494-9bc0-f7b8a96c4a67\">\n",
              "  <button class=\"colab-df-quickchart\" onclick=\"quickchart('df-f7ef1f05-d9c9-4494-9bc0-f7b8a96c4a67')\"\n",
              "            title=\"Suggest charts.\"\n",
              "            style=\"display:none;\">\n",
              "\n",
              "<svg xmlns=\"http://www.w3.org/2000/svg\" height=\"24px\"viewBox=\"0 0 24 24\"\n",
              "     width=\"24px\">\n",
              "    <g>\n",
              "        <path d=\"M19 3H5c-1.1 0-2 .9-2 2v14c0 1.1.9 2 2 2h14c1.1 0 2-.9 2-2V5c0-1.1-.9-2-2-2zM9 17H7v-7h2v7zm4 0h-2V7h2v10zm4 0h-2v-4h2v4z\"/>\n",
              "    </g>\n",
              "</svg>\n",
              "  </button>\n",
              "\n",
              "<style>\n",
              "  .colab-df-quickchart {\n",
              "      --bg-color: #E8F0FE;\n",
              "      --fill-color: #1967D2;\n",
              "      --hover-bg-color: #E2EBFA;\n",
              "      --hover-fill-color: #174EA6;\n",
              "      --disabled-fill-color: #AAA;\n",
              "      --disabled-bg-color: #DDD;\n",
              "  }\n",
              "\n",
              "  [theme=dark] .colab-df-quickchart {\n",
              "      --bg-color: #3B4455;\n",
              "      --fill-color: #D2E3FC;\n",
              "      --hover-bg-color: #434B5C;\n",
              "      --hover-fill-color: #FFFFFF;\n",
              "      --disabled-bg-color: #3B4455;\n",
              "      --disabled-fill-color: #666;\n",
              "  }\n",
              "\n",
              "  .colab-df-quickchart {\n",
              "    background-color: var(--bg-color);\n",
              "    border: none;\n",
              "    border-radius: 50%;\n",
              "    cursor: pointer;\n",
              "    display: none;\n",
              "    fill: var(--fill-color);\n",
              "    height: 32px;\n",
              "    padding: 0;\n",
              "    width: 32px;\n",
              "  }\n",
              "\n",
              "  .colab-df-quickchart:hover {\n",
              "    background-color: var(--hover-bg-color);\n",
              "    box-shadow: 0 1px 2px rgba(60, 64, 67, 0.3), 0 1px 3px 1px rgba(60, 64, 67, 0.15);\n",
              "    fill: var(--button-hover-fill-color);\n",
              "  }\n",
              "\n",
              "  .colab-df-quickchart-complete:disabled,\n",
              "  .colab-df-quickchart-complete:disabled:hover {\n",
              "    background-color: var(--disabled-bg-color);\n",
              "    fill: var(--disabled-fill-color);\n",
              "    box-shadow: none;\n",
              "  }\n",
              "\n",
              "  .colab-df-spinner {\n",
              "    border: 2px solid var(--fill-color);\n",
              "    border-color: transparent;\n",
              "    border-bottom-color: var(--fill-color);\n",
              "    animation:\n",
              "      spin 1s steps(1) infinite;\n",
              "  }\n",
              "\n",
              "  @keyframes spin {\n",
              "    0% {\n",
              "      border-color: transparent;\n",
              "      border-bottom-color: var(--fill-color);\n",
              "      border-left-color: var(--fill-color);\n",
              "    }\n",
              "    20% {\n",
              "      border-color: transparent;\n",
              "      border-left-color: var(--fill-color);\n",
              "      border-top-color: var(--fill-color);\n",
              "    }\n",
              "    30% {\n",
              "      border-color: transparent;\n",
              "      border-left-color: var(--fill-color);\n",
              "      border-top-color: var(--fill-color);\n",
              "      border-right-color: var(--fill-color);\n",
              "    }\n",
              "    40% {\n",
              "      border-color: transparent;\n",
              "      border-right-color: var(--fill-color);\n",
              "      border-top-color: var(--fill-color);\n",
              "    }\n",
              "    60% {\n",
              "      border-color: transparent;\n",
              "      border-right-color: var(--fill-color);\n",
              "    }\n",
              "    80% {\n",
              "      border-color: transparent;\n",
              "      border-right-color: var(--fill-color);\n",
              "      border-bottom-color: var(--fill-color);\n",
              "    }\n",
              "    90% {\n",
              "      border-color: transparent;\n",
              "      border-bottom-color: var(--fill-color);\n",
              "    }\n",
              "  }\n",
              "</style>\n",
              "\n",
              "  <script>\n",
              "    async function quickchart(key) {\n",
              "      const quickchartButtonEl =\n",
              "        document.querySelector('#' + key + ' button');\n",
              "      quickchartButtonEl.disabled = true;  // To prevent multiple clicks.\n",
              "      quickchartButtonEl.classList.add('colab-df-spinner');\n",
              "      try {\n",
              "        const charts = await google.colab.kernel.invokeFunction(\n",
              "            'suggestCharts', [key], {});\n",
              "      } catch (error) {\n",
              "        console.error('Error during call to suggestCharts:', error);\n",
              "      }\n",
              "      quickchartButtonEl.classList.remove('colab-df-spinner');\n",
              "      quickchartButtonEl.classList.add('colab-df-quickchart-complete');\n",
              "    }\n",
              "    (() => {\n",
              "      let quickchartButtonEl =\n",
              "        document.querySelector('#df-f7ef1f05-d9c9-4494-9bc0-f7b8a96c4a67 button');\n",
              "      quickchartButtonEl.style.display =\n",
              "        google.colab.kernel.accessAllowed ? 'block' : 'none';\n",
              "    })();\n",
              "  </script>\n",
              "</div>\n",
              "    </div>\n",
              "  </div>\n"
            ]
          },
          "metadata": {},
          "execution_count": 11
        }
      ],
      "source": [
        "(\n",
        "    data\n",
        "    .groupby('island')\n",
        "    .agg(\n",
        "        long_bill_media = ('bill_length_mm','mean'),\n",
        "        masa_corportal_media = ('body_mass_g','mean')\n",
        "    )\n",
        "\n",
        " )"
      ]
    },
    {
      "cell_type": "code",
      "execution_count": null,
      "id": "41558c03-e4b4-417c-93da-cbdd5633ea94",
      "metadata": {
        "id": "41558c03-e4b4-417c-93da-cbdd5633ea94"
      },
      "outputs": [],
      "source": []
    },
    {
      "cell_type": "code",
      "execution_count": null,
      "id": "289476a6-4c91-4ee0-968b-0e9271963e98",
      "metadata": {
        "id": "289476a6-4c91-4ee0-968b-0e9271963e98"
      },
      "outputs": [],
      "source": []
    },
    {
      "cell_type": "code",
      "execution_count": null,
      "id": "7a6f6c54-d948-4a65-8d6f-978caed3c24e",
      "metadata": {
        "id": "7a6f6c54-d948-4a65-8d6f-978caed3c24e"
      },
      "outputs": [],
      "source": []
    },
    {
      "cell_type": "code",
      "execution_count": null,
      "id": "4e0fdf04-13f1-46ee-b7c3-d85b8a84f371",
      "metadata": {
        "id": "4e0fdf04-13f1-46ee-b7c3-d85b8a84f371"
      },
      "outputs": [],
      "source": []
    },
    {
      "cell_type": "code",
      "execution_count": null,
      "id": "b6bf2af5-45ba-462f-a84e-8d583d1432a5",
      "metadata": {
        "id": "b6bf2af5-45ba-462f-a84e-8d583d1432a5"
      },
      "outputs": [],
      "source": []
    },
    {
      "cell_type": "code",
      "execution_count": null,
      "id": "a1f569ae-d06e-4dc3-a689-fe277a72e4b2",
      "metadata": {
        "id": "a1f569ae-d06e-4dc3-a689-fe277a72e4b2"
      },
      "outputs": [],
      "source": []
    },
    {
      "cell_type": "code",
      "execution_count": null,
      "id": "af0d682b-93e3-4b09-9604-8b8bc8770c11",
      "metadata": {
        "id": "af0d682b-93e3-4b09-9604-8b8bc8770c11"
      },
      "outputs": [],
      "source": []
    },
    {
      "cell_type": "code",
      "execution_count": null,
      "id": "f4c60378-a3aa-4b11-a45e-d97398e2de6a",
      "metadata": {
        "id": "f4c60378-a3aa-4b11-a45e-d97398e2de6a"
      },
      "outputs": [],
      "source": []
    },
    {
      "cell_type": "code",
      "execution_count": null,
      "id": "8ac3f76d-165d-4a59-9c68-8c8e3ca5c2fa",
      "metadata": {
        "id": "8ac3f76d-165d-4a59-9c68-8c8e3ca5c2fa"
      },
      "outputs": [],
      "source": []
    },
    {
      "cell_type": "code",
      "execution_count": null,
      "id": "1dc64703-9afb-4911-999e-83efc20aa05b",
      "metadata": {
        "id": "1dc64703-9afb-4911-999e-83efc20aa05b"
      },
      "outputs": [],
      "source": []
    },
    {
      "cell_type": "code",
      "execution_count": null,
      "id": "298d3ab5-8b22-4f39-b4e6-b73c8819109c",
      "metadata": {
        "id": "298d3ab5-8b22-4f39-b4e6-b73c8819109c"
      },
      "outputs": [],
      "source": []
    },
    {
      "cell_type": "code",
      "execution_count": null,
      "id": "4d3a3163-9ca7-4deb-bc7d-4e40a6259580",
      "metadata": {
        "id": "4d3a3163-9ca7-4deb-bc7d-4e40a6259580"
      },
      "outputs": [],
      "source": []
    }
  ],
  "metadata": {
    "kernelspec": {
      "display_name": "Python 3 (ipykernel)",
      "language": "python",
      "name": "python3"
    },
    "language_info": {
      "codemirror_mode": {
        "name": "ipython",
        "version": 3
      },
      "file_extension": ".py",
      "mimetype": "text/x-python",
      "name": "python",
      "nbconvert_exporter": "python",
      "pygments_lexer": "ipython3",
      "version": "3.11.4"
    },
    "colab": {
      "provenance": []
    }
  },
  "nbformat": 4,
  "nbformat_minor": 5
}