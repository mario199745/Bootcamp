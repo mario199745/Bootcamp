{
 "cells": [
  {
   "cell_type": "markdown",
   "metadata": {
    "id": "USNoaN7Cq1yr"
   },
   "source": [
    "# INTRODUCCIÓN DE PYTHON"
   ]
  },
  {
   "cell_type": "markdown",
   "metadata": {
    "id": "_YXTgABPYu5M"
   },
   "source": [
    "## TIPOS Y ESTRUCTURAS"
   ]
  },
  {
   "cell_type": "markdown",
   "metadata": {
    "id": "I82JYUtMtw9e"
   },
   "source": [
    "### Datos y estructuras básicas"
   ]
  },
  {
   "cell_type": "code",
   "execution_count": null,
   "metadata": {
    "id": "quc1LUShmoh-"
   },
   "outputs": [],
   "source": [
    "# Convención PEP 8 con snake_case\n",
    "var_numero = 2023\n",
    "var_cadena = \"chatgpt\"\n",
    "var_cadena_numeros = \"0123456789\"\n",
    "var_cadena_texto = \"Se van sus naves.\"\n",
    "var_lista = ['R','A','T','A']\n",
    "var_lista_alternativa = [203,\"A\",\"B\",123,True]\n",
    "var_boolean = False # True\n",
    "var_diccionario = {\n",
    "    'nombre':'bootcamp',\n",
    "    'alumnos':[\n",
    "        'Gladys',\n",
    "        'Barbara',\n",
    "        'Bullon',\n",
    "        'Fernando']\n",
    "    }\n",
    "var_tuple = (9,6,8,8,5,0,1,1,6)\n",
    "var_conjunto = set([5,0,2,1,1])"
   ]
  },
  {
   "cell_type": "markdown",
   "metadata": {
    "id": "zmj-Si-3Mcu5"
   },
   "source": [
    "### Indice de Masa Corporal 💪\n",
    "$$IMC=\\frac{peso}{altura^2}$$\n",
    "\n",
    "<center><img src=\"data:image/png;base64,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\"></center>"
   ]
  },
  {
   "cell_type": "code",
   "execution_count": null,
   "metadata": {
    "colab": {
     "base_uri": "https://localhost:8080/"
    },
    "id": "v60Xy2C-Ma0M",
    "outputId": "c1f62a7b-640c-4152-b89a-beb87b27d9a5"
   },
   "outputs": [
    {
     "data": {
      "text/plain": [
       "30.668904958677686"
      ]
     },
     "execution_count": 17,
     "metadata": {},
     "output_type": "execute_result"
    }
   ],
   "source": [
    "peso = 95; altura = 1.76; uno = 1\n",
    "\n",
    "imc = peso / altura ** 2\n",
    "\n",
    "imc"
   ]
  },
  {
   "cell_type": "code",
   "execution_count": null,
   "metadata": {
    "colab": {
     "base_uri": "https://localhost:8080/"
    },
    "id": "h1toj1YRyUfp",
    "outputId": "04b03807-c423-4edb-9a36-ed458b300b04"
   },
   "outputs": [
    {
     "data": {
      "text/plain": [
       "8092264.5"
      ]
     },
     "execution_count": 18,
     "metadata": {},
     "output_type": "execute_result"
    }
   ],
   "source": [
    "((var_numero - 23 ) + var_numero) ** 2 / 2"
   ]
  },
  {
   "cell_type": "markdown",
   "metadata": {
    "id": "7kyoub2gyZOg"
   },
   "source": [
    "### Tipos y Conversiones"
   ]
  },
  {
   "cell_type": "code",
   "execution_count": null,
   "metadata": {
    "colab": {
     "base_uri": "https://localhost:8080/"
    },
    "id": "ylwduK5PMQgV",
    "outputId": "d3620dd1-84b7-4044-e3e7-b64d355d8fe1"
   },
   "outputs": [
    {
     "name": "stdout",
     "output_type": "stream",
     "text": [
      "<class 'list'>|2023|2023.0\n"
     ]
    }
   ],
   "source": [
    "print(\n",
    "    type(var_lista),\n",
    "    int(var_numero),\n",
    "    float(var_numero),\n",
    "    sep=\"|\"\n",
    ")"
   ]
  },
  {
   "cell_type": "markdown",
   "metadata": {
    "id": "vtT95R7jOvpA"
   },
   "source": [
    "### Listas"
   ]
  },
  {
   "cell_type": "markdown",
   "metadata": {
    "id": "5hjXGzEQRWoN"
   },
   "source": [
    "<center><img width=\"600px\" src=\"data:image/png;base64,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\"></center>"
   ]
  },
  {
   "cell_type": "code",
   "execution_count": null,
   "metadata": {
    "id": "GW22Vy5pRhk-"
   },
   "outputs": [],
   "source": [
    "alumnos = ['Lucia','Joselo','Yuri','Ramilo']\n",
    "notas = [16,12,18,17]"
   ]
  },
  {
   "cell_type": "code",
   "execution_count": null,
   "metadata": {
    "colab": {
     "base_uri": "https://localhost:8080/"
    },
    "id": "XQVlf2zDRz0m",
    "outputId": "4ca83445-5c2d-4382-81b3-a226dd84af9b"
   },
   "outputs": [
    {
     "data": {
      "text/plain": [
       "('Joselo', 17, 'Ramilo')"
      ]
     },
     "execution_count": 21,
     "metadata": {},
     "output_type": "execute_result"
    }
   ],
   "source": [
    "alumnos[1],notas[-1],alumnos[len(alumnos)-1]"
   ]
  },
  {
   "cell_type": "code",
   "execution_count": null,
   "metadata": {
    "colab": {
     "base_uri": "https://localhost:8080/"
    },
    "id": "cdn4krbB_WPm",
    "outputId": "dc850e68-471b-433c-81e9-1e59cdc238ff"
   },
   "outputs": [
    {
     "data": {
      "text/plain": [
       "['Lucia', 'Joselo', 'Yuri', 'Pepito']"
      ]
     },
     "execution_count": 22,
     "metadata": {},
     "output_type": "execute_result"
    }
   ],
   "source": [
    "alumnos[3] = 'Pepito'\n",
    "alumnos"
   ]
  },
  {
   "cell_type": "code",
   "execution_count": null,
   "metadata": {
    "id": "CRCcf9vdWABd"
   },
   "outputs": [],
   "source": [
    "alumnos[0] = 'Lucinda'\n",
    "notas[0:2] = [1,1]"
   ]
  },
  {
   "cell_type": "code",
   "execution_count": null,
   "metadata": {
    "colab": {
     "base_uri": "https://localhost:8080/"
    },
    "id": "XnhtDKv7Aw90",
    "outputId": "d7f1ffd0-fee7-4f29-8ccd-abf2c8cd6394"
   },
   "outputs": [
    {
     "data": {
      "text/plain": [
       "[0, 1, 2]"
      ]
     },
     "execution_count": 24,
     "metadata": {},
     "output_type": "execute_result"
    }
   ],
   "source": [
    "list(range(3))"
   ]
  },
  {
   "cell_type": "code",
   "execution_count": null,
   "metadata": {
    "id": "wLAO5irvKhqX"
   },
   "outputs": [],
   "source": [
    "alumnos_notas = [[alumnos[i]]+[notas[i]] for i in range(3)]"
   ]
  },
  {
   "cell_type": "code",
   "execution_count": null,
   "metadata": {
    "id": "4FPgEGEQR8tM"
   },
   "outputs": [],
   "source": [
    "alumnos_notas_flatten = [\n",
    "    item\n",
    "    for sub_lista in alumnos_notas\n",
    "    for item in sub_lista\n",
    "]"
   ]
  },
  {
   "cell_type": "code",
   "execution_count": null,
   "metadata": {
    "colab": {
     "base_uri": "https://localhost:8080/"
    },
    "id": "vhKXeV8PUFsZ",
    "outputId": "b95a94df-c291-476c-9fc0-4185e79092e9"
   },
   "outputs": [
    {
     "data": {
      "text/plain": [
       "['Lucinda', 'Joselo']"
      ]
     },
     "execution_count": 27,
     "metadata": {},
     "output_type": "execute_result"
    }
   ],
   "source": [
    "# Acceder a elementos de una lista\n",
    "_inicio = 0 #:\n",
    "_fin = 3 #:\n",
    "_paso = 2\n",
    "alumnos_notas_flatten[_inicio:_fin:_paso]"
   ]
  },
  {
   "cell_type": "code",
   "execution_count": null,
   "metadata": {
    "colab": {
     "base_uri": "https://localhost:8080/"
    },
    "id": "Mfi68ovOUzZr",
    "outputId": "2e124f77-9db6-4c6f-9022-e4a9c5bd4547"
   },
   "outputs": [
    {
     "data": {
      "text/plain": [
       "['Lucinda', 1, 'Joselo', 1, 'Yuri', 18]"
      ]
     },
     "execution_count": 28,
     "metadata": {},
     "output_type": "execute_result"
    }
   ],
   "source": [
    "alumnos_notas_flatten[::1]"
   ]
  },
  {
   "cell_type": "code",
   "execution_count": null,
   "metadata": {
    "colab": {
     "base_uri": "https://localhost:8080/"
    },
    "id": "O79BbTZkVBCl",
    "outputId": "050db9cd-0b8b-48d2-87fb-ce09a917f0b8"
   },
   "outputs": [
    {
     "data": {
      "text/plain": [
       "[1, 1, 18]"
      ]
     },
     "execution_count": 29,
     "metadata": {},
     "output_type": "execute_result"
    }
   ],
   "source": [
    "# Obtenemos objetos pares\n",
    "alumnos_notas_flatten[1::2]"
   ]
  },
  {
   "cell_type": "code",
   "execution_count": null,
   "metadata": {
    "colab": {
     "base_uri": "https://localhost:8080/"
    },
    "id": "zNrnjvhFVU9D",
    "outputId": "2c44e0a2-8960-4ade-8039-aef8a5be8890"
   },
   "outputs": [
    {
     "data": {
      "text/plain": [
       "['Lucinda', 'Joselo', 'Yuri']"
      ]
     },
     "execution_count": 30,
     "metadata": {},
     "output_type": "execute_result"
    }
   ],
   "source": [
    "# Obtenemos objetos impares\n",
    "alumnos_notas_flatten[::2]"
   ]
  },
  {
   "cell_type": "code",
   "execution_count": null,
   "metadata": {
    "colab": {
     "base_uri": "https://localhost:8080/"
    },
    "id": "y90VKREAXw6t",
    "outputId": "c5235794-e056-4960-d3b4-70c9dd9556a7"
   },
   "outputs": [
    {
     "data": {
      "text/plain": [
       "[18, 'Yuri', 1, 'Joselo', 1, 'Lucinda']"
      ]
     },
     "execution_count": 31,
     "metadata": {},
     "output_type": "execute_result"
    }
   ],
   "source": [
    "# Invertir lista\n",
    "alumnos_notas_flatten[::-1]"
   ]
  },
  {
   "cell_type": "code",
   "execution_count": null,
   "metadata": {
    "id": "tKSMFVPMXCAV"
   },
   "outputs": [],
   "source": [
    "# Eliminar elementos de una lista\n",
    "del(alumnos_notas[2])"
   ]
  },
  {
   "cell_type": "markdown",
   "metadata": {
    "id": "-qqJB-ltYh1F"
   },
   "source": [
    "## FUNCIONES INTEGRADAS"
   ]
  },
  {
   "cell_type": "code",
   "execution_count": null,
   "metadata": {
    "colab": {
     "base_uri": "https://localhost:8080/"
    },
    "id": "wiCcHKj4ZCHM",
    "outputId": "eb0bc706-096f-4c90-bfbc-28117dab07b1"
   },
   "outputs": [
    {
     "data": {
      "text/plain": [
       "[1.53, 1.74, 1.65, 1.47, 1.86]"
      ]
     },
     "execution_count": 12,
     "metadata": {},
     "output_type": "execute_result"
    }
   ],
   "source": [
    "vals = [1.53,1.74,1.65,1.47,1.86] ; vals"
   ]
  },
  {
   "cell_type": "code",
   "execution_count": null,
   "metadata": {
    "colab": {
     "base_uri": "https://localhost:8080/"
    },
    "id": "FgNqOChOZFJJ",
    "outputId": "55eefadb-3f5f-4676-df68-30579bf194f0"
   },
   "outputs": [
    {
     "data": {
      "text/plain": [
       "(1.86, 2, 1.9)"
      ]
     },
     "execution_count": 13,
     "metadata": {},
     "output_type": "execute_result"
    }
   ],
   "source": [
    "max(vals),round(1.86),round(1.86,1)"
   ]
  },
  {
   "cell_type": "code",
   "execution_count": null,
   "metadata": {
    "colab": {
     "base_uri": "https://localhost:8080/"
    },
    "id": "c7GpXZx9ZOOS",
    "outputId": "1c5be235-a50d-4f77-9a10-8ad9c02e1776"
   },
   "outputs": [
    {
     "name": "stdout",
     "output_type": "stream",
     "text": [
      "Help on built-in function abs in module builtins:\n",
      "\n",
      "abs(x, /)\n",
      "    Return the absolute value of the argument.\n",
      "\n"
     ]
    }
   ],
   "source": [
    "help(abs)"
   ]
  },
  {
   "cell_type": "markdown",
   "metadata": {
    "id": "FU-QFAw8YBNf"
   },
   "source": [
    "### Metodos de listas"
   ]
  },
  {
   "cell_type": "code",
   "execution_count": null,
   "metadata": {
    "id": "g6c1djOFCkFt"
   },
   "outputs": [],
   "source": [
    "alumnos.append('Yuri')"
   ]
  },
  {
   "cell_type": "code",
   "execution_count": null,
   "metadata": {
    "colab": {
     "base_uri": "https://localhost:8080/"
    },
    "id": "1adlJjL5C3RP",
    "outputId": "ec105473-e0bc-4a51-bec4-a1ae424d8154"
   },
   "outputs": [
    {
     "data": {
      "text/plain": [
       "['Lucinda', 'Joselo', 'Yuri', 'Pepito', 'Yuri']"
      ]
     },
     "execution_count": 38,
     "metadata": {},
     "output_type": "execute_result"
    }
   ],
   "source": [
    "alumnos"
   ]
  },
  {
   "cell_type": "code",
   "execution_count": null,
   "metadata": {
    "colab": {
     "base_uri": "https://localhost:8080/",
     "height": 36
    },
    "id": "dQgbi5qfYEYa",
    "outputId": "6d3dc190-9d9a-4191-f993-dc65d3423dcd"
   },
   "outputs": [
    {
     "data": {
      "application/vnd.google.colaboratory.intrinsic+json": {
       "type": "string"
      },
      "text/plain": [
       "'Carlos'"
      ]
     },
     "execution_count": 46,
     "metadata": {},
     "output_type": "execute_result"
    }
   ],
   "source": [
    "# alumnos.count(\"Juan\")\n",
    "# alumnos.append(\"Carlos\")\n",
    "#del(alumnos[-1])\n",
    "alumnos.pop(-1)"
   ]
  },
  {
   "cell_type": "code",
   "execution_count": null,
   "metadata": {
    "colab": {
     "base_uri": "https://localhost:8080/"
    },
    "id": "acTFt3PfDoEH",
    "outputId": "0b7d470b-d3eb-4cd2-9f53-d5d264b5a260"
   },
   "outputs": [
    {
     "data": {
      "text/plain": [
       "['Lucinda', 'Joselo', 'Yuri', 'Pepito', 'Yuri', 'Carlos']"
      ]
     },
     "execution_count": 47,
     "metadata": {},
     "output_type": "execute_result"
    }
   ],
   "source": [
    "alumnos"
   ]
  },
  {
   "cell_type": "markdown",
   "metadata": {
    "id": "FOvoU2xNXhxp"
   },
   "source": [
    "### Métodos de cadenas"
   ]
  },
  {
   "cell_type": "code",
   "execution_count": null,
   "metadata": {
    "id": "7pSxByl5X10v"
   },
   "outputs": [],
   "source": [
    "texto = \"KeiTH caballero rOdriguez\""
   ]
  },
  {
   "cell_type": "code",
   "execution_count": null,
   "metadata": {
    "colab": {
     "base_uri": "https://localhost:8080/"
    },
    "id": "rbjuNTSpXucg",
    "outputId": "b5f63962-e106-486c-ae11-e6169b429936"
   },
   "outputs": [
    {
     "name": "stdout",
     "output_type": "stream",
     "text": [
      "Keith caballero rodriguez\n",
      "KEITH CABALLERO RODRIGUEZ\n",
      "keith caballero rodriguez\n",
      "KiiTH caballiro rOdriguiz\n"
     ]
    }
   ],
   "source": [
    "print(\n",
    "    texto.capitalize(),\n",
    "    texto.upper(),\n",
    "    texto.lower(),\n",
    "    texto.replace(\"e\",\"i\"),\n",
    "    sep=\"\\n\"\n",
    ")"
   ]
  },
  {
   "cell_type": "code",
   "execution_count": null,
   "metadata": {
    "colab": {
     "base_uri": "https://localhost:8080/",
     "height": 36
    },
    "id": "gtsi5ZLlxpZD",
    "outputId": "c3b47427-19c3-416f-92b1-6b7083cc25c1"
   },
   "outputs": [
    {
     "data": {
      "application/vnd.google.colaboratory.intrinsic+json": {
       "type": "string"
      },
      "text/plain": [
       "'SE VAN SUS NAVES.'"
      ]
     },
     "execution_count": 69,
     "metadata": {},
     "output_type": "execute_result"
    }
   ],
   "source": [
    "var_cadena_texto.title().lower().upper()"
   ]
  },
  {
   "cell_type": "code",
   "execution_count": null,
   "metadata": {
    "colab": {
     "base_uri": "https://localhost:8080/"
    },
    "id": "yElLnB5uxjYh",
    "outputId": "bc3082a4-eaf6-4d90-bde6-237d53a601f5"
   },
   "outputs": [
    {
     "data": {
      "text/plain": [
       "['Se', 'van', 'sus', 'naves.']"
      ]
     },
     "execution_count": 70,
     "metadata": {},
     "output_type": "execute_result"
    }
   ],
   "source": [
    "var_cadena_texto.split(\" \")"
   ]
  },
  {
   "cell_type": "code",
   "execution_count": null,
   "metadata": {
    "colab": {
     "base_uri": "https://localhost:8080/",
     "height": 36
    },
    "id": "v2fBZ0Muu5Mg",
    "outputId": "5036004c-5570-4761-8ea8-8a28d87fd49f"
   },
   "outputs": [
    {
     "data": {
      "application/vnd.google.colaboratory.intrinsic+json": {
       "type": "string"
      },
      "text/plain": [
       "'chatgptchatgpt'"
      ]
     },
     "execution_count": 74,
     "metadata": {},
     "output_type": "execute_result"
    }
   ],
   "source": [
    "var_cadena * 2"
   ]
  },
  {
   "cell_type": "code",
   "execution_count": null,
   "metadata": {
    "colab": {
     "base_uri": "https://localhost:8080/",
     "height": 36
    },
    "id": "eCqp2YtFuyKN",
    "outputId": "8fd314dc-c87d-494c-dbe5-ad6deb6af888"
   },
   "outputs": [
    {
     "data": {
      "application/vnd.google.colaboratory.intrinsic+json": {
       "type": "string"
      },
      "text/plain": [
       "'chatgptchatgpt'"
      ]
     },
     "execution_count": 75,
     "metadata": {},
     "output_type": "execute_result"
    }
   ],
   "source": [
    "var_cadena + var_cadena"
   ]
  },
  {
   "cell_type": "code",
   "execution_count": null,
   "metadata": {
    "colab": {
     "base_uri": "https://localhost:8080/",
     "height": 36
    },
    "id": "qnraOf3FGN9I",
    "outputId": "4d136ca7-1008-4920-d2d0-919972207434"
   },
   "outputs": [
    {
     "data": {
      "application/vnd.google.colaboratory.intrinsic+json": {
       "type": "string"
      },
      "text/plain": [
       "'KeiTH____caballero____rOdriguez'"
      ]
     },
     "execution_count": 80,
     "metadata": {},
     "output_type": "execute_result"
    }
   ],
   "source": [
    "\"____\".join(texto.split(\" \"))"
   ]
  },
  {
   "cell_type": "markdown",
   "metadata": {
    "id": "_z1rg5JveAfI"
   },
   "source": [
    "## BUCLES Y CONDICIONALES"
   ]
  },
  {
   "cell_type": "markdown",
   "metadata": {
    "id": "JlFGzHdwt4Pr"
   },
   "source": [
    "### Operadores de comparasión y estructuras de control"
   ]
  },
  {
   "cell_type": "code",
   "execution_count": null,
   "metadata": {
    "colab": {
     "base_uri": "https://localhost:8080/"
    },
    "id": "wJDcO1UYeRxH",
    "outputId": "9b7e9cb5-4f26-4fba-d02e-53ab0013030d"
   },
   "outputs": [
    {
     "data": {
      "text/plain": [
       "(True, False, True, True, False, True)"
      ]
     },
     "execution_count": 89,
     "metadata": {},
     "output_type": "execute_result"
    }
   ],
   "source": [
    "1 < 2 , 1 <= 0.4 , 1 > 0 , 3 >= 2 , 3 == 2, 9 != 3"
   ]
  },
  {
   "cell_type": "code",
   "execution_count": null,
   "metadata": {
    "colab": {
     "base_uri": "https://localhost:8080/"
    },
    "id": "ROrGOfVSeTGN",
    "outputId": "d6ff8ab9-3084-45d5-d6b8-6abe6755c681"
   },
   "outputs": [
    {
     "data": {
      "text/plain": [
       "((True, False, False), (True, True, False))"
      ]
     },
     "execution_count": 91,
     "metadata": {},
     "output_type": "execute_result"
    }
   ],
   "source": [
    "(\n",
    "    (True and True,True and False,False and False),\n",
    "    (True or True,True or False, False or False)\n",
    ")"
   ]
  },
  {
   "cell_type": "code",
   "execution_count": null,
   "metadata": {
    "colab": {
     "base_uri": "https://localhost:8080/"
    },
    "id": "yjQRC1FaeVwI",
    "outputId": "4332a2c7-21c7-46a8-c0f1-88444559c536"
   },
   "outputs": [
    {
     "data": {
      "text/plain": [
       "(False, True)"
      ]
     },
     "execution_count": 92,
     "metadata": {},
     "output_type": "execute_result"
    }
   ],
   "source": [
    "not True, not False"
   ]
  },
  {
   "cell_type": "code",
   "execution_count": null,
   "metadata": {
    "colab": {
     "base_uri": "https://localhost:8080/"
    },
    "id": "IAF2OXiemhaE",
    "outputId": "0e5b9ff3-9335-47d5-9fb1-ff90d192d7e0"
   },
   "outputs": [
    {
     "name": "stdout",
     "output_type": "stream",
     "text": [
      "¿Dónde están mis bigmacs?\n"
     ]
    }
   ],
   "source": [
    "tengo_hambre = True\n",
    "\n",
    "if tengo_hambre:\n",
    "    print('¿Dónde están mis bigmacs?')\n",
    "else:\n",
    "    print('Quiero aguita!!')"
   ]
  },
  {
   "cell_type": "code",
   "execution_count": null,
   "metadata": {
    "id": "hLe1p70jQoy9"
   },
   "outputs": [],
   "source": [
    "if 7 > 9:\n",
    "  print(\"Entro a IF\")\n",
    "  print(\"Otro print\")\n",
    "else:\n",
    "  print(\"Paso otra cosa\")"
   ]
  },
  {
   "cell_type": "code",
   "execution_count": null,
   "metadata": {
    "id": "mPiP0hOaRtbh"
   },
   "outputs": [],
   "source": [
    "nombre = \"Luis\""
   ]
  },
  {
   "cell_type": "code",
   "execution_count": null,
   "metadata": {
    "colab": {
     "base_uri": "https://localhost:8080/"
    },
    "id": "SRIv23tPeeAV",
    "outputId": "b9adbfcb-e8b2-476c-9f19-09b8332d477d"
   },
   "outputs": [
    {
     "name": "stdout",
     "output_type": "stream",
     "text": [
      "34 es par\n"
     ]
    }
   ],
   "source": [
    "x = 34\n",
    "if x % 2 == 0:\n",
    "    print(f'{x} es par')\n",
    "elif x % 5 == 0:\n",
    "    print(f'{x} es divisible por 5')\n",
    "else:\n",
    "    print(f'{x} no es divisible entre 5 y no es par')"
   ]
  },
  {
   "cell_type": "code",
   "execution_count": null,
   "metadata": {
    "colab": {
     "base_uri": "https://localhost:8080/"
    },
    "id": "5InEsGn2zpLL",
    "outputId": "fc70c15e-e144-4669-dbad-960379c78087"
   },
   "outputs": [
    {
     "name": "stdout",
     "output_type": "stream",
     "text": [
      "Porsiacaso\n"
     ]
    }
   ],
   "source": [
    "numero = 47\n",
    "\n",
    "if numero % 2 ==0:\n",
    "    print('Eres Par')\n",
    "elif numero % 3 == 0 :\n",
    "    print('Eres múltiplo de 3')\n",
    "elif ((numero % 3)==0)  and not ((numero % 2) == 0) and numero < 40:\n",
    "    print('No se que eres, pero eres menor a 40')\n",
    "else:\n",
    "  print(\"Porsiacaso\")"
   ]
  },
  {
   "cell_type": "markdown",
   "metadata": {
    "id": "Cqdk_xsO0kvL"
   },
   "source": [
    "### Bucles"
   ]
  },
  {
   "cell_type": "code",
   "execution_count": null,
   "metadata": {
    "id": "c06rMbG5TnK6"
   },
   "outputs": [],
   "source": [
    "lista = [\"Alicia\",\"Pedro\",\"Ruth\",\"Leipol\",23,\"Lineo\",1231,None,True]"
   ]
  },
  {
   "cell_type": "code",
   "execution_count": null,
   "metadata": {
    "colab": {
     "base_uri": "https://localhost:8080/"
    },
    "id": "5iuANDcwTn8A",
    "outputId": "e84af404-7846-490c-ad89-6a5b2000814c"
   },
   "outputs": [
    {
     "data": {
      "text/plain": [
       "[(0, 'Alicia'),\n",
       " (1, 'Pedro'),\n",
       " (2, 'Ruth'),\n",
       " (3, 'Leipol'),\n",
       " (4, 23),\n",
       " (5, 'Lineo'),\n",
       " (6, 1231),\n",
       " (7, None),\n",
       " (8, True)]"
      ]
     },
     "execution_count": 128,
     "metadata": {},
     "output_type": "execute_result"
    }
   ],
   "source": [
    "list(enumerate(lista))"
   ]
  },
  {
   "cell_type": "code",
   "execution_count": null,
   "metadata": {
    "colab": {
     "base_uri": "https://localhost:8080/"
    },
    "id": "nEBR-cIaS8_b",
    "outputId": "8072531c-f4a8-410e-96f6-b164fe72b149"
   },
   "outputs": [
    {
     "name": "stdout",
     "output_type": "stream",
     "text": [
      "23\n",
      "Lineo\n",
      "1231\n",
      "None\n",
      "True\n"
     ]
    }
   ],
   "source": [
    "for idx,obj in enumerate(lista):\n",
    "  if idx>=4:\n",
    "    print(obj)"
   ]
  },
  {
   "cell_type": "code",
   "execution_count": null,
   "metadata": {
    "colab": {
     "base_uri": "https://localhost:8080/"
    },
    "id": "ilbu81ATeqAF",
    "outputId": "0ee2dce5-1471-40ff-dafd-537611c1edb1"
   },
   "outputs": [
    {
     "name": "stdout",
     "output_type": "stream",
     "text": [
      "0 | 5 | 10 | 15 | 20 | 25 | 30 | 35 | 40 | 45 | 50 | 55 | 60 | 65 | 70 | 75 | 80 | 85 | 90 | 95 | "
     ]
    }
   ],
   "source": [
    "for i in range(100):\n",
    "    if i % 5 ==0:\n",
    "        print(i,end=' | ')"
   ]
  },
  {
   "cell_type": "code",
   "execution_count": null,
   "metadata": {
    "colab": {
     "base_uri": "https://localhost:8080/"
    },
    "id": "S5bt9A6S0jsQ",
    "outputId": "4df2babe-4735-4d18-da86-50266b2f7765"
   },
   "outputs": [
    {
     "name": "stdout",
     "output_type": "stream",
     "text": [
      "0|1|2|3|4|5|6|7|8|9|10|11|12|13|14|15|16|17|18|19|20|\n",
      "\n",
      "21|22|23|24|25|26|27|28|29|30|31|32|33|34|35|36|37|38|39|40|\n",
      "\n",
      "41|42|43|44|45|46|47|48|49|50|51|52|53|54|55|56|57|58|59|60|\n",
      "\n",
      "61|62|63|64|65|66|67|68|69|70|71|72|73|74|75|76|77|78|79|80|\n",
      "\n",
      "81|82|83|84|85|86|87|88|89|90|91|92|93|94|95|96|97|98|99|100|\n",
      "\n",
      "101|102|103|104|105|106|107|108|109|110|111|112|113|114|115|116|117|118|119|120|\n",
      "\n",
      "121|122|123|124|125|126|127|128|129|130|131|132|133|134|135|136|137|138|139|140|\n",
      "\n",
      "141|142|143|144|145|146|147|148|149|150|151|152|153|154|155|156|157|158|159|160|\n",
      "\n",
      "161|162|163|164|165|166|167|168|169|170|171|172|173|174|175|176|177|178|179|180|\n",
      "\n",
      "181|182|183|184|185|186|187|188|189|190|191|192|193|194|195|196|197|198|199|200|\n",
      "\n",
      "201|202|203|204|205|206|207|208|209|210|211|212|213|214|215|216|217|218|219|220|\n",
      "\n",
      "221|222|223|224|225|226|227|228|229|230|231|232|233|234|235|236|237|238|239|240|\n",
      "\n",
      "241|242|243|244|245|246|247|248|249|250|251|252|253|254|255|256|257|258|259|260|\n",
      "\n",
      "261|262|263|264|265|266|267|268|269|270|271|272|273|274|275|276|277|278|279|280|\n",
      "\n",
      "281|282|283|284|285|286|287|288|289|290|291|292|293|294|295|296|297|298|299|300|\n",
      "\n",
      "301|302|303|304|305|306|307|308|309|310|311|312|313|314|315|316|317|318|319|320|\n",
      "\n",
      "321|322|323|324|325|326|327|328|329|330|331|332|333|334|335|336|337|338|339|340|\n",
      "\n",
      "341|342|343|344|345|346|347|348|349|350|351|352|353|354|355|356|357|358|359|360|\n",
      "\n",
      "361|362|363|364|365|366|367|368|369|370|371|372|373|374|375|376|377|378|379|380|\n",
      "\n",
      "381|382|383|384|385|386|387|388|389|390|391|392|393|394|395|396|397|398|399|"
     ]
    }
   ],
   "source": [
    "for valor in range(400):\n",
    "  print(valor,end=\"|\")\n",
    "  if valor % 20==0 and valor!=0:\n",
    "    print(\"\\n\")"
   ]
  },
  {
   "cell_type": "code",
   "execution_count": null,
   "metadata": {
    "colab": {
     "base_uri": "https://localhost:8080/"
    },
    "id": "QrWhlqsx1NLf",
    "outputId": "6bed0ecd-3a9b-4c1c-9341-cd660b47a965"
   },
   "outputs": [
    {
     "name": "stdout",
     "output_type": "stream",
     "text": [
      "0|1|2|3|4|5|6|7|8|9|10|11|12|13|14|15|16|17|18|19|20|"
     ]
    }
   ],
   "source": [
    "maxi=0\n",
    "while True:\n",
    "    print(maxi,end='|')\n",
    "    if maxi == 20:\n",
    "        break\n",
    "    maxi+=1"
   ]
  },
  {
   "cell_type": "code",
   "execution_count": null,
   "metadata": {
    "colab": {
     "base_uri": "https://localhost:8080/"
    },
    "id": "m1AEZ64ad09n",
    "outputId": "21a135ac-dbdd-4f5b-db94-70f84a27880a"
   },
   "outputs": [
    {
     "name": "stdout",
     "output_type": "stream",
     "text": [
      "Números divisibles por 5\n",
      "0 | 5 | 10 | 15 | 20 | 25 | 30 | 35 | 40 | 45 | 50 | 55 | 60 | 65 | 70 | 75 | 80 | 85 | 90 | 95 | "
     ]
    }
   ],
   "source": [
    "vals = list(range(100))\n",
    "i = 0\n",
    "print('Números divisibles por 5')\n",
    "while i < len(vals):\n",
    "    if vals[i] % 5 ==0:\n",
    "        print(vals[i],end=' | ')\n",
    "    i += 1"
   ]
  },
  {
   "cell_type": "markdown",
   "metadata": {
    "id": "HZV_HD7jxu39"
   },
   "source": [
    "## UDF: FUNCIONES DEFINIDAS POR EL USUARIO"
   ]
  },
  {
   "cell_type": "code",
   "execution_count": null,
   "metadata": {
    "id": "PDoDyeUZwJnm"
   },
   "outputs": [],
   "source": [
    "def multiplicar_elevar(valor,val_mult,val_elev):\n",
    "  nuevo_valor = (valor * val_mult) ** val_elev\n",
    "  print(nuevo_valor)\n",
    "  return nuevo_valor"
   ]
  },
  {
   "cell_type": "code",
   "execution_count": null,
   "metadata": {
    "colab": {
     "base_uri": "https://localhost:8080/"
    },
    "id": "NG91EZf5yHmi",
    "outputId": "38302114-6ca5-407d-a8b9-0b0e0c5bd419"
   },
   "outputs": [
    {
     "name": "stdout",
     "output_type": "stream",
     "text": [
      "100\n"
     ]
    }
   ],
   "source": [
    "var_output_function = multiplicar_elevar(valor=2,val_mult=5,val_elev=2)"
   ]
  },
  {
   "cell_type": "code",
   "execution_count": null,
   "metadata": {
    "colab": {
     "base_uri": "https://localhost:8080/"
    },
    "id": "ZNwu47760Fsd",
    "outputId": "b4de830a-d031-4b30-b580-700d0b9259ea"
   },
   "outputs": [
    {
     "data": {
      "text/plain": [
       "100"
      ]
     },
     "execution_count": 154,
     "metadata": {},
     "output_type": "execute_result"
    }
   ],
   "source": [
    "# Mejorando la definición de la función\n",
    "\n",
    "def multiplicar_elevar(\n",
    "    valor: float,\n",
    "    val_mult: float,\n",
    "    val_elev: float = 2\n",
    "  ) -> float:\n",
    "  \"\"\"\n",
    "  Multiplicar el valor pasado en la función y la eleva en base a otro valor\n",
    "\n",
    "  valor: valor ingresado\n",
    "  val_mult: valor con el que se multiplicara el valor ingresado\n",
    "  val_elev: número con el cual se elevara la expresión del producto\n",
    "\n",
    "  Retorna\n",
    "    Nuevo valor dado por la expresión\n",
    "\n",
    "  \"\"\"\n",
    "  nuevo_valor = (valor * val_mult) ** val_elev\n",
    "  return nuevo_valor\n",
    "\n",
    "multiplicar_elevar(2,5)"
   ]
  },
  {
   "cell_type": "markdown",
   "metadata": {
    "id": "unQwUzq613s-"
   },
   "source": [
    "### Ambitos\n",
    " - Global: Definida en el cuerpo principal del script\n",
    " - Local: Definida dentro de una función\n",
    " - Built-in: Nombres en los modulos predefinidos"
   ]
  },
  {
   "cell_type": "code",
   "execution_count": null,
   "metadata": {
    "colab": {
     "base_uri": "https://localhost:8080/"
    },
    "id": "ZiR_Me4819KF",
    "outputId": "a4de22d9-8d79-466a-c740-4bd72b9f0cf5"
   },
   "outputs": [
    {
     "data": {
      "text/plain": [
       "(64, 80)"
      ]
     },
     "execution_count": 156,
     "metadata": {},
     "output_type": "execute_result"
    }
   ],
   "source": [
    "nuevo_valor = 80\n",
    "\n",
    "def multiplicar_elevar(valor,val_mult,val_elev):\n",
    "  nuevo_valor = (valor * val_mult) ** val_elev\n",
    "  return nuevo_valor\n",
    "\n",
    "multiplicar_elevar(2,4,2),nuevo_valor"
   ]
  },
  {
   "cell_type": "code",
   "execution_count": null,
   "metadata": {
    "colab": {
     "base_uri": "https://localhost:8080/"
    },
    "id": "4d0Z2VUy21R0",
    "outputId": "7ed50343-9b10-4fcb-ff6b-fa8d1a11b0c4"
   },
   "outputs": [
    {
     "data": {
      "text/plain": [
       "(6, 6)"
      ]
     },
     "execution_count": 159,
     "metadata": {},
     "output_type": "execute_result"
    }
   ],
   "source": [
    "nuevo_valor = 90\n",
    "\n",
    "def multiplicar_elevar(valor,val_mult,val_elev):\n",
    "  global nuevo_valor\n",
    "  nuevo_valor = (valor * val_mult) ** val_elev\n",
    "  return nuevo_valor\n",
    "\n",
    "multiplicar_elevar(2,3,1),nuevo_valor"
   ]
  },
  {
   "cell_type": "markdown",
   "metadata": {
    "id": "eghqJqg86Q5R"
   },
   "source": [
    "### Argumentos de una función"
   ]
  },
  {
   "cell_type": "code",
   "execution_count": null,
   "metadata": {
    "id": "qafUKAoW6WW7"
   },
   "outputs": [],
   "source": [
    "def enviar_correo(cuerpo,titulo,correo_origen,correo_destino):\n",
    "  cuerpo_del_correo = f\"\"\"\n",
    "  {titulo.upper()}\n",
    "  Remitente: {correo_origen}\n",
    "  Destinatario: {correo_destino}\n",
    "  {cuerpo}\n",
    "  \"\"\"\n",
    "  return cuerpo_del_correo"
   ]
  },
  {
   "cell_type": "code",
   "execution_count": null,
   "metadata": {
    "colab": {
     "base_uri": "https://localhost:8080/"
    },
    "id": "3RLDpd42za_y",
    "outputId": "27bf8973-1417-4ca4-fed2-7f99b1282fb3"
   },
   "outputs": [
    {
     "name": "stdout",
     "output_type": "stream",
     "text": [
      "\n",
      "  CORREO DE BIENVENIDA\n",
      "  Remitente: keith_caballero@outlook.com\n",
      "  Destinatario: *\n",
      "  SALUDOS CORDIALES A TODOS LOS ALUMNOS DEL BOOTCAMP\n",
      "  \n"
     ]
    }
   ],
   "source": [
    "envio = enviar_correo(\"SALUDOS CORDIALES A TODOS LOS ALUMNOS DEL BOOTCAMP\",\"Correo de bienvenida\",\"keith_caballero@outlook.com\",\"*\")\n",
    "print(envio)"
   ]
  },
  {
   "cell_type": "code",
   "execution_count": null,
   "metadata": {
    "id": "N7DkR58Szutp"
   },
   "outputs": [],
   "source": [
    "def enviar_correo(*args):\n",
    "  cuerpo_del_correo = f\"\"\"\n",
    "  {args[1].upper()}\n",
    "  Remitente: {args[2]}\n",
    "  Destinatario: {args[3]}\n",
    "  {args[0]}\n",
    "  \"\"\"\n",
    "  return cuerpo_del_correo"
   ]
  },
  {
   "cell_type": "code",
   "execution_count": null,
   "metadata": {
    "colab": {
     "base_uri": "https://localhost:8080/"
    },
    "id": "jZ2nZKlfz-CP",
    "outputId": "4d562355-3106-49cf-d1f7-566ef0287dea"
   },
   "outputs": [
    {
     "name": "stdout",
     "output_type": "stream",
     "text": [
      "\n",
      "  CORREO DE BIENVENIDA\n",
      "  Remitente: keith_caballero@outlook.com\n",
      "  Destinatario: *\n",
      "  SALUDOS CORDIALES A TODOS LOS ALUMNOS DEL BOOTCAMP\n",
      "  \n"
     ]
    }
   ],
   "source": [
    "envio = enviar_correo(\"SALUDOS CORDIALES A TODOS LOS ALUMNOS DEL BOOTCAMP\",\"Correo de bienvenida\",\"keith_caballero@outlook.com\",\"*\")\n",
    "print(envio)"
   ]
  },
  {
   "cell_type": "code",
   "execution_count": null,
   "metadata": {
    "id": "xsjGS63x0PsO"
   },
   "outputs": [],
   "source": [
    "def promedio(*args):\n",
    "  _suma = 0\n",
    "  for elem in args:\n",
    "    _suma =+ elem\n",
    "  resultado = _suma/len(args)\n",
    "  return resultado"
   ]
  },
  {
   "cell_type": "code",
   "execution_count": null,
   "metadata": {
    "colab": {
     "base_uri": "https://localhost:8080/"
    },
    "id": "Y-08Xj1s03Rm",
    "outputId": "6549f40a-3f41-404e-ab21-7336d5786da7"
   },
   "outputs": [
    {
     "data": {
      "text/plain": [
       "2.2857142857142856"
      ]
     },
     "execution_count": 172,
     "metadata": {},
     "output_type": "execute_result"
    }
   ],
   "source": [
    "promedio(1,2,3,4,65,78,8,9,9,5,5,4,3,32)"
   ]
  },
  {
   "cell_type": "code",
   "execution_count": null,
   "metadata": {
    "id": "AyCIluAo1BjR"
   },
   "outputs": [],
   "source": [
    "def enviar_correo(parametro_real=\"KEITH\",*args,**kwargs):\n",
    "  print(parametro_real)\n",
    "  print(args)\n",
    "  if kwargs['estado']==1:\n",
    "    cuerpo_del_correo = f\"\"\"\n",
    "    {kwargs['titulo'].upper()}\n",
    "    Remitente: {kwargs['correo_origen']}\n",
    "    Destinatario: {kwargs['correo_destino']}\n",
    "    {kwargs['cuerpo']}\n",
    "    \"\"\"\n",
    "    return cuerpo_del_correo"
   ]
  },
  {
   "cell_type": "code",
   "execution_count": null,
   "metadata": {
    "colab": {
     "base_uri": "https://localhost:8080/"
    },
    "id": "tIrdvpzo17R1",
    "outputId": "10dd2d24-d247-4ce0-d40a-ca6c1b9df32c"
   },
   "outputs": [
    {
     "name": "stdout",
     "output_type": "stream",
     "text": [
      "keith\n",
      "(34, 67, 435)\n",
      "\n",
      "    CORREO DE BIENVENIDA\n",
      "    Remitente: keith_caballero@outlook.com\n",
      "    Destinatario: *\n",
      "    SALUDOS CORDIALES A TODOS LOS ALUMNOS DEL BOOTCAMP\n",
      "    \n"
     ]
    }
   ],
   "source": [
    "envio = enviar_correo(\n",
    "    \"keith\",34,67,435,\n",
    "    cuerpo=\"SALUDOS CORDIALES A TODOS LOS ALUMNOS DEL BOOTCAMP\",\n",
    "    titulo = \"Correo de bienvenida\",\n",
    "    correo_origen = \"keith_caballero@outlook.com\",\n",
    "    correo_destino = \"*\",\n",
    "    estado=1\n",
    ")\n",
    "print(envio)"
   ]
  },
  {
   "cell_type": "markdown",
   "metadata": {
    "id": "0SPbXR8LnYsj"
   },
   "source": [
    "## LAMBDA, MAP, FILTER, REDUCE"
   ]
  },
  {
   "cell_type": "markdown",
   "metadata": {
    "id": "l8E7cJPlnojd"
   },
   "source": [
    "### Funciones anónimas **Lambda**"
   ]
  },
  {
   "cell_type": "code",
   "execution_count": null,
   "metadata": {
    "id": "HZ-Ttiibtgq9"
   },
   "outputs": [],
   "source": [
    "operacion_dummy = lambda x,y:x*2 +y*2"
   ]
  },
  {
   "cell_type": "code",
   "execution_count": null,
   "metadata": {
    "colab": {
     "base_uri": "https://localhost:8080/"
    },
    "id": "VvGlnpi4tr-U",
    "outputId": "eff74cc7-ccfc-4f90-825d-6814a5b06ab2"
   },
   "outputs": [
    {
     "data": {
      "text/plain": [
       "60"
      ]
     },
     "execution_count": 39,
     "metadata": {},
     "output_type": "execute_result"
    }
   ],
   "source": [
    "operacion_dummy(10,20)"
   ]
  },
  {
   "cell_type": "markdown",
   "metadata": {
    "id": "_dMgaNe-oEow"
   },
   "source": [
    "### Funciones **Map** y **Filter**"
   ]
  },
  {
   "cell_type": "code",
   "execution_count": null,
   "metadata": {
    "id": "hN5beaMFt41S"
   },
   "outputs": [],
   "source": [
    "lista1 = list(range(0,100))\n",
    "lista2 = list(range(100,200))"
   ]
  },
  {
   "cell_type": "code",
   "execution_count": null,
   "metadata": {
    "id": "ysXt3HbmuFl7"
   },
   "outputs": [],
   "source": [
    "# Calculo tradicional\n",
    "for i in range(len(lista1)):\n",
    "  print(lista1[i]*2 + lista2[i]*2)"
   ]
  },
  {
   "cell_type": "code",
   "execution_count": null,
   "metadata": {
    "id": "zkUGLjqlucap"
   },
   "outputs": [],
   "source": [
    "list(map(lambda x,y: x*2 + y*2,lista1,lista2))"
   ]
  },
  {
   "cell_type": "code",
   "execution_count": null,
   "metadata": {
    "id": "fF05UEw6vA0F"
   },
   "outputs": [],
   "source": [
    "list(map(lambda x: x / 10 ,lista1))"
   ]
  },
  {
   "cell_type": "code",
   "execution_count": null,
   "metadata": {
    "colab": {
     "base_uri": "https://localhost:8080/"
    },
    "id": "g-4spgNvvIRO",
    "outputId": "ce29306e-6a32-41cf-dce8-787aa386a039"
   },
   "outputs": [
    {
     "data": {
      "text/plain": [
       "[0, 10, 20, 30, 40, 50, 60, 70, 80, 90]"
      ]
     },
     "execution_count": 50,
     "metadata": {},
     "output_type": "execute_result"
    }
   ],
   "source": [
    "list(filter(lambda x: x % 10 == 0 ,lista1))"
   ]
  },
  {
   "cell_type": "markdown",
   "metadata": {
    "id": "W76F7Vb6ptwU"
   },
   "source": [
    "### Función **Reduce**"
   ]
  },
  {
   "cell_type": "code",
   "execution_count": null,
   "metadata": {
    "id": "Z_eShXs6vrVa"
   },
   "outputs": [],
   "source": [
    "from functools import reduce"
   ]
  },
  {
   "cell_type": "code",
   "execution_count": null,
   "metadata": {
    "colab": {
     "base_uri": "https://localhost:8080/"
    },
    "id": "lX1RBC4Xvx4Q",
    "outputId": "60a00b90-3992-45e0-dd1c-4295e37d13c4"
   },
   "outputs": [
    {
     "data": {
      "text/plain": [
       "15"
      ]
     },
     "execution_count": 60,
     "metadata": {},
     "output_type": "execute_result"
    }
   ],
   "source": [
    "reduce(lambda x, y: x+y, [1, 2, 3, 4, 5])"
   ]
  },
  {
   "cell_type": "code",
   "execution_count": null,
   "metadata": {
    "colab": {
     "base_uri": "https://localhost:8080/"
    },
    "id": "UBguqWguwwqU",
    "outputId": "001fb412-83e4-4936-bbd5-0b4bbc3dc24e"
   },
   "outputs": [
    {
     "name": "stdout",
     "output_type": "stream",
     "text": [
      "499.5\n"
     ]
    }
   ],
   "source": [
    "_numeros = list(range(1000))\n",
    "suma = 0\n",
    "for i in _numeros:\n",
    "  suma += i\n",
    "promedio = suma/len(_numeros)\n",
    "print(promedio)"
   ]
  },
  {
   "cell_type": "code",
   "execution_count": null,
   "metadata": {
    "colab": {
     "base_uri": "https://localhost:8080/"
    },
    "id": "Mh1nUVXfxBBp",
    "outputId": "7a72c4a6-7ca2-4bcb-8fac-8bdd91683aaa"
   },
   "outputs": [
    {
     "data": {
      "text/plain": [
       "499.5"
      ]
     },
     "execution_count": 63,
     "metadata": {},
     "output_type": "execute_result"
    }
   ],
   "source": [
    "reduce(lambda x, y: x+y,_numeros)/len(_numeros)"
   ]
  },
  {
   "cell_type": "markdown",
   "metadata": {
    "id": "ohrObJRt4SbN"
   },
   "source": [
    "## NUMPY"
   ]
  },
  {
   "cell_type": "code",
   "execution_count": null,
   "metadata": {
    "id": "YtcuIGzRyYwm"
   },
   "outputs": [],
   "source": [
    "import numpy as np"
   ]
  },
  {
   "cell_type": "markdown",
   "metadata": {
    "id": "sJ_lNLKI5Q2Z"
   },
   "source": [
    "### Comportamiento tradicional"
   ]
  },
  {
   "cell_type": "code",
   "execution_count": null,
   "metadata": {
    "id": "TyoYG1B74fF5"
   },
   "outputs": [],
   "source": [
    "edades = [15,30,40,53,35,50]\n",
    "pesos = [98,76,96,102,85,65]\n",
    "altura = [1.76,1.84,1.70,1.65,1.50,1.78]"
   ]
  },
  {
   "cell_type": "code",
   "execution_count": null,
   "metadata": {
    "id": "mVnDyhai4lxh"
   },
   "outputs": [],
   "source": [
    "#pesos / altura ** 2"
   ]
  },
  {
   "cell_type": "code",
   "execution_count": null,
   "metadata": {
    "colab": {
     "base_uri": "https://localhost:8080/"
    },
    "id": "4XRVOseO4oZP",
    "outputId": "a43abd99-6df5-40c8-9b77-97b0fe13362b"
   },
   "outputs": [
    {
     "data": {
      "text/plain": [
       "[31.63739669421488,\n",
       " 22.448015122873343,\n",
       " 33.21799307958478,\n",
       " 37.46556473829202,\n",
       " 37.77777777777778,\n",
       " 20.515086478979924]"
      ]
     },
     "execution_count": 67,
     "metadata": {},
     "output_type": "execute_result"
    }
   ],
   "source": [
    "[ (pesos[i] / altura[i] ** 2)  for i in range(6)]"
   ]
  },
  {
   "cell_type": "code",
   "execution_count": null,
   "metadata": {
    "colab": {
     "base_uri": "https://localhost:8080/"
    },
    "id": "WFsZK-Q9zwqh",
    "outputId": "00a54b4a-8337-48c0-da7c-fdfe0e9b7c0e"
   },
   "outputs": [
    {
     "data": {
      "text/plain": [
       "[31.63739669421488,\n",
       " 22.448015122873343,\n",
       " 33.21799307958478,\n",
       " 37.46556473829202,\n",
       " 37.77777777777778,\n",
       " 20.515086478979924]"
      ]
     },
     "execution_count": 69,
     "metadata": {},
     "output_type": "execute_result"
    }
   ],
   "source": [
    "list(map(lambda p,a: p/a**2,pesos,altura))"
   ]
  },
  {
   "cell_type": "code",
   "execution_count": null,
   "metadata": {
    "id": "WYCbrf_P4sik"
   },
   "outputs": [],
   "source": [
    "#pesos / altura ** 2"
   ]
  },
  {
   "cell_type": "markdown",
   "metadata": {
    "id": "ECN7aD4S5MiA"
   },
   "source": [
    "### Comportamiento con arrays de Numpy"
   ]
  },
  {
   "cell_type": "code",
   "execution_count": null,
   "metadata": {
    "id": "2MDEzOMX41mA"
   },
   "outputs": [],
   "source": [
    "import numpy as np"
   ]
  },
  {
   "cell_type": "code",
   "execution_count": null,
   "metadata": {
    "id": "Lh-jmVy54z9j"
   },
   "outputs": [],
   "source": [
    "np_pesos = np.array(pesos)\n",
    "np_altura = np.array(altura)"
   ]
  },
  {
   "cell_type": "code",
   "execution_count": null,
   "metadata": {
    "colab": {
     "base_uri": "https://localhost:8080/"
    },
    "id": "KLup6ASd46ry",
    "outputId": "3fc031c0-dd91-4e4b-ac3a-f78a0c232a81"
   },
   "outputs": [
    {
     "data": {
      "text/plain": [
       "array([31.63739669, 22.44801512, 33.21799308, 37.46556474, 37.77777778,\n",
       "       20.51508648])"
      ]
     },
     "execution_count": 84,
     "metadata": {},
     "output_type": "execute_result"
    }
   ],
   "source": [
    "np_pesos / np_altura ** 2"
   ]
  },
  {
   "cell_type": "code",
   "execution_count": null,
   "metadata": {
    "colab": {
     "base_uri": "https://localhost:8080/"
    },
    "id": "fO3TT_uo49iT",
    "outputId": "0bacad26-8252-4ce9-efb2-db7b5aa938e1"
   },
   "outputs": [
    {
     "data": {
      "text/plain": [
       "array(['100', 'numero'], dtype='<U21')"
      ]
     },
     "execution_count": 85,
     "metadata": {},
     "output_type": "execute_result"
    }
   ],
   "source": [
    "np.array([100,\"numero\"]) # cosiderado como un solo tipo"
   ]
  },
  {
   "cell_type": "code",
   "execution_count": null,
   "metadata": {
    "colab": {
     "base_uri": "https://localhost:8080/"
    },
    "id": "Y3H-bRnR5AK3",
    "outputId": "0e82ef99-0366-4fc6-898a-2fa55490773c"
   },
   "outputs": [
    {
     "data": {
      "text/plain": [
       "array(['True', 'numero'], dtype='<U6')"
      ]
     },
     "execution_count": 86,
     "metadata": {},
     "output_type": "execute_result"
    }
   ],
   "source": [
    "np.array([True,\"numero\"])"
   ]
  },
  {
   "cell_type": "code",
   "execution_count": null,
   "metadata": {
    "colab": {
     "base_uri": "https://localhost:8080/"
    },
    "id": "dXy3VcOH5DAQ",
    "outputId": "743340b4-b9ad-480b-ac8f-0944ac5c3ac2"
   },
   "outputs": [
    {
     "data": {
      "text/plain": [
       "array([ True, False])"
      ]
     },
     "execution_count": 87,
     "metadata": {},
     "output_type": "execute_result"
    }
   ],
   "source": [
    "np.array([True,False])"
   ]
  },
  {
   "cell_type": "code",
   "execution_count": null,
   "metadata": {
    "colab": {
     "base_uri": "https://localhost:8080/"
    },
    "id": "kqar9hJI5Fhv",
    "outputId": "8613ddc2-caa2-475c-839a-5ba9bb318126"
   },
   "outputs": [
    {
     "data": {
      "text/plain": [
       "array([False, False, False, False, False,  True])"
      ]
     },
     "execution_count": 88,
     "metadata": {},
     "output_type": "execute_result"
    }
   ],
   "source": [
    "np_pesos < 70"
   ]
  },
  {
   "cell_type": "code",
   "execution_count": null,
   "metadata": {
    "colab": {
     "base_uri": "https://localhost:8080/"
    },
    "id": "kqEqZ_0N5JP8",
    "outputId": "2662b91d-b92e-40d4-f176-786543b2ff9c"
   },
   "outputs": [
    {
     "data": {
      "text/plain": [
       "array([76, 65])"
      ]
     },
     "execution_count": 94,
     "metadata": {},
     "output_type": "execute_result"
    }
   ],
   "source": [
    "np_pesos[np_pesos < 80]"
   ]
  },
  {
   "cell_type": "markdown",
   "metadata": {
    "id": "6zAGM_0x5c9D"
   },
   "source": [
    "### Tipos de Numpy arrays"
   ]
  },
  {
   "cell_type": "code",
   "execution_count": null,
   "metadata": {
    "id": "5BPHwjNw5iD3"
   },
   "outputs": [],
   "source": [
    "np_edades = np.array([15,30,40,53,35,50])\n",
    "np_pesos = np.array([98,76,96,102,85,65])\n",
    "np_altura = np.array([1.76,1.84,1.70,1.65,1.50,1.78])"
   ]
  },
  {
   "cell_type": "code",
   "execution_count": null,
   "metadata": {
    "colab": {
     "base_uri": "https://localhost:8080/"
    },
    "id": "xjY-tQLS5jtp",
    "outputId": "99290740-79d1-4d97-f4d4-6095992b8600"
   },
   "outputs": [
    {
     "data": {
      "text/plain": [
       "(numpy.ndarray, (6,))"
      ]
     },
     "execution_count": 96,
     "metadata": {},
     "output_type": "execute_result"
    }
   ],
   "source": [
    "type(np_edades),np_edades.shape"
   ]
  },
  {
   "cell_type": "code",
   "execution_count": null,
   "metadata": {
    "colab": {
     "base_uri": "https://localhost:8080/"
    },
    "id": "coS0zXqv5mAI",
    "outputId": "fd51ea67-52c2-420b-b2a8-a7ac458973aa"
   },
   "outputs": [
    {
     "data": {
      "text/plain": [
       "(2, 6)"
      ]
     },
     "execution_count": 98,
     "metadata": {},
     "output_type": "execute_result"
    }
   ],
   "source": [
    "np_2d = np.array([\n",
    "    [15,30,40,53,35,50],\n",
    "    [98,76,96,102,85,65]\n",
    "])\n",
    "\n",
    "np_2d.shape"
   ]
  },
  {
   "cell_type": "code",
   "execution_count": null,
   "metadata": {
    "colab": {
     "base_uri": "https://localhost:8080/"
    },
    "id": "Tq7nlmtT5qZC",
    "outputId": "31be556f-cfec-4cf2-9945-c0688c125135"
   },
   "outputs": [
    {
     "data": {
      "text/plain": [
       "(40, 40)"
      ]
     },
     "execution_count": 100,
     "metadata": {},
     "output_type": "execute_result"
    }
   ],
   "source": [
    "np_2d[0][2],np_2d[0,2]"
   ]
  },
  {
   "cell_type": "code",
   "execution_count": null,
   "metadata": {
    "colab": {
     "base_uri": "https://localhost:8080/"
    },
    "id": "WJd7-Nwx5srJ",
    "outputId": "9372f69d-db16-460d-96ca-a46a31060694"
   },
   "outputs": [
    {
     "data": {
      "text/plain": [
       "array([[30, 40],\n",
       "       [76, 96]])"
      ]
     },
     "execution_count": 101,
     "metadata": {},
     "output_type": "execute_result"
    }
   ],
   "source": [
    "np_2d[:,1:3]"
   ]
  },
  {
   "cell_type": "code",
   "execution_count": null,
   "metadata": {
    "colab": {
     "base_uri": "https://localhost:8080/"
    },
    "id": "DlUWdbcj5w4b",
    "outputId": "56c05418-c421-4208-c799-43781d8b1891"
   },
   "outputs": [
    {
     "data": {
      "text/plain": [
       "(array([15, 98]), array([30, 76]))"
      ]
     },
     "execution_count": 102,
     "metadata": {},
     "output_type": "execute_result"
    }
   ],
   "source": [
    "np_2d[:,0],np_2d[:,1]"
   ]
  },
  {
   "cell_type": "code",
   "execution_count": null,
   "metadata": {
    "colab": {
     "base_uri": "https://localhost:8080/"
    },
    "id": "tLIL8z3N5vbA",
    "outputId": "129ec79f-ef76-4258-88b0-5af35958282b"
   },
   "outputs": [
    {
     "data": {
      "text/plain": [
       "array([[ 1.        , -0.17948175],\n",
       "       [-0.17948175,  1.        ]])"
      ]
     },
     "execution_count": 103,
     "metadata": {},
     "output_type": "execute_result"
    }
   ],
   "source": [
    "np.corrcoef(np_2d[0,:],np_2d[1,:])"
   ]
  },
  {
   "cell_type": "code",
   "execution_count": null,
   "metadata": {
    "colab": {
     "base_uri": "https://localhost:8080/"
    },
    "id": "JA8qlpMq5yzi",
    "outputId": "5a2d10ac-6309-43e8-aa90-a00c0f158b00"
   },
   "outputs": [
    {
     "data": {
      "text/plain": [
       "13.140268896284683"
      ]
     },
     "execution_count": 105,
     "metadata": {},
     "output_type": "execute_result"
    }
   ],
   "source": [
    "np.std(np_pesos)"
   ]
  },
  {
   "cell_type": "code",
   "execution_count": null,
   "metadata": {
    "colab": {
     "base_uri": "https://localhost:8080/"
    },
    "id": "WMh8u6We2Nm_",
    "outputId": "458eacc2-3cec-4872-b42e-cc5c29043049"
   },
   "outputs": [
    {
     "data": {
      "text/plain": [
       "87.0"
      ]
     },
     "execution_count": 107,
     "metadata": {},
     "output_type": "execute_result"
    }
   ],
   "source": [
    "np.mean(np_pesos)"
   ]
  },
  {
   "cell_type": "code",
   "execution_count": null,
   "metadata": {
    "colab": {
     "base_uri": "https://localhost:8080/"
    },
    "id": "15cwgbiF50S4",
    "outputId": "35db20a3-7e2c-4c01-97d1-a795324a244c"
   },
   "outputs": [
    {
     "data": {
      "text/plain": [
       "522"
      ]
     },
     "execution_count": 108,
     "metadata": {},
     "output_type": "execute_result"
    }
   ],
   "source": [
    "np.sum(np_pesos)"
   ]
  },
  {
   "cell_type": "code",
   "execution_count": null,
   "metadata": {
    "colab": {
     "base_uri": "https://localhost:8080/"
    },
    "id": "SMwGiyPr512X",
    "outputId": "7aa29720-66b4-42c2-e0ee-5c9faf362292"
   },
   "outputs": [
    {
     "data": {
      "text/plain": [
       "array([ 65,  76,  85,  96,  98, 102])"
      ]
     },
     "execution_count": 109,
     "metadata": {},
     "output_type": "execute_result"
    }
   ],
   "source": [
    "np.sort(np_pesos)"
   ]
  },
  {
   "cell_type": "markdown",
   "metadata": {
    "id": "te34plFr56xE"
   },
   "source": [
    "### Generando datos aleatoriamente"
   ]
  },
  {
   "cell_type": "code",
   "execution_count": null,
   "metadata": {
    "id": "S_JJQAIO5_ZC"
   },
   "outputs": [],
   "source": [
    "r_altura = np.round(np.random.normal(1.75,0.20,1000),2)\n",
    "r_peso = np.round(np.random.normal(70.5,15,1000),2)"
   ]
  },
  {
   "cell_type": "code",
   "execution_count": null,
   "metadata": {
    "colab": {
     "base_uri": "https://localhost:8080/"
    },
    "id": "Iyjwkcfr6A0Z",
    "outputId": "20e37cfc-ddfa-4a64-ab44-23ec025320db"
   },
   "outputs": [
    {
     "data": {
      "text/plain": [
       "array([[ 1.14, 86.88],\n",
       "       [ 1.74, 64.52],\n",
       "       [ 1.65, 79.64],\n",
       "       ...,\n",
       "       [ 1.74, 69.36],\n",
       "       [ 1.91, 65.64],\n",
       "       [ 1.84, 54.82]])"
      ]
     },
     "execution_count": 112,
     "metadata": {},
     "output_type": "execute_result"
    }
   ],
   "source": [
    "imc_np = np.column_stack((r_altura,r_peso));imc_np"
   ]
  },
  {
   "cell_type": "code",
   "execution_count": null,
   "metadata": {
    "colab": {
     "base_uri": "https://localhost:8080/"
    },
    "id": "Vnq0bx1x3kws",
    "outputId": "8be36c71-8f91-4cae-a40e-4219fa28e78a"
   },
   "outputs": [
    {
     "data": {
      "text/plain": [
       "array([[1., 1., 1., 1., 1., 1., 1., 1., 1., 1.],\n",
       "       [1., 1., 1., 1., 1., 1., 1., 1., 1., 1.],\n",
       "       [1., 1., 1., 1., 1., 1., 1., 1., 1., 1.],\n",
       "       [1., 1., 1., 1., 1., 1., 1., 1., 1., 1.],\n",
       "       [1., 1., 1., 1., 1., 1., 1., 1., 1., 1.],\n",
       "       [1., 1., 1., 1., 1., 1., 1., 1., 1., 1.],\n",
       "       [1., 1., 1., 1., 1., 1., 1., 1., 1., 1.],\n",
       "       [1., 1., 1., 1., 1., 1., 1., 1., 1., 1.],\n",
       "       [1., 1., 1., 1., 1., 1., 1., 1., 1., 1.],\n",
       "       [1., 1., 1., 1., 1., 1., 1., 1., 1., 1.]])"
      ]
     },
     "execution_count": 126,
     "metadata": {},
     "output_type": "execute_result"
    }
   ],
   "source": [
    "np.ones((10,10))"
   ]
  },
  {
   "cell_type": "code",
   "execution_count": null,
   "metadata": {
    "id": "bydghNDI6Ejd"
   },
   "outputs": [],
   "source": [
    "np.random.seed(45)\n",
    "np_alea = np.random.rand(10)*10\n",
    "np_unos = np.ones(10)"
   ]
  },
  {
   "cell_type": "code",
   "execution_count": null,
   "metadata": {
    "id": "0T5gZ07K6HKb"
   },
   "outputs": [],
   "source": [
    "a = np.linspace(1994,2022,20)\n",
    "b = np.random.normal(12,33,20)"
   ]
  }
 ],
 "metadata": {
  "colab": {
   "collapsed_sections": [
    "_YXTgABPYu5M",
    "I82JYUtMtw9e",
    "-qqJB-ltYh1F",
    "FU-QFAw8YBNf",
    "JlFGzHdwt4Pr",
    "Cqdk_xsO0kvL",
    "ohrObJRt4SbN",
    "sJ_lNLKI5Q2Z",
    "ECN7aD4S5MiA",
    "6zAGM_0x5c9D",
    "te34plFr56xE"
   ],
   "provenance": []
  },
  "kernelspec": {
   "display_name": "Python 3 (ipykernel)",
   "language": "python",
   "name": "python3"
  },
  "language_info": {
   "codemirror_mode": {
    "name": "ipython",
    "version": 3
   },
   "file_extension": ".py",
   "mimetype": "text/x-python",
   "name": "python",
   "nbconvert_exporter": "python",
   "pygments_lexer": "ipython3",
   "version": "3.9.12"
  }
 },
 "nbformat": 4,
 "nbformat_minor": 1
}
