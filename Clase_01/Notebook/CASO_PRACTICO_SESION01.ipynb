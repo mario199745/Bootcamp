{
  "cells": [
    {
      "cell_type": "markdown",
      "id": "01676932-0f94-4ea9-8988-097c4fd035ec",
      "metadata": {
        "id": "01676932-0f94-4ea9-8988-097c4fd035ec"
      },
      "source": [
        "# CASO PRÁCTICO: ANÁLISIS EXPLORATORIO DE DATOS (DATA DE VENTAS)"
      ]
    },
    {
      "cell_type": "markdown",
      "id": "f0b81e16-5f36-485b-9175-536022bc9993",
      "metadata": {
        "id": "f0b81e16-5f36-485b-9175-536022bc9993"
      },
      "source": [
        "En este caso se verán aplicaciones de funciones básicas de Python y de la librería numpy para análisis de datos."
      ]
    },
    {
      "cell_type": "markdown",
      "id": "ac5c0cd9-59ec-4e81-823d-ef9dbaa4cc10",
      "metadata": {
        "id": "ac5c0cd9-59ec-4e81-823d-ef9dbaa4cc10"
      },
      "source": [
        "## 1. LIBRERÍAS"
      ]
    },
    {
      "cell_type": "markdown",
      "id": "ef5fc88d-6710-415e-8f41-6f0ec2dd7b52",
      "metadata": {
        "id": "ef5fc88d-6710-415e-8f41-6f0ec2dd7b52"
      },
      "source": [
        "Importaremos el módulo `csv` para poder cargar archivos en formato csv."
      ]
    },
    {
      "cell_type": "code",
      "execution_count": 1,
      "id": "3f509070-ecb1-4cee-8320-963fa18b4d99",
      "metadata": {
        "colab": {
          "base_uri": "https://localhost:8080/",
          "height": 36
        },
        "id": "3f509070-ecb1-4cee-8320-963fa18b4d99",
        "outputId": "b65f4fe4-774e-4164-f983-d0eca7f881ae"
      },
      "outputs": [
        {
          "output_type": "execute_result",
          "data": {
            "text/plain": [
              "'%.2f'"
            ],
            "application/vnd.google.colaboratory.intrinsic+json": {
              "type": "string"
            }
          },
          "metadata": {},
          "execution_count": 1
        }
      ],
      "source": [
        "import csv\n",
        "import numpy as np\n",
        "\n",
        "%precision 2"
      ]
    },
    {
      "cell_type": "code",
      "source": [
        "from google.colab import drive\n",
        "drive.mount('/content/drive')"
      ],
      "metadata": {
        "colab": {
          "base_uri": "https://localhost:8080/"
        },
        "id": "N--GXMP0akkH",
        "outputId": "d4471161-ca16-41cf-c9a0-ecfad4538794"
      },
      "id": "N--GXMP0akkH",
      "execution_count": 2,
      "outputs": [
        {
          "output_type": "stream",
          "name": "stdout",
          "text": [
            "Drive already mounted at /content/drive; to attempt to forcibly remount, call drive.mount(\"/content/drive\", force_remount=True).\n"
          ]
        }
      ]
    },
    {
      "cell_type": "markdown",
      "id": "dd5dd9ae-eb8f-4145-8846-9e4dcfc29825",
      "metadata": {
        "id": "dd5dd9ae-eb8f-4145-8846-9e4dcfc29825"
      },
      "source": [
        "## 2. CARGANDO DATOS"
      ]
    },
    {
      "cell_type": "markdown",
      "id": "f9e68d16-c875-483e-bbf0-1d79383df1f0",
      "metadata": {
        "id": "f9e68d16-c875-483e-bbf0-1d79383df1f0"
      },
      "source": [
        "Cargaremos el archivo csv mediante la sentencia `with` luego utilizamos la función `open()` para poder especificar el archivo que queremos abrir.\n",
        "La función `list()` nos permitirá tener un conjunto de diccionarios dentro de una lista"
      ]
    },
    {
      "cell_type": "markdown",
      "id": "08fed8ab-6d80-4734-a3db-e2422719dfb7",
      "metadata": {
        "id": "08fed8ab-6d80-4734-a3db-e2422719dfb7"
      },
      "source": [
        "Sobre la data de ventas, se tienen los siguientes campos:\n",
        "* invoice_no : Número de factura\n",
        "* customer_id : Código de cliente\n",
        "* gender : Género del cliente\n",
        "* age : Edad del cliente\n",
        "* category : Categoría del producto\n",
        "* quantity : Cantidad vendida\n",
        "* price : Precio del producto\n",
        "* payment_method : Método de pago\n",
        "* inovice_date : Fecha de factura\n",
        "* shopping_mall : Mall en el que se realizó la compra"
      ]
    },
    {
      "cell_type": "code",
      "execution_count": 3,
      "id": "cbbcaece-0ac0-4e92-bd5d-736d676aa5e4",
      "metadata": {
        "colab": {
          "base_uri": "https://localhost:8080/"
        },
        "id": "cbbcaece-0ac0-4e92-bd5d-736d676aa5e4",
        "outputId": "99f2de79-180b-4aff-fcee-5bbc57330731"
      },
      "outputs": [
        {
          "output_type": "execute_result",
          "data": {
            "text/plain": [
              "[{'invoice_no': 'I138884',\n",
              "  'customer_id': 'C241288',\n",
              "  'gender': 'Female',\n",
              "  'age': '28',\n",
              "  'category': 'Clothing',\n",
              "  'quantity': '5',\n",
              "  'price': '1500.4',\n",
              "  'payment_method': 'Credit Card',\n",
              "  'invoice_date': '5/8/2022',\n",
              "  'shopping_mall': 'Kanyon'},\n",
              " {'invoice_no': 'I317333',\n",
              "  'customer_id': 'C111565',\n",
              "  'gender': 'Male',\n",
              "  'age': '21',\n",
              "  'category': 'Shoes',\n",
              "  'quantity': '3',\n",
              "  'price': '1800.51',\n",
              "  'payment_method': 'Debit Card',\n",
              "  'invoice_date': '12/12/2021',\n",
              "  'shopping_mall': 'Forum Istanbul'}]"
            ]
          },
          "metadata": {},
          "execution_count": 3
        }
      ],
      "source": [
        "with open(\"/content/drive/MyDrive/Colab Notebooks/BOOTCAMP_DSW/SESION_01/DATA_SESION_01/customer_shopping_data.csv\") as archivo_csv:\n",
        "    data = list(csv.DictReader(archivo_csv)) ## utilizamos list()\n",
        "\n",
        "## Mostrando 2 primeros diccionarios de la lista\n",
        "data[0:2]"
      ]
    },
    {
      "cell_type": "markdown",
      "id": "c660d50c-6e0a-4dbf-84e6-68f2130368ca",
      "metadata": {
        "id": "c660d50c-6e0a-4dbf-84e6-68f2130368ca"
      },
      "source": [
        "## 3. ¿CUÁNTOS DATOS TENGO EN MI CSV?"
      ]
    },
    {
      "cell_type": "markdown",
      "id": "3d68aa8c-3b41-421a-b086-6e8e09feab20",
      "metadata": {
        "id": "3d68aa8c-3b41-421a-b086-6e8e09feab20"
      },
      "source": [
        "Con la función `len()` podemos saber cuántos elementos tiene una lista, es por ello que veremos cuántos diccionarios tenemos en la lista."
      ]
    },
    {
      "cell_type": "code",
      "execution_count": 4,
      "id": "46227a2c-96a6-4058-a836-1091b44c8798",
      "metadata": {
        "colab": {
          "base_uri": "https://localhost:8080/"
        },
        "id": "46227a2c-96a6-4058-a836-1091b44c8798",
        "outputId": "6bbd1f0a-3e41-4a2e-82ae-3b2c21cc5644"
      },
      "outputs": [
        {
          "output_type": "execute_result",
          "data": {
            "text/plain": [
              "99457"
            ]
          },
          "metadata": {},
          "execution_count": 4
        }
      ],
      "source": [
        "len(data)"
      ]
    },
    {
      "cell_type": "markdown",
      "id": "3631ca02-446c-4a38-88ec-6e69c6c4ceb3",
      "metadata": {
        "id": "3631ca02-446c-4a38-88ec-6e69c6c4ceb3"
      },
      "source": [
        "Actualmente tenemos 99,457 filas en el archivo CSV."
      ]
    },
    {
      "cell_type": "markdown",
      "id": "2b4775de-5463-4c12-9543-9ac801176563",
      "metadata": {
        "id": "2b4775de-5463-4c12-9543-9ac801176563"
      },
      "source": [
        "## 4. ¿CUÁLES SON LAS VARIABLES O CAMPOS QUE HE CARGADO DE MI ARCHIVO CSV?"
      ]
    },
    {
      "cell_type": "markdown",
      "id": "1ca3f0c1-3324-484b-9da7-873d47c62064",
      "metadata": {
        "id": "1ca3f0c1-3324-484b-9da7-873d47c62064"
      },
      "source": [
        "Bastará con solo seleccionar el primer elemento de la lista y con la función `keys()` podremos obtener los nombres de las columnas"
      ]
    },
    {
      "cell_type": "code",
      "execution_count": 5,
      "id": "c0354ab7-270d-400f-b7c8-8e22919b775c",
      "metadata": {
        "colab": {
          "base_uri": "https://localhost:8080/"
        },
        "id": "c0354ab7-270d-400f-b7c8-8e22919b775c",
        "outputId": "d245bfe9-940e-4505-db03-cba75789a7e6"
      },
      "outputs": [
        {
          "output_type": "execute_result",
          "data": {
            "text/plain": [
              "['invoice_no',\n",
              " 'customer_id',\n",
              " 'gender',\n",
              " 'age',\n",
              " 'category',\n",
              " 'quantity',\n",
              " 'price',\n",
              " 'payment_method',\n",
              " 'invoice_date',\n",
              " 'shopping_mall']"
            ]
          },
          "metadata": {},
          "execution_count": 5
        }
      ],
      "source": [
        "list(data[0].keys())"
      ]
    },
    {
      "cell_type": "markdown",
      "id": "25c9167a-50e0-4410-a4d4-ef33a86e9559",
      "metadata": {
        "id": "25c9167a-50e0-4410-a4d4-ef33a86e9559"
      },
      "source": [
        "## 5. QUIERO OBTENER LOS TODOS LOS DATOS DE UN CAMPO O COLUMNA DEL ARCHIVO CSV"
      ]
    },
    {
      "cell_type": "markdown",
      "id": "a703fb36-2b3b-45a6-9528-533d4f7b3c42",
      "metadata": {
        "id": "a703fb36-2b3b-45a6-9528-533d4f7b3c42"
      },
      "source": [
        "Para obtener todos los valores de un campo, tendremos que realizar un loop o bucle, en este caso nos apoyaremos en el loop `for`.<br>\n",
        "Imaginemos que queremos extraer toda la columna `shopping_mall`"
      ]
    },
    {
      "cell_type": "code",
      "execution_count": 7,
      "id": "819a17a9-79e1-497c-b07f-7ba9bee0901e",
      "metadata": {
        "scrolled": true,
        "colab": {
          "base_uri": "https://localhost:8080/"
        },
        "id": "819a17a9-79e1-497c-b07f-7ba9bee0901e",
        "outputId": "528ad437-8f43-4c2e-b1cb-360c049342e6"
      },
      "outputs": [
        {
          "output_type": "execute_result",
          "data": {
            "text/plain": [
              "['Kanyon',\n",
              " 'Forum Istanbul',\n",
              " 'Metrocity',\n",
              " 'Metropol AVM',\n",
              " 'Kanyon',\n",
              " 'Forum Istanbul',\n",
              " 'Istinye Park',\n",
              " 'Mall of Istanbul',\n",
              " 'Metrocity',\n",
              " 'Kanyon',\n",
              " 'Metrocity',\n",
              " 'Emaar Square Mall',\n",
              " 'Metrocity',\n",
              " 'Cevahir AVM',\n",
              " 'Kanyon',\n",
              " 'Viaport Outlet',\n",
              " 'Metrocity',\n",
              " 'Zorlu Center',\n",
              " 'Metropol AVM',\n",
              " 'Cevahir AVM',\n",
              " 'Emaar Square Mall',\n",
              " 'Cevahir AVM',\n",
              " 'Cevahir AVM',\n",
              " 'Kanyon',\n",
              " 'Metrocity',\n",
              " 'Istinye Park',\n",
              " 'Mall of Istanbul',\n",
              " 'Emaar Square Mall',\n",
              " 'Cevahir AVM',\n",
              " 'Istinye Park',\n",
              " 'Mall of Istanbul',\n",
              " 'Emaar Square Mall',\n",
              " 'Kanyon',\n",
              " 'Metrocity',\n",
              " 'Zorlu Center',\n",
              " 'Emaar Square Mall',\n",
              " 'Kanyon',\n",
              " 'Metrocity',\n",
              " 'Kanyon',\n",
              " 'Metropol AVM',\n",
              " 'Zorlu Center',\n",
              " 'Metropol AVM',\n",
              " 'Metrocity',\n",
              " 'Metrocity',\n",
              " 'Kanyon',\n",
              " 'Zorlu Center',\n",
              " 'Mall of Istanbul',\n",
              " 'Zorlu Center',\n",
              " 'Zorlu Center',\n",
              " 'Forum Istanbul',\n",
              " 'Emaar Square Mall',\n",
              " 'Istinye Park',\n",
              " 'Istinye Park',\n",
              " 'Metrocity',\n",
              " 'Viaport Outlet',\n",
              " 'Istinye Park',\n",
              " 'Kanyon',\n",
              " 'Kanyon',\n",
              " 'Kanyon',\n",
              " 'Kanyon',\n",
              " 'Mall of Istanbul',\n",
              " 'Kanyon',\n",
              " 'Kanyon',\n",
              " 'Mall of Istanbul',\n",
              " 'Metropol AVM',\n",
              " 'Mall of Istanbul',\n",
              " 'Cevahir AVM',\n",
              " 'Istinye Park',\n",
              " 'Metrocity',\n",
              " 'Mall of Istanbul',\n",
              " 'Forum Istanbul',\n",
              " 'Kanyon',\n",
              " 'Mall of Istanbul',\n",
              " 'Emaar Square Mall',\n",
              " 'Emaar Square Mall',\n",
              " 'Cevahir AVM',\n",
              " 'Kanyon',\n",
              " 'Metrocity',\n",
              " 'Mall of Istanbul',\n",
              " 'Istinye Park',\n",
              " 'Emaar Square Mall',\n",
              " 'Metrocity',\n",
              " 'Kanyon',\n",
              " 'Istinye Park',\n",
              " 'Mall of Istanbul',\n",
              " 'Kanyon',\n",
              " 'Zorlu Center',\n",
              " 'Mall of Istanbul',\n",
              " 'Mall of Istanbul',\n",
              " 'Metropol AVM',\n",
              " 'Kanyon',\n",
              " 'Kanyon',\n",
              " 'Kanyon',\n",
              " 'Metrocity',\n",
              " 'Mall of Istanbul',\n",
              " 'Cevahir AVM',\n",
              " 'Metropol AVM',\n",
              " 'Forum Istanbul',\n",
              " 'Kanyon',\n",
              " 'Mall of Istanbul',\n",
              " 'Viaport Outlet',\n",
              " 'Kanyon',\n",
              " 'Kanyon',\n",
              " 'Viaport Outlet',\n",
              " 'Metrocity',\n",
              " 'Metrocity',\n",
              " 'Mall of Istanbul',\n",
              " 'Cevahir AVM',\n",
              " 'Mall of Istanbul',\n",
              " 'Istinye Park',\n",
              " 'Zorlu Center',\n",
              " 'Emaar Square Mall',\n",
              " 'Kanyon',\n",
              " 'Kanyon',\n",
              " 'Istinye Park',\n",
              " 'Viaport Outlet',\n",
              " 'Metrocity',\n",
              " 'Forum Istanbul',\n",
              " 'Kanyon',\n",
              " 'Istinye Park',\n",
              " 'Metrocity',\n",
              " 'Metropol AVM',\n",
              " 'Kanyon',\n",
              " 'Forum Istanbul',\n",
              " 'Kanyon',\n",
              " 'Emaar Square Mall',\n",
              " 'Metrocity',\n",
              " 'Mall of Istanbul',\n",
              " 'Kanyon',\n",
              " 'Mall of Istanbul',\n",
              " 'Kanyon',\n",
              " 'Metrocity',\n",
              " 'Metropol AVM',\n",
              " 'Kanyon',\n",
              " 'Metropol AVM',\n",
              " 'Metrocity',\n",
              " 'Zorlu Center',\n",
              " 'Metrocity',\n",
              " 'Mall of Istanbul',\n",
              " 'Metropol AVM',\n",
              " 'Mall of Istanbul',\n",
              " 'Mall of Istanbul',\n",
              " 'Metrocity',\n",
              " 'Kanyon',\n",
              " 'Mall of Istanbul',\n",
              " 'Kanyon',\n",
              " 'Kanyon',\n",
              " 'Metropol AVM',\n",
              " 'Kanyon',\n",
              " 'Metrocity',\n",
              " 'Mall of Istanbul',\n",
              " 'Viaport Outlet',\n",
              " 'Cevahir AVM',\n",
              " 'Kanyon',\n",
              " 'Kanyon',\n",
              " 'Istinye Park',\n",
              " 'Metropol AVM',\n",
              " 'Metropol AVM',\n",
              " 'Mall of Istanbul',\n",
              " 'Istinye Park',\n",
              " 'Cevahir AVM',\n",
              " 'Viaport Outlet',\n",
              " 'Kanyon',\n",
              " 'Emaar Square Mall',\n",
              " 'Mall of Istanbul',\n",
              " 'Kanyon',\n",
              " 'Kanyon',\n",
              " 'Metrocity',\n",
              " 'Zorlu Center',\n",
              " 'Kanyon',\n",
              " 'Metropol AVM',\n",
              " 'Metrocity',\n",
              " 'Kanyon',\n",
              " 'Metrocity',\n",
              " 'Mall of Istanbul',\n",
              " 'Viaport Outlet',\n",
              " 'Viaport Outlet',\n",
              " 'Cevahir AVM',\n",
              " 'Mall of Istanbul',\n",
              " 'Metropol AVM',\n",
              " 'Cevahir AVM',\n",
              " 'Metropol AVM',\n",
              " 'Mall of Istanbul',\n",
              " 'Viaport Outlet',\n",
              " 'Viaport Outlet',\n",
              " 'Mall of Istanbul',\n",
              " 'Metropol AVM',\n",
              " 'Forum Istanbul',\n",
              " 'Viaport Outlet',\n",
              " 'Kanyon',\n",
              " 'Kanyon',\n",
              " 'Mall of Istanbul',\n",
              " 'Forum Istanbul',\n",
              " 'Metrocity',\n",
              " 'Istinye Park',\n",
              " 'Mall of Istanbul',\n",
              " 'Zorlu Center',\n",
              " 'Metrocity',\n",
              " 'Cevahir AVM',\n",
              " 'Kanyon',\n",
              " 'Mall of Istanbul',\n",
              " 'Istinye Park',\n",
              " 'Metropol AVM',\n",
              " 'Kanyon',\n",
              " 'Kanyon',\n",
              " 'Kanyon',\n",
              " 'Metropol AVM',\n",
              " 'Kanyon',\n",
              " 'Viaport Outlet',\n",
              " 'Mall of Istanbul',\n",
              " 'Kanyon',\n",
              " 'Kanyon',\n",
              " 'Metropol AVM',\n",
              " 'Metropol AVM',\n",
              " 'Kanyon',\n",
              " 'Zorlu Center',\n",
              " 'Metropol AVM',\n",
              " 'Forum Istanbul',\n",
              " 'Mall of Istanbul',\n",
              " 'Kanyon',\n",
              " 'Metropol AVM',\n",
              " 'Metropol AVM',\n",
              " 'Kanyon',\n",
              " 'Mall of Istanbul',\n",
              " 'Istinye Park',\n",
              " 'Metropol AVM',\n",
              " 'Mall of Istanbul',\n",
              " 'Metropol AVM',\n",
              " 'Istinye Park',\n",
              " 'Zorlu Center',\n",
              " 'Cevahir AVM',\n",
              " 'Kanyon',\n",
              " 'Cevahir AVM',\n",
              " 'Kanyon',\n",
              " 'Kanyon',\n",
              " 'Metropol AVM',\n",
              " 'Metrocity',\n",
              " 'Metropol AVM',\n",
              " 'Kanyon',\n",
              " 'Kanyon',\n",
              " 'Metrocity',\n",
              " 'Metropol AVM',\n",
              " 'Emaar Square Mall',\n",
              " 'Kanyon',\n",
              " 'Kanyon',\n",
              " 'Cevahir AVM',\n",
              " 'Kanyon',\n",
              " 'Mall of Istanbul',\n",
              " 'Mall of Istanbul',\n",
              " 'Viaport Outlet',\n",
              " 'Emaar Square Mall',\n",
              " 'Metropol AVM',\n",
              " 'Viaport Outlet',\n",
              " 'Kanyon',\n",
              " 'Metrocity',\n",
              " 'Mall of Istanbul',\n",
              " 'Viaport Outlet',\n",
              " 'Kanyon',\n",
              " 'Emaar Square Mall',\n",
              " 'Mall of Istanbul',\n",
              " 'Cevahir AVM',\n",
              " 'Emaar Square Mall',\n",
              " 'Emaar Square Mall',\n",
              " 'Kanyon',\n",
              " 'Metrocity',\n",
              " 'Metrocity',\n",
              " 'Metropol AVM',\n",
              " 'Zorlu Center',\n",
              " 'Mall of Istanbul',\n",
              " 'Metrocity',\n",
              " 'Metrocity',\n",
              " 'Metrocity',\n",
              " 'Mall of Istanbul',\n",
              " 'Cevahir AVM',\n",
              " 'Kanyon',\n",
              " 'Istinye Park',\n",
              " 'Metropol AVM',\n",
              " 'Mall of Istanbul',\n",
              " 'Metropol AVM',\n",
              " 'Kanyon',\n",
              " 'Emaar Square Mall',\n",
              " 'Forum Istanbul',\n",
              " 'Zorlu Center',\n",
              " 'Mall of Istanbul',\n",
              " 'Zorlu Center',\n",
              " 'Istinye Park',\n",
              " 'Forum Istanbul',\n",
              " 'Emaar Square Mall',\n",
              " 'Kanyon',\n",
              " 'Metrocity',\n",
              " 'Kanyon',\n",
              " 'Metropol AVM',\n",
              " 'Metrocity',\n",
              " 'Kanyon',\n",
              " 'Metropol AVM',\n",
              " 'Zorlu Center',\n",
              " 'Mall of Istanbul',\n",
              " 'Istinye Park',\n",
              " 'Kanyon',\n",
              " 'Forum Istanbul',\n",
              " 'Emaar Square Mall',\n",
              " 'Kanyon',\n",
              " 'Cevahir AVM',\n",
              " 'Metrocity',\n",
              " 'Mall of Istanbul',\n",
              " 'Kanyon',\n",
              " 'Viaport Outlet',\n",
              " 'Kanyon',\n",
              " 'Istinye Park',\n",
              " 'Kanyon',\n",
              " 'Istinye Park',\n",
              " 'Metrocity',\n",
              " 'Cevahir AVM',\n",
              " 'Metrocity',\n",
              " 'Kanyon',\n",
              " 'Istinye Park',\n",
              " 'Istinye Park',\n",
              " 'Kanyon',\n",
              " 'Kanyon',\n",
              " 'Kanyon',\n",
              " 'Metropol AVM',\n",
              " 'Mall of Istanbul',\n",
              " 'Metropol AVM',\n",
              " 'Mall of Istanbul',\n",
              " 'Mall of Istanbul',\n",
              " 'Cevahir AVM',\n",
              " 'Emaar Square Mall',\n",
              " 'Kanyon',\n",
              " 'Istinye Park',\n",
              " 'Metrocity',\n",
              " 'Mall of Istanbul',\n",
              " 'Mall of Istanbul',\n",
              " 'Kanyon',\n",
              " 'Metropol AVM',\n",
              " 'Forum Istanbul',\n",
              " 'Kanyon',\n",
              " 'Mall of Istanbul',\n",
              " 'Kanyon',\n",
              " 'Metrocity',\n",
              " 'Mall of Istanbul',\n",
              " 'Metropol AVM',\n",
              " 'Istinye Park',\n",
              " 'Forum Istanbul',\n",
              " 'Metrocity',\n",
              " 'Forum Istanbul',\n",
              " 'Emaar Square Mall',\n",
              " 'Metrocity',\n",
              " 'Mall of Istanbul',\n",
              " 'Zorlu Center',\n",
              " 'Kanyon',\n",
              " 'Viaport Outlet',\n",
              " 'Mall of Istanbul',\n",
              " 'Metrocity',\n",
              " 'Cevahir AVM',\n",
              " 'Istinye Park',\n",
              " 'Istinye Park',\n",
              " 'Metropol AVM',\n",
              " 'Metropol AVM',\n",
              " 'Metrocity',\n",
              " 'Emaar Square Mall',\n",
              " 'Kanyon',\n",
              " 'Mall of Istanbul',\n",
              " 'Kanyon',\n",
              " 'Kanyon',\n",
              " 'Zorlu Center',\n",
              " 'Emaar Square Mall',\n",
              " 'Metrocity',\n",
              " 'Kanyon',\n",
              " 'Forum Istanbul',\n",
              " 'Kanyon',\n",
              " 'Forum Istanbul',\n",
              " 'Mall of Istanbul',\n",
              " 'Mall of Istanbul',\n",
              " 'Kanyon',\n",
              " 'Kanyon',\n",
              " 'Zorlu Center',\n",
              " 'Istinye Park',\n",
              " 'Mall of Istanbul',\n",
              " 'Kanyon',\n",
              " 'Forum Istanbul',\n",
              " 'Metrocity',\n",
              " 'Mall of Istanbul',\n",
              " 'Metrocity',\n",
              " 'Kanyon',\n",
              " 'Emaar Square Mall',\n",
              " 'Istinye Park',\n",
              " 'Cevahir AVM',\n",
              " 'Forum Istanbul',\n",
              " 'Metrocity',\n",
              " 'Metropol AVM',\n",
              " 'Mall of Istanbul',\n",
              " 'Cevahir AVM',\n",
              " 'Mall of Istanbul',\n",
              " 'Kanyon',\n",
              " 'Istinye Park',\n",
              " 'Kanyon',\n",
              " 'Cevahir AVM',\n",
              " 'Metropol AVM',\n",
              " 'Metrocity',\n",
              " 'Mall of Istanbul',\n",
              " 'Istinye Park',\n",
              " 'Emaar Square Mall',\n",
              " 'Forum Istanbul',\n",
              " 'Istinye Park',\n",
              " 'Kanyon',\n",
              " 'Viaport Outlet',\n",
              " 'Zorlu Center',\n",
              " 'Metropol AVM',\n",
              " 'Istinye Park',\n",
              " 'Zorlu Center',\n",
              " 'Kanyon',\n",
              " 'Mall of Istanbul',\n",
              " 'Metrocity',\n",
              " 'Mall of Istanbul',\n",
              " 'Metropol AVM',\n",
              " 'Zorlu Center',\n",
              " 'Metropol AVM',\n",
              " 'Cevahir AVM',\n",
              " 'Istinye Park',\n",
              " 'Metropol AVM',\n",
              " 'Mall of Istanbul',\n",
              " 'Metrocity',\n",
              " 'Mall of Istanbul',\n",
              " 'Metropol AVM',\n",
              " 'Kanyon',\n",
              " 'Emaar Square Mall',\n",
              " 'Kanyon',\n",
              " 'Kanyon',\n",
              " 'Kanyon',\n",
              " 'Mall of Istanbul',\n",
              " 'Emaar Square Mall',\n",
              " 'Kanyon',\n",
              " 'Mall of Istanbul',\n",
              " 'Mall of Istanbul',\n",
              " 'Emaar Square Mall',\n",
              " 'Mall of Istanbul',\n",
              " 'Kanyon',\n",
              " 'Mall of Istanbul',\n",
              " 'Istinye Park',\n",
              " 'Kanyon',\n",
              " 'Viaport Outlet',\n",
              " 'Istinye Park',\n",
              " 'Kanyon',\n",
              " 'Mall of Istanbul',\n",
              " 'Mall of Istanbul',\n",
              " 'Metrocity',\n",
              " 'Metrocity',\n",
              " 'Istinye Park',\n",
              " 'Metropol AVM',\n",
              " 'Kanyon',\n",
              " 'Metropol AVM',\n",
              " 'Metrocity',\n",
              " 'Mall of Istanbul',\n",
              " 'Mall of Istanbul',\n",
              " 'Viaport Outlet',\n",
              " 'Zorlu Center',\n",
              " 'Metrocity',\n",
              " 'Cevahir AVM',\n",
              " 'Kanyon',\n",
              " 'Forum Istanbul',\n",
              " 'Mall of Istanbul',\n",
              " 'Metropol AVM',\n",
              " 'Viaport Outlet',\n",
              " 'Kanyon',\n",
              " 'Mall of Istanbul',\n",
              " 'Metropol AVM',\n",
              " 'Mall of Istanbul',\n",
              " 'Mall of Istanbul',\n",
              " 'Kanyon',\n",
              " 'Metrocity',\n",
              " 'Kanyon',\n",
              " 'Kanyon',\n",
              " 'Metrocity',\n",
              " 'Metropol AVM',\n",
              " 'Mall of Istanbul',\n",
              " 'Mall of Istanbul',\n",
              " 'Kanyon',\n",
              " 'Kanyon',\n",
              " 'Metrocity',\n",
              " 'Mall of Istanbul',\n",
              " 'Kanyon',\n",
              " 'Metrocity',\n",
              " 'Metrocity',\n",
              " 'Metrocity',\n",
              " 'Kanyon',\n",
              " 'Mall of Istanbul',\n",
              " 'Mall of Istanbul',\n",
              " 'Emaar Square Mall',\n",
              " 'Kanyon',\n",
              " 'Kanyon',\n",
              " 'Kanyon',\n",
              " 'Kanyon',\n",
              " 'Mall of Istanbul',\n",
              " 'Mall of Istanbul',\n",
              " 'Viaport Outlet',\n",
              " 'Metrocity',\n",
              " 'Metrocity',\n",
              " 'Viaport Outlet',\n",
              " 'Istinye Park',\n",
              " 'Mall of Istanbul',\n",
              " 'Istinye Park',\n",
              " 'Emaar Square Mall',\n",
              " 'Kanyon',\n",
              " 'Kanyon',\n",
              " 'Viaport Outlet',\n",
              " 'Metrocity',\n",
              " 'Mall of Istanbul',\n",
              " 'Metropol AVM',\n",
              " 'Metropol AVM',\n",
              " 'Viaport Outlet',\n",
              " 'Cevahir AVM',\n",
              " 'Kanyon',\n",
              " 'Kanyon',\n",
              " 'Kanyon',\n",
              " 'Metrocity',\n",
              " 'Forum Istanbul',\n",
              " 'Mall of Istanbul',\n",
              " 'Metrocity',\n",
              " 'Mall of Istanbul',\n",
              " 'Kanyon',\n",
              " 'Mall of Istanbul',\n",
              " 'Istinye Park',\n",
              " 'Metropol AVM',\n",
              " 'Metrocity',\n",
              " 'Mall of Istanbul',\n",
              " 'Metropol AVM',\n",
              " 'Zorlu Center',\n",
              " 'Mall of Istanbul',\n",
              " 'Metrocity',\n",
              " 'Kanyon',\n",
              " 'Metrocity',\n",
              " 'Metrocity',\n",
              " 'Metropol AVM',\n",
              " 'Emaar Square Mall',\n",
              " 'Kanyon',\n",
              " 'Kanyon',\n",
              " 'Mall of Istanbul',\n",
              " 'Istinye Park',\n",
              " 'Metrocity',\n",
              " 'Kanyon',\n",
              " 'Istinye Park',\n",
              " 'Metrocity',\n",
              " 'Metropol AVM',\n",
              " 'Metrocity',\n",
              " 'Metropol AVM',\n",
              " 'Mall of Istanbul',\n",
              " 'Mall of Istanbul',\n",
              " 'Cevahir AVM',\n",
              " 'Zorlu Center',\n",
              " 'Viaport Outlet',\n",
              " 'Metropol AVM',\n",
              " 'Kanyon',\n",
              " 'Viaport Outlet',\n",
              " 'Emaar Square Mall',\n",
              " 'Kanyon',\n",
              " 'Kanyon',\n",
              " 'Kanyon',\n",
              " 'Cevahir AVM',\n",
              " 'Istinye Park',\n",
              " 'Mall of Istanbul',\n",
              " 'Mall of Istanbul',\n",
              " 'Kanyon',\n",
              " 'Mall of Istanbul',\n",
              " 'Cevahir AVM',\n",
              " 'Mall of Istanbul',\n",
              " 'Istinye Park',\n",
              " 'Mall of Istanbul',\n",
              " 'Metrocity',\n",
              " 'Viaport Outlet',\n",
              " 'Kanyon',\n",
              " 'Cevahir AVM',\n",
              " 'Istinye Park',\n",
              " 'Istinye Park',\n",
              " 'Mall of Istanbul',\n",
              " 'Kanyon',\n",
              " 'Emaar Square Mall',\n",
              " 'Mall of Istanbul',\n",
              " 'Mall of Istanbul',\n",
              " 'Metropol AVM',\n",
              " 'Kanyon',\n",
              " 'Viaport Outlet',\n",
              " 'Istinye Park',\n",
              " 'Mall of Istanbul',\n",
              " 'Emaar Square Mall',\n",
              " 'Cevahir AVM',\n",
              " 'Mall of Istanbul',\n",
              " 'Viaport Outlet',\n",
              " 'Emaar Square Mall',\n",
              " 'Metrocity',\n",
              " 'Mall of Istanbul',\n",
              " 'Kanyon',\n",
              " 'Metrocity',\n",
              " 'Kanyon',\n",
              " 'Kanyon',\n",
              " 'Istinye Park',\n",
              " 'Kanyon',\n",
              " 'Metrocity',\n",
              " 'Metrocity',\n",
              " 'Istinye Park',\n",
              " 'Mall of Istanbul',\n",
              " 'Metrocity',\n",
              " 'Kanyon',\n",
              " 'Mall of Istanbul',\n",
              " 'Metropol AVM',\n",
              " 'Kanyon',\n",
              " 'Cevahir AVM',\n",
              " 'Kanyon',\n",
              " 'Mall of Istanbul',\n",
              " 'Metropol AVM',\n",
              " 'Emaar Square Mall',\n",
              " 'Kanyon',\n",
              " 'Metropol AVM',\n",
              " 'Istinye Park',\n",
              " 'Mall of Istanbul',\n",
              " 'Mall of Istanbul',\n",
              " 'Zorlu Center',\n",
              " 'Mall of Istanbul',\n",
              " 'Viaport Outlet',\n",
              " 'Mall of Istanbul',\n",
              " 'Mall of Istanbul',\n",
              " 'Kanyon',\n",
              " 'Metropol AVM',\n",
              " 'Forum Istanbul',\n",
              " 'Mall of Istanbul',\n",
              " 'Kanyon',\n",
              " 'Istinye Park',\n",
              " 'Metropol AVM',\n",
              " 'Mall of Istanbul',\n",
              " 'Istinye Park',\n",
              " 'Kanyon',\n",
              " 'Mall of Istanbul',\n",
              " 'Kanyon',\n",
              " 'Istinye Park',\n",
              " 'Mall of Istanbul',\n",
              " 'Forum Istanbul',\n",
              " 'Mall of Istanbul',\n",
              " 'Cevahir AVM',\n",
              " 'Metropol AVM',\n",
              " 'Viaport Outlet',\n",
              " 'Kanyon',\n",
              " 'Mall of Istanbul',\n",
              " 'Kanyon',\n",
              " 'Cevahir AVM',\n",
              " 'Metropol AVM',\n",
              " 'Viaport Outlet',\n",
              " 'Metrocity',\n",
              " 'Mall of Istanbul',\n",
              " 'Metrocity',\n",
              " 'Metrocity',\n",
              " 'Istinye Park',\n",
              " 'Kanyon',\n",
              " 'Kanyon',\n",
              " 'Mall of Istanbul',\n",
              " 'Forum Istanbul',\n",
              " 'Metropol AVM',\n",
              " 'Cevahir AVM',\n",
              " 'Zorlu Center',\n",
              " 'Zorlu Center',\n",
              " 'Kanyon',\n",
              " 'Metrocity',\n",
              " 'Emaar Square Mall',\n",
              " 'Metrocity',\n",
              " 'Metrocity',\n",
              " 'Metrocity',\n",
              " 'Metrocity',\n",
              " 'Mall of Istanbul',\n",
              " 'Mall of Istanbul',\n",
              " 'Kanyon',\n",
              " 'Forum Istanbul',\n",
              " 'Kanyon',\n",
              " 'Mall of Istanbul',\n",
              " 'Metrocity',\n",
              " 'Metrocity',\n",
              " 'Forum Istanbul',\n",
              " 'Mall of Istanbul',\n",
              " 'Istinye Park',\n",
              " 'Istinye Park',\n",
              " 'Forum Istanbul',\n",
              " 'Kanyon',\n",
              " 'Cevahir AVM',\n",
              " 'Metrocity',\n",
              " 'Forum Istanbul',\n",
              " 'Metrocity',\n",
              " 'Metropol AVM',\n",
              " 'Zorlu Center',\n",
              " 'Cevahir AVM',\n",
              " 'Mall of Istanbul',\n",
              " 'Istinye Park',\n",
              " 'Kanyon',\n",
              " 'Mall of Istanbul',\n",
              " 'Kanyon',\n",
              " 'Metropol AVM',\n",
              " 'Mall of Istanbul',\n",
              " 'Forum Istanbul',\n",
              " 'Kanyon',\n",
              " 'Emaar Square Mall',\n",
              " 'Kanyon',\n",
              " 'Kanyon',\n",
              " 'Mall of Istanbul',\n",
              " 'Kanyon',\n",
              " 'Kanyon',\n",
              " 'Forum Istanbul',\n",
              " 'Kanyon',\n",
              " 'Kanyon',\n",
              " 'Metrocity',\n",
              " 'Metrocity',\n",
              " 'Metrocity',\n",
              " 'Metrocity',\n",
              " 'Mall of Istanbul',\n",
              " 'Cevahir AVM',\n",
              " 'Mall of Istanbul',\n",
              " 'Kanyon',\n",
              " 'Viaport Outlet',\n",
              " 'Mall of Istanbul',\n",
              " 'Istinye Park',\n",
              " 'Forum Istanbul',\n",
              " 'Mall of Istanbul',\n",
              " 'Cevahir AVM',\n",
              " 'Istinye Park',\n",
              " 'Metrocity',\n",
              " 'Viaport Outlet',\n",
              " 'Forum Istanbul',\n",
              " 'Istinye Park',\n",
              " 'Mall of Istanbul',\n",
              " 'Kanyon',\n",
              " 'Metrocity',\n",
              " 'Metropol AVM',\n",
              " 'Zorlu Center',\n",
              " 'Emaar Square Mall',\n",
              " 'Mall of Istanbul',\n",
              " 'Mall of Istanbul',\n",
              " 'Mall of Istanbul',\n",
              " 'Metrocity',\n",
              " 'Emaar Square Mall',\n",
              " 'Cevahir AVM',\n",
              " 'Metrocity',\n",
              " 'Metropol AVM',\n",
              " 'Viaport Outlet',\n",
              " 'Mall of Istanbul',\n",
              " 'Istinye Park',\n",
              " 'Forum Istanbul',\n",
              " 'Mall of Istanbul',\n",
              " 'Kanyon',\n",
              " 'Metropol AVM',\n",
              " 'Kanyon',\n",
              " 'Kanyon',\n",
              " 'Emaar Square Mall',\n",
              " 'Istinye Park',\n",
              " 'Kanyon',\n",
              " 'Istinye Park',\n",
              " 'Kanyon',\n",
              " 'Viaport Outlet',\n",
              " 'Metrocity',\n",
              " 'Metrocity',\n",
              " 'Kanyon',\n",
              " 'Kanyon',\n",
              " 'Kanyon',\n",
              " 'Kanyon',\n",
              " 'Metropol AVM',\n",
              " 'Mall of Istanbul',\n",
              " 'Mall of Istanbul',\n",
              " 'Istinye Park',\n",
              " 'Viaport Outlet',\n",
              " 'Kanyon',\n",
              " 'Kanyon',\n",
              " 'Istinye Park',\n",
              " 'Emaar Square Mall',\n",
              " 'Emaar Square Mall',\n",
              " 'Emaar Square Mall',\n",
              " 'Kanyon',\n",
              " 'Mall of Istanbul',\n",
              " 'Kanyon',\n",
              " 'Kanyon',\n",
              " 'Metropol AVM',\n",
              " 'Emaar Square Mall',\n",
              " 'Metrocity',\n",
              " 'Viaport Outlet',\n",
              " 'Metrocity',\n",
              " 'Metrocity',\n",
              " 'Mall of Istanbul',\n",
              " 'Metrocity',\n",
              " 'Zorlu Center',\n",
              " 'Mall of Istanbul',\n",
              " 'Cevahir AVM',\n",
              " 'Mall of Istanbul',\n",
              " 'Mall of Istanbul',\n",
              " 'Mall of Istanbul',\n",
              " 'Mall of Istanbul',\n",
              " 'Kanyon',\n",
              " 'Istinye Park',\n",
              " 'Zorlu Center',\n",
              " 'Kanyon',\n",
              " 'Mall of Istanbul',\n",
              " 'Emaar Square Mall',\n",
              " 'Zorlu Center',\n",
              " 'Zorlu Center',\n",
              " 'Metrocity',\n",
              " 'Emaar Square Mall',\n",
              " 'Mall of Istanbul',\n",
              " 'Emaar Square Mall',\n",
              " 'Cevahir AVM',\n",
              " 'Viaport Outlet',\n",
              " 'Emaar Square Mall',\n",
              " 'Metropol AVM',\n",
              " 'Istinye Park',\n",
              " 'Kanyon',\n",
              " 'Metrocity',\n",
              " 'Metrocity',\n",
              " 'Emaar Square Mall',\n",
              " 'Metrocity',\n",
              " 'Kanyon',\n",
              " 'Metrocity',\n",
              " 'Metropol AVM',\n",
              " 'Kanyon',\n",
              " 'Metrocity',\n",
              " 'Kanyon',\n",
              " 'Istinye Park',\n",
              " 'Kanyon',\n",
              " 'Metrocity',\n",
              " 'Metropol AVM',\n",
              " 'Mall of Istanbul',\n",
              " 'Metropol AVM',\n",
              " 'Kanyon',\n",
              " 'Mall of Istanbul',\n",
              " 'Forum Istanbul',\n",
              " 'Mall of Istanbul',\n",
              " 'Viaport Outlet',\n",
              " 'Kanyon',\n",
              " 'Metropol AVM',\n",
              " 'Kanyon',\n",
              " 'Zorlu Center',\n",
              " 'Mall of Istanbul',\n",
              " 'Kanyon',\n",
              " 'Zorlu Center',\n",
              " 'Cevahir AVM',\n",
              " 'Kanyon',\n",
              " 'Kanyon',\n",
              " 'Kanyon',\n",
              " 'Kanyon',\n",
              " 'Metrocity',\n",
              " 'Cevahir AVM',\n",
              " 'Metrocity',\n",
              " 'Mall of Istanbul',\n",
              " 'Mall of Istanbul',\n",
              " 'Metrocity',\n",
              " 'Zorlu Center',\n",
              " 'Kanyon',\n",
              " 'Metropol AVM',\n",
              " 'Metrocity',\n",
              " 'Metropol AVM',\n",
              " 'Kanyon',\n",
              " 'Metrocity',\n",
              " 'Metrocity',\n",
              " 'Viaport Outlet',\n",
              " 'Cevahir AVM',\n",
              " 'Metrocity',\n",
              " 'Mall of Istanbul',\n",
              " 'Metrocity',\n",
              " 'Cevahir AVM',\n",
              " 'Kanyon',\n",
              " 'Mall of Istanbul',\n",
              " 'Metrocity',\n",
              " 'Mall of Istanbul',\n",
              " 'Mall of Istanbul',\n",
              " 'Metropol AVM',\n",
              " 'Kanyon',\n",
              " 'Metropol AVM',\n",
              " 'Metropol AVM',\n",
              " 'Kanyon',\n",
              " 'Mall of Istanbul',\n",
              " 'Forum Istanbul',\n",
              " 'Mall of Istanbul',\n",
              " 'Emaar Square Mall',\n",
              " 'Kanyon',\n",
              " 'Metropol AVM',\n",
              " 'Forum Istanbul',\n",
              " 'Zorlu Center',\n",
              " 'Kanyon',\n",
              " 'Metrocity',\n",
              " 'Istinye Park',\n",
              " 'Kanyon',\n",
              " 'Istinye Park',\n",
              " 'Istinye Park',\n",
              " 'Metropol AVM',\n",
              " 'Viaport Outlet',\n",
              " 'Istinye Park',\n",
              " 'Mall of Istanbul',\n",
              " 'Metropol AVM',\n",
              " 'Istinye Park',\n",
              " 'Zorlu Center',\n",
              " 'Zorlu Center',\n",
              " 'Metrocity',\n",
              " 'Metropol AVM',\n",
              " 'Cevahir AVM',\n",
              " 'Forum Istanbul',\n",
              " 'Forum Istanbul',\n",
              " 'Forum Istanbul',\n",
              " 'Metropol AVM',\n",
              " 'Cevahir AVM',\n",
              " 'Mall of Istanbul',\n",
              " 'Kanyon',\n",
              " 'Metropol AVM',\n",
              " 'Kanyon',\n",
              " 'Metropol AVM',\n",
              " 'Kanyon',\n",
              " 'Metrocity',\n",
              " 'Mall of Istanbul',\n",
              " 'Cevahir AVM',\n",
              " 'Kanyon',\n",
              " 'Istinye Park',\n",
              " 'Viaport Outlet',\n",
              " 'Emaar Square Mall',\n",
              " 'Kanyon',\n",
              " 'Cevahir AVM',\n",
              " 'Metrocity',\n",
              " 'Mall of Istanbul',\n",
              " 'Mall of Istanbul',\n",
              " 'Emaar Square Mall',\n",
              " 'Mall of Istanbul',\n",
              " 'Metrocity',\n",
              " 'Istinye Park',\n",
              " 'Metropol AVM',\n",
              " 'Kanyon',\n",
              " 'Istinye Park',\n",
              " 'Kanyon',\n",
              " 'Viaport Outlet',\n",
              " 'Kanyon',\n",
              " 'Istinye Park',\n",
              " 'Istinye Park',\n",
              " 'Metropol AVM',\n",
              " 'Kanyon',\n",
              " 'Istinye Park',\n",
              " 'Metrocity',\n",
              " 'Metrocity',\n",
              " 'Kanyon',\n",
              " 'Mall of Istanbul',\n",
              " 'Mall of Istanbul',\n",
              " 'Mall of Istanbul',\n",
              " 'Kanyon',\n",
              " 'Istinye Park',\n",
              " 'Zorlu Center',\n",
              " 'Istinye Park',\n",
              " 'Emaar Square Mall',\n",
              " 'Kanyon',\n",
              " 'Mall of Istanbul',\n",
              " 'Cevahir AVM',\n",
              " 'Metrocity',\n",
              " 'Forum Istanbul',\n",
              " 'Metropol AVM',\n",
              " 'Metrocity',\n",
              " 'Istinye Park',\n",
              " 'Istinye Park',\n",
              " 'Metrocity',\n",
              " 'Metrocity',\n",
              " 'Kanyon',\n",
              " 'Kanyon',\n",
              " 'Emaar Square Mall',\n",
              " 'Viaport Outlet',\n",
              " 'Mall of Istanbul',\n",
              " 'Kanyon',\n",
              " 'Metrocity',\n",
              " 'Emaar Square Mall',\n",
              " 'Metrocity',\n",
              " 'Mall of Istanbul',\n",
              " 'Metropol AVM',\n",
              " 'Mall of Istanbul',\n",
              " 'Kanyon',\n",
              " 'Istinye Park',\n",
              " 'Kanyon',\n",
              " 'Zorlu Center',\n",
              " 'Metropol AVM',\n",
              " 'Istinye Park',\n",
              " 'Zorlu Center',\n",
              " 'Cevahir AVM',\n",
              " 'Mall of Istanbul',\n",
              " 'Viaport Outlet',\n",
              " 'Mall of Istanbul',\n",
              " 'Mall of Istanbul',\n",
              " 'Forum Istanbul',\n",
              " 'Mall of Istanbul',\n",
              " 'Kanyon',\n",
              " 'Forum Istanbul',\n",
              " 'Kanyon',\n",
              " 'Mall of Istanbul',\n",
              " 'Kanyon',\n",
              " 'Metropol AVM',\n",
              " 'Kanyon',\n",
              " 'Cevahir AVM',\n",
              " 'Mall of Istanbul',\n",
              " 'Mall of Istanbul',\n",
              " 'Cevahir AVM',\n",
              " 'Kanyon',\n",
              " 'Mall of Istanbul',\n",
              " 'Kanyon',\n",
              " 'Emaar Square Mall',\n",
              " 'Viaport Outlet',\n",
              " 'Forum Istanbul',\n",
              " 'Metrocity',\n",
              " 'Kanyon',\n",
              " 'Mall of Istanbul',\n",
              " ...]"
            ]
          },
          "metadata": {},
          "execution_count": 7
        }
      ],
      "source": [
        "[diccionario[\"shopping_mall\"] for diccionario in data]"
      ]
    },
    {
      "cell_type": "markdown",
      "id": "5148cdb0-c7c2-4e7d-b2d0-19b9003889d6",
      "metadata": {
        "id": "5148cdb0-c7c2-4e7d-b2d0-19b9003889d6"
      },
      "source": [
        "## 6. ESTADÍSTICOS BÁSICOS (FRECUENCIAS, PROPORCIONES, PROMEDIO, MEDIA, VARIANZA, DESVIACIÓN ESTÁNDARD, MÁXIMO, MÍNIMO Y CUARTILES)"
      ]
    },
    {
      "cell_type": "markdown",
      "id": "a87394c6-fa01-41f2-9ae5-79d5d5d3a98b",
      "metadata": {
        "id": "a87394c6-fa01-41f2-9ae5-79d5d5d3a98b"
      },
      "source": [
        "### 6.1. Frecuencias absolutas (recuentos) y relativas (proporciones)"
      ]
    },
    {
      "cell_type": "markdown",
      "id": "5abc8a19-7947-421c-b58b-05300f4ee7d5",
      "metadata": {
        "id": "5abc8a19-7947-421c-b58b-05300f4ee7d5"
      },
      "source": [
        "#### 6.1.1. Género"
      ]
    },
    {
      "cell_type": "code",
      "execution_count": 10,
      "id": "b97a7ada-b1d4-461c-a275-75a1aed5e069",
      "metadata": {
        "colab": {
          "base_uri": "https://localhost:8080/"
        },
        "id": "b97a7ada-b1d4-461c-a275-75a1aed5e069",
        "outputId": "a74b3f2c-4045-4eeb-aefd-7e4f385b5ea8"
      },
      "outputs": [
        {
          "output_type": "stream",
          "name": "stdout",
          "text": [
            "La cantidad de clientes por género:\n",
            "Female : 59482\n",
            "Male : 39975\n",
            "\n",
            "El % de clientes por género:\n",
            "Female : 59.81%\n",
            "Male : 40.19%\n"
          ]
        }
      ],
      "source": [
        "rec_genero = {}\n",
        "datos_genero = [diccionario[\"gender\"] for diccionario in data]\n",
        "## Recuento de genero\n",
        "for genero in datos_genero:\n",
        "    if genero in rec_genero:\n",
        "        rec_genero[genero] += 1\n",
        "    else:\n",
        "        rec_genero[genero] = 1\n",
        "## Proporción\n",
        "prop_genero = {}\n",
        "for genero in rec_genero:\n",
        "    prop_genero[genero] = f\"{round(rec_genero[genero] / len(data) * 100, 2)}%\"\n",
        "\n",
        "print(\"La cantidad de clientes por género:\")\n",
        "for genero, cantidad in rec_genero.items():\n",
        "    print(f\"{genero} : {cantidad}\")\n",
        "\n",
        "print(\"\\nEl % de clientes por género:\")\n",
        "for genero, proporcion in prop_genero.items():\n",
        "    print(f\"{genero} : {proporcion}\")\n",
        "\n",
        "#print(rec_genero) ## cantidad de clientes por género\n",
        "#print(prop_genero) ## % de clientes por género"
      ]
    },
    {
      "cell_type": "markdown",
      "id": "bb0d97a0-15c4-42d3-b5ff-621136dd989a",
      "metadata": {
        "id": "bb0d97a0-15c4-42d3-b5ff-621136dd989a"
      },
      "source": [
        "#### 6.1.2. Categoría"
      ]
    },
    {
      "cell_type": "code",
      "execution_count": 11,
      "id": "d7f11439-7556-4491-882d-93cceb28375e",
      "metadata": {
        "colab": {
          "base_uri": "https://localhost:8080/"
        },
        "id": "d7f11439-7556-4491-882d-93cceb28375e",
        "outputId": "4896540f-61f3-46cb-cf3b-0fbdfd934024"
      },
      "outputs": [
        {
          "output_type": "stream",
          "name": "stdout",
          "text": [
            "La cantidad de clientes por categoría de producto vendido:\n",
            "Clothing : 34487\n",
            "Shoes : 10034\n",
            "Books : 4981\n",
            "Cosmetics : 15097\n",
            "Food & Beverage : 14776\n",
            "Toys : 10087\n",
            "Technology : 4996\n",
            "Souvenir : 4999\n",
            "\n",
            "El % de clientes por categoría de producto vendido:\n",
            "Clothing : 34.68%\n",
            "Shoes : 10.09%\n",
            "Books : 5.01%\n",
            "Cosmetics : 15.18%\n",
            "Food & Beverage : 14.86%\n",
            "Toys : 10.14%\n",
            "Technology : 5.02%\n",
            "Souvenir : 5.03%\n"
          ]
        }
      ],
      "source": [
        "rec_categoria = {}\n",
        "datos_categoria = [diccionario[\"category\"] for diccionario in data]\n",
        "## Recuento de categorias de productos\n",
        "for categoria in datos_categoria:\n",
        "    if categoria in rec_categoria:\n",
        "        rec_categoria[categoria] += 1\n",
        "    else:\n",
        "        rec_categoria[categoria] = 1\n",
        "## Proporción\n",
        "prop_categoria = {}\n",
        "for categoria in rec_categoria:\n",
        "    prop_categoria[categoria] = f\"{round(rec_categoria[categoria] / len(data) * 100, 2)}%\"\n",
        "\n",
        "print(\"La cantidad de clientes por categoría de producto vendido:\")\n",
        "for categoria, cantidad in rec_categoria.items():\n",
        "    print(f\"{categoria} : {cantidad}\")\n",
        "\n",
        "print(\"\\nEl % de clientes por categoría de producto vendido:\")\n",
        "for categoria, proporcion in prop_categoria.items():\n",
        "    print(f\"{categoria} : {proporcion}\")\n",
        "\n",
        "#print(rec_categoria) ## cantidad clientes según categoría de producto vendido\n",
        "#print(prop_categoria) ##  % de clientes según categoría de producto vendido"
      ]
    },
    {
      "cell_type": "markdown",
      "id": "d2d734f2-c29f-4cd5-9e7e-7f5b7def92e8",
      "metadata": {
        "id": "d2d734f2-c29f-4cd5-9e7e-7f5b7def92e8"
      },
      "source": [
        "#### 6.1.3. Método de pago"
      ]
    },
    {
      "cell_type": "code",
      "execution_count": 12,
      "id": "c7224a91-c1e4-4d9e-a329-946bea9d4cd1",
      "metadata": {
        "colab": {
          "base_uri": "https://localhost:8080/"
        },
        "id": "c7224a91-c1e4-4d9e-a329-946bea9d4cd1",
        "outputId": "a16b5a48-4e37-4a7b-adee-03c2ecae27d4"
      },
      "outputs": [
        {
          "output_type": "stream",
          "name": "stdout",
          "text": [
            "La cantidad de clientes por método de pago:\n",
            "Credit Card : 34931\n",
            "Debit Card : 20079\n",
            "Cash : 44447\n",
            "\n",
            "El % de clientes por método de pago:\n",
            "Credit Card : 35.12%\n",
            "Debit Card : 20.19%\n",
            "Cash : 44.69%\n"
          ]
        }
      ],
      "source": [
        "rec_metodo_pago = {}\n",
        "datos_metodo_pago = [diccionario[\"payment_method\"] for diccionario in data]\n",
        "## Recuento de tipos de métodos de pago\n",
        "for metodo_de_pago in datos_metodo_pago:\n",
        "    if metodo_de_pago in rec_metodo_pago:\n",
        "        rec_metodo_pago[metodo_de_pago] += 1\n",
        "    else:\n",
        "        rec_metodo_pago[metodo_de_pago] = 1\n",
        "## Proporción\n",
        "prop_metodo_pago = {}\n",
        "for metodo_pago in rec_metodo_pago:\n",
        "    prop_metodo_pago[metodo_pago] = f\"{round(rec_metodo_pago[metodo_pago] / len(data) * 100, 2)}%\"\n",
        "\n",
        "print(\"La cantidad de clientes por método de pago:\")\n",
        "for metodo_pago, cantidad in rec_metodo_pago.items():\n",
        "    print(f\"{metodo_pago} : {cantidad}\")\n",
        "\n",
        "print(\"\\nEl % de clientes por método de pago:\")\n",
        "for metodo_pago, proporcion in prop_metodo_pago.items():\n",
        "    print(f\"{metodo_pago} : {proporcion}\")\n",
        "\n",
        "#print(rec_metodo_pago) ## cantidad de clientes según método de pago\n",
        "#print(prop_metodo_pago) ##  % de clientes según método de pago"
      ]
    },
    {
      "cell_type": "markdown",
      "id": "34484180-86e5-4b87-a735-0650704002f5",
      "metadata": {
        "id": "34484180-86e5-4b87-a735-0650704002f5"
      },
      "source": [
        "#### 6.1.4. Mall de compra"
      ]
    },
    {
      "cell_type": "code",
      "execution_count": 13,
      "id": "af382b08-d3b8-46a8-82a2-62ea1ceb38b9",
      "metadata": {
        "colab": {
          "base_uri": "https://localhost:8080/"
        },
        "id": "af382b08-d3b8-46a8-82a2-62ea1ceb38b9",
        "outputId": "315864f2-5d1a-4ea9-8cff-4799ef8d321b"
      },
      "outputs": [
        {
          "output_type": "stream",
          "name": "stdout",
          "text": [
            "La cantidad de clientes por mall:\n",
            "Kanyon : 19823\n",
            "Forum Istanbul : 4947\n",
            "Metrocity : 15011\n",
            "Metropol AVM : 10161\n",
            "Istinye Park : 9781\n",
            "Mall of Istanbul : 19943\n",
            "Emaar Square Mall : 4811\n",
            "Cevahir AVM : 4991\n",
            "Viaport Outlet : 4914\n",
            "Zorlu Center : 5075\n",
            "\n",
            "El % de clientes por mall\n",
            "Kanyon : 19.93%\n",
            "Forum Istanbul : 4.97%\n",
            "Metrocity : 15.09%\n",
            "Metropol AVM : 10.22%\n",
            "Istinye Park : 9.83%\n",
            "Mall of Istanbul : 20.05%\n",
            "Emaar Square Mall : 4.84%\n",
            "Cevahir AVM : 5.02%\n",
            "Viaport Outlet : 4.94%\n",
            "Zorlu Center : 5.1%\n"
          ]
        }
      ],
      "source": [
        "rec_mall = {}\n",
        "datos_shopping_mall = [diccionario[\"shopping_mall\"] for diccionario in data]\n",
        "## Recuento de compras por mall:\n",
        "for mall in datos_shopping_mall:\n",
        "    if mall in rec_mall:\n",
        "        rec_mall[mall] += 1\n",
        "    else:\n",
        "        rec_mall[mall] = 1\n",
        "## Proporción\n",
        "prop_mall = {}\n",
        "for mall in rec_mall:\n",
        "    prop_mall[mall] = f\"{round(rec_mall[mall] / len(data) * 100, 2)}%\"\n",
        "\n",
        "print(\"La cantidad de clientes por mall:\")\n",
        "for mall, cantidad in rec_mall.items():\n",
        "    print(f\"{mall} : {cantidad}\")\n",
        "\n",
        "print(\"\\nEl % de clientes por mall\")\n",
        "for mall, proporcion in prop_mall.items():\n",
        "    print(f\"{mall} : {proporcion}\")\n",
        "\n",
        "#print(rec_mall) ## cantidad de clientes según mall en el que compraron\n",
        "#print(prop_mall) ## % de clientes según mall en el que compraron"
      ]
    },
    {
      "cell_type": "markdown",
      "id": "447afc22-03f1-440c-baf6-aa63529c6f73",
      "metadata": {
        "id": "447afc22-03f1-440c-baf6-aa63529c6f73"
      },
      "source": [
        "#### 6.1.5. Reordenamiento de valores (de mayor a menor y menor a mayor)"
      ]
    },
    {
      "cell_type": "code",
      "execution_count": 14,
      "id": "f9efc40c-5fc2-4ce2-8cc8-2fd38f8f5e74",
      "metadata": {
        "colab": {
          "base_uri": "https://localhost:8080/"
        },
        "id": "f9efc40c-5fc2-4ce2-8cc8-2fd38f8f5e74",
        "outputId": "12938abd-dd52-4867-c2c1-a7a747860058"
      },
      "outputs": [
        {
          "output_type": "stream",
          "name": "stdout",
          "text": [
            "El diccionario se vuelve una lista de tuplas reordenadas y se ve así:\n",
            "('Mall of Istanbul', 19943)\n",
            "('Kanyon', 19823)\n",
            "('Metrocity', 15011)\n",
            "('Metropol AVM', 10161)\n",
            "('Istinye Park', 9781)\n",
            "('Zorlu Center', 5075)\n",
            "('Cevahir AVM', 4991)\n",
            "('Forum Istanbul', 4947)\n",
            "('Viaport Outlet', 4914)\n",
            "('Emaar Square Mall', 4811)\n",
            "\n",
            "Luego al volverlo diccionario se observa de la siguiente manera:\n",
            "Mall of Istanbul : 19943\n",
            "Kanyon : 19823\n",
            "Metrocity : 15011\n",
            "Metropol AVM : 10161\n",
            "Istinye Park : 9781\n",
            "Zorlu Center : 5075\n",
            "Cevahir AVM : 4991\n",
            "Forum Istanbul : 4947\n",
            "Viaport Outlet : 4914\n",
            "Emaar Square Mall : 4811\n"
          ]
        }
      ],
      "source": [
        "## Podemos reordenar los recuentos con la función sorted() e items()\n",
        "lista_tuplas_reordenadas = sorted(rec_mall.items(), key = lambda item : item[1], reverse = True) # usar reverse = False en caso de menor a mayor\n",
        "\n",
        "print(f\"El diccionario se vuelve una lista de tuplas reordenadas y se ve así:\")\n",
        "for tupla in lista_tuplas_reordenadas:\n",
        "    print(f\"{tupla}\")\n",
        "\n",
        "## Volviendo la lista reordenada en diccionario nuevamente\n",
        "rec_mall_reordenado = dict(lista_tuplas_reordenadas)\n",
        "\n",
        "print(f\"\\nLuego al volverlo diccionario se observa de la siguiente manera:\")\n",
        "for mall, cantidad in rec_mall_reordenado.items():\n",
        "    print(f\"{mall} : {cantidad}\")\n"
      ]
    },
    {
      "cell_type": "markdown",
      "id": "916be874-cab1-491b-b557-7adad38271a8",
      "metadata": {
        "id": "916be874-cab1-491b-b557-7adad38271a8"
      },
      "source": [
        "### 6.2. Estadísticos resumen (promedio, desv. estándar, varianza, máximo, mínimo y cuartiles)"
      ]
    },
    {
      "cell_type": "markdown",
      "id": "457e096b-b89a-4a91-af4e-3e93b0a44b6d",
      "metadata": {
        "id": "457e096b-b89a-4a91-af4e-3e93b0a44b6d"
      },
      "source": [
        "Antes de obtener los promedios, debemos observar que la data que hemos leído está inicialmente como cadena de caractéres (observar que todas están encerradas entre apóstrofes `' '`). Por lo tanto, se procedera a extraer estos datos como listas y trasnformarlos a valores enteros (`int`) o con decimales (`float`).\n",
        "\n",
        "También se asumirá que los datos que tenemos en el dataset pertenece"
      ]
    },
    {
      "cell_type": "code",
      "execution_count": 15,
      "id": "0dbb916a-eab2-4a17-9641-1111e4fd665f",
      "metadata": {
        "colab": {
          "base_uri": "https://localhost:8080/"
        },
        "id": "0dbb916a-eab2-4a17-9641-1111e4fd665f",
        "outputId": "7edca266-6820-4480-e9be-d5d932ad5e09"
      },
      "outputs": [
        {
          "output_type": "stream",
          "name": "stdout",
          "text": [
            "Primeros 5 datos de edad: [28, 21, 20, 66, 53]\n",
            "Primeros 5 datos de cantidad comprada por el cliente: [5, 3, 1, 5, 4]\n",
            "Primeros 5 datos de precios: [1500.4, 1800.51, 300.08, 3000.85, 60.6]\n"
          ]
        }
      ],
      "source": [
        "datos_edad = [int(diccionario[\"age\"]) for diccionario in data]\n",
        "datos_cantidad = [int(diccionario[\"quantity\"]) for diccionario in data]\n",
        "datos_price = [float(diccionario[\"price\"]) for diccionario in data]\n",
        "\n",
        "print(f\"Primeros 5 datos de edad: {datos_edad[0:5]}\")\n",
        "print(f\"Primeros 5 datos de cantidad comprada por el cliente: {datos_cantidad[0:5]}\")\n",
        "print(f\"Primeros 5 datos de precios: {datos_price[0:5]}\")"
      ]
    },
    {
      "cell_type": "markdown",
      "id": "0870cf45-a3c8-4ef1-8362-05beb8366d4c",
      "metadata": {
        "id": "0870cf45-a3c8-4ef1-8362-05beb8366d4c"
      },
      "source": [
        "#### 6.2.1. Promedios"
      ]
    },
    {
      "cell_type": "markdown",
      "source": [
        "<img src=https://matematicasempresariales.files.wordpress.com/2014/09/cc3a1lculo-del-promedio-aritmc3a9tico.png>"
      ],
      "metadata": {
        "id": "2XzrOHZ1b4Cq"
      },
      "id": "2XzrOHZ1b4Cq"
    },
    {
      "cell_type": "code",
      "execution_count": 16,
      "id": "a5e84a30-928b-4226-9ff3-6dfa2f631fdd",
      "metadata": {
        "colab": {
          "base_uri": "https://localhost:8080/"
        },
        "id": "a5e84a30-928b-4226-9ff3-6dfa2f631fdd",
        "outputId": "bbcba6b6-cbaf-43e1-df4e-8899139c6b76"
      },
      "outputs": [
        {
          "output_type": "stream",
          "name": "stdout",
          "text": [
            "La edad promedio de los clientes es de : 43.43\n",
            "La cantidad promedio de artículos comprados por el cliente es de : 3.0\n",
            "El precio por el cuál pagan los clientes es de : 689.26\n",
            "\n",
            "Con la función de numpy tenemos los promedios de:\n",
            "Edad: 43.42708909377922\n",
            "Cantidad: 3.003428617392441\n",
            "Precio: 689.2563209226097\n"
          ]
        }
      ],
      "source": [
        "promedio_edad = sum(datos_edad) / len(datos_edad)\n",
        "promedio_cantidad = sum(datos_cantidad) / len(datos_cantidad)\n",
        "promedio_precio = sum(datos_price) / len(datos_price)\n",
        "\n",
        "print(f\"La edad promedio de los clientes es de : {round(promedio_edad, 2)}\")\n",
        "print(f\"La cantidad promedio de artículos comprados por el cliente es de : {round(promedio_cantidad, 2)}\")\n",
        "print(f\"El precio por el cuál pagan los clientes es de : {round(promedio_precio, 2)}\")\n",
        "\n",
        "## Versión Numpy\n",
        "\n",
        "promedio_edad_n = np.mean(datos_edad)\n",
        "promedio_cantidad_n = np.mean(datos_cantidad)\n",
        "promedio_precio_n = np.mean(datos_price)\n",
        "\n",
        "print(f\"\\nCon la función de numpy tenemos los promedios de:\")\n",
        "print(f\"Edad: {promedio_edad_n}\")\n",
        "print(f\"Cantidad: {promedio_cantidad_n}\")\n",
        "print(f\"Precio: {promedio_precio_n}\")"
      ]
    },
    {
      "cell_type": "markdown",
      "id": "38c7d6c3-8cec-4748-809e-476539b8b919",
      "metadata": {
        "id": "38c7d6c3-8cec-4748-809e-476539b8b919"
      },
      "source": [
        "#### 6.2.2. Varianza"
      ]
    },
    {
      "cell_type": "markdown",
      "source": [
        "<img src=https://www.sage.com/es-es/blog/wp-content/uploads/sites/8/2021/07/Varianza_1.jpg>"
      ],
      "metadata": {
        "id": "K3bn5inCc84L"
      },
      "id": "K3bn5inCc84L"
    },
    {
      "cell_type": "code",
      "execution_count": 17,
      "id": "2714908c-815f-43e2-ba47-3e651e47612d",
      "metadata": {
        "colab": {
          "base_uri": "https://localhost:8080/"
        },
        "id": "2714908c-815f-43e2-ba47-3e651e47612d",
        "outputId": "00ea543b-c65c-461c-f37d-6df9164bb267"
      },
      "outputs": [
        {
          "output_type": "stream",
          "name": "stdout",
          "text": [
            "La varianza de la edad es de 224.6994533975809\n",
            "La varianza de la edad (con numpy) es de 224.6994533975843\n"
          ]
        }
      ],
      "source": [
        "diferencias_edad_cuadrado = []\n",
        "\n",
        "for x in datos_edad:\n",
        "  diferencias_edad_cuadrado.append((x - promedio_edad)**2)\n",
        "\n",
        "varianza_edad = sum(diferencias_edad_cuadrado) / len(diferencias_edad_cuadrado)\n",
        "\n",
        "print(f\"La varianza de la edad es de {varianza_edad}\")\n",
        "print(f\"La varianza de la edad (con numpy) es de {np.var(datos_edad)}\")"
      ]
    },
    {
      "cell_type": "code",
      "source": [
        "diferencias_cantidad_cuadrado = []\n",
        "\n",
        "for x in datos_cantidad:\n",
        "  diferencias_cantidad_cuadrado.append((x - promedio_cantidad)**2)\n",
        "\n",
        "varianza_cantidad = sum(diferencias_cantidad_cuadrado) / len(data)\n",
        "\n",
        "print(f\"La varianza de la cantidad es de {varianza_cantidad}\")\n",
        "print(f\"La varianza de la cantidad (con numpy) es de {np.var(datos_cantidad)}\")"
      ],
      "metadata": {
        "colab": {
          "base_uri": "https://localhost:8080/"
        },
        "id": "djseKvcNdzZ_",
        "outputId": "8360b047-cde9-4713-8a05-a3d22c9d338b"
      },
      "id": "djseKvcNdzZ_",
      "execution_count": 18,
      "outputs": [
        {
          "output_type": "stream",
          "name": "stdout",
          "text": [
            "La varianza de la cantidad es de 1.996619954768788\n",
            "La varianza de la cantidad (con numpy) es de 1.9966199547690882\n"
          ]
        }
      ]
    },
    {
      "cell_type": "code",
      "source": [
        "diferencias_precio_cuadrado = []\n",
        "\n",
        "for x in datos_price:\n",
        "  diferencias_precio_cuadrado.append((x - promedio_precio)**2)\n",
        "\n",
        "varianza_precio = sum(diferencias_precio_cuadrado) / len(data)\n",
        "\n",
        "print(f\"La varianza del precio es de {varianza_precio}\")\n",
        "print(f\"La varianza del precio (con numpy) es de {np.var(datos_price)}\")"
      ],
      "metadata": {
        "colab": {
          "base_uri": "https://localhost:8080/"
        },
        "id": "rlLQXGdhdysy",
        "outputId": "3c1e6fe2-28ee-4ffd-d7d5-369e4d5c13f3"
      },
      "id": "rlLQXGdhdysy",
      "execution_count": 19,
      "outputs": [
        {
          "output_type": "stream",
          "name": "stdout",
          "text": [
            "La varianza del precio es de 885819.4829180958\n",
            "La varianza del precio (con numpy) es de 885819.4829175773\n"
          ]
        }
      ]
    },
    {
      "cell_type": "markdown",
      "id": "8c008096-382d-4a9c-a1d4-ec78481cd597",
      "metadata": {
        "id": "8c008096-382d-4a9c-a1d4-ec78481cd597"
      },
      "source": [
        "#### 6.2.3. Desv. estándar"
      ]
    },
    {
      "cell_type": "markdown",
      "source": [
        "<img src=https://uedufy.com/wp-content/uploads/2022/03/image-17.png>"
      ],
      "metadata": {
        "id": "XVNCB4tCf5Uk"
      },
      "id": "XVNCB4tCf5Uk"
    },
    {
      "cell_type": "code",
      "execution_count": 20,
      "id": "3a59abe4-8e61-42d9-bef8-3090469a2f0c",
      "metadata": {
        "colab": {
          "base_uri": "https://localhost:8080/"
        },
        "id": "3a59abe4-8e61-42d9-bef8-3090469a2f0c",
        "outputId": "a1479a70-5104-41d4-9c8f-d790a77243ac"
      },
      "outputs": [
        {
          "output_type": "stream",
          "name": "stdout",
          "text": [
            "Desviación estándar de edad: 14.989978432191986 | con numpy: 14.9899784321921\n",
            "Desviación estándar de la cantidad 1.413018030588707 | con numpy: 1.4130180305888131\n",
            "Desviación estándar del precio 941.1798355883406 | con numpy: 941.1798355880651\n"
          ]
        }
      ],
      "source": [
        "## Asumiendo que los datos son poblacionales, obtendremos la raiz cuadrada:\n",
        "std_edad = varianza_edad ** 0.5\n",
        "std_cantidad = varianza_cantidad ** 0.5\n",
        "std_precio = varianza_precio ** 0.5\n",
        "\n",
        "print(f\"Desviación estándar de edad: {std_edad} | con numpy: {np.std(datos_edad)}\")\n",
        "print(f\"Desviación estándar de la cantidad {std_cantidad} | con numpy: {np.std(datos_cantidad)}\")\n",
        "print(f\"Desviación estándar del precio {std_precio} | con numpy: {np.std(datos_price)}\")"
      ]
    },
    {
      "cell_type": "markdown",
      "id": "02cb1527-aed1-4b70-98e0-036204c86488",
      "metadata": {
        "id": "02cb1527-aed1-4b70-98e0-036204c86488"
      },
      "source": [
        "#### 6.2.4. Máximos y mínimos"
      ]
    },
    {
      "cell_type": "code",
      "execution_count": 21,
      "id": "a57395aa-138b-40d2-9fb4-08d332b5d9ff",
      "metadata": {
        "colab": {
          "base_uri": "https://localhost:8080/"
        },
        "id": "a57395aa-138b-40d2-9fb4-08d332b5d9ff",
        "outputId": "e9b73661-6153-430d-c0a2-5a774ab7e399"
      },
      "outputs": [
        {
          "output_type": "stream",
          "name": "stdout",
          "text": [
            "El máximo y mínimo de la edad de clientes, respectivamente, son: 69 y 18 | con numpy 69 y 18\n",
            "El máximo y mínimo de la cantidad comprada por clientes, respectivamente, son: 5 y 1 | con numpy 5 y 1\n",
            "El máximo y mínimo del precio de los productos comprados por los clientes, respectivamente, son: 5250.0 y 5.23 | con numpy 5250.0 y 5.23\n"
          ]
        }
      ],
      "source": [
        "maximo_edad = max(datos_edad)\n",
        "maximo_cantidad = max(datos_cantidad)\n",
        "maximo_precio = max(datos_price)\n",
        "\n",
        "minimo_edad = min(datos_edad)\n",
        "minimo_cantidad = min(datos_cantidad)\n",
        "minimo_precio = min(datos_price)\n",
        "\n",
        "print(f\"El máximo y mínimo de la edad de clientes, respectivamente, son: {maximo_edad} y {minimo_edad} | con numpy {np.max(datos_edad)} y {np.min(datos_edad)}\")\n",
        "print(f\"El máximo y mínimo de la cantidad comprada por clientes, respectivamente, son: {maximo_cantidad} y {minimo_cantidad} | con numpy {np.max(datos_cantidad)} y {np.min(datos_cantidad)}\")\n",
        "print(f\"El máximo y mínimo del precio de los productos comprados por los clientes, respectivamente, son: {maximo_precio} y {minimo_precio} | con numpy {np.max(datos_price)} y {np.min(datos_price)}\")"
      ]
    },
    {
      "cell_type": "markdown",
      "id": "02fa52da-4794-42e4-9743-ec5c1af975a8",
      "metadata": {
        "id": "02fa52da-4794-42e4-9743-ec5c1af975a8"
      },
      "source": [
        "#### 6.2.6. Cuartiles"
      ]
    },
    {
      "cell_type": "code",
      "execution_count": 22,
      "id": "08d1a1ed-50ab-47e4-84c3-299fdd094eca",
      "metadata": {
        "id": "08d1a1ed-50ab-47e4-84c3-299fdd094eca"
      },
      "outputs": [],
      "source": [
        "Q1, Q2, Q3 = np.quantile(datos_edad, q = (0.25, 0.5, 0.75))"
      ]
    },
    {
      "cell_type": "code",
      "execution_count": 23,
      "id": "e0d64c4f-c3bc-4c30-8f1f-7a9c300b09df",
      "metadata": {
        "colab": {
          "base_uri": "https://localhost:8080/"
        },
        "id": "e0d64c4f-c3bc-4c30-8f1f-7a9c300b09df",
        "outputId": "9aa8f941-d6a0-4679-e2c2-e2b743abed87"
      },
      "outputs": [
        {
          "output_type": "stream",
          "name": "stdout",
          "text": [
            "Los cuartiles son: 30.0, 43.0, 56.0\n"
          ]
        }
      ],
      "source": [
        "print(f\"Los cuartiles son: {Q1}, {Q2}, {Q3}\")"
      ]
    }
  ],
  "metadata": {
    "kernelspec": {
      "display_name": "Python 3 (ipykernel)",
      "language": "python",
      "name": "python3"
    },
    "language_info": {
      "codemirror_mode": {
        "name": "ipython",
        "version": 3
      },
      "file_extension": ".py",
      "mimetype": "text/x-python",
      "name": "python",
      "nbconvert_exporter": "python",
      "pygments_lexer": "ipython3",
      "version": "3.11.5"
    },
    "colab": {
      "provenance": []
    }
  },
  "nbformat": 4,
  "nbformat_minor": 5
}